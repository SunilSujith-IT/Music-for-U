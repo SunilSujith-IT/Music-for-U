





<!DOCTYPE html>
<html
  lang="en"
  
  data-color-mode="auto" data-light-theme="light" data-dark-theme="dark"
  data-a11y-animated-images="system" data-a11y-link-underlines="true"
  
  >

    <style>
:root {
  --fontStack-monospace: "Monaspace Neon", ui-monospace, SFMono-Regular, SF Mono, Menlo, Consolas, Liberation Mono, monospace !important;
}
</style>



  <head>
    <meta charset="utf-8">
  <link rel="dns-prefetch" href="https://github.githubassets.com">
  <link rel="dns-prefetch" href="https://avatars.githubusercontent.com">
  <link rel="dns-prefetch" href="https://github-cloud.s3.amazonaws.com">
  <link rel="dns-prefetch" href="https://user-images.githubusercontent.com/">
  <link rel="preconnect" href="https://github.githubassets.com" crossorigin>
  <link rel="preconnect" href="https://avatars.githubusercontent.com">

  


  <link crossorigin="anonymous" media="all" rel="stylesheet" href="https://github.githubassets.com/assets/light-d1334f2b22bf.css" /><link crossorigin="anonymous" media="all" rel="stylesheet" href="https://github.githubassets.com/assets/dark-f73a069fd33e.css" /><link data-color-theme="light_high_contrast" crossorigin="anonymous" media="all" rel="stylesheet" data-href="https://github.githubassets.com/assets/light_high_contrast-f695a361c6b2.css" /><link data-color-theme="light_colorblind" crossorigin="anonymous" media="all" rel="stylesheet" data-href="https://github.githubassets.com/assets/light_colorblind-367eb9a4565a.css" /><link data-color-theme="light_colorblind_high_contrast" crossorigin="anonymous" media="all" rel="stylesheet" data-href="https://github.githubassets.com/assets/light_colorblind_high_contrast-183adc0db479.css" /><link data-color-theme="light_tritanopia" crossorigin="anonymous" media="all" rel="stylesheet" data-href="https://github.githubassets.com/assets/light_tritanopia-2ddc677c041d.css" /><link data-color-theme="light_tritanopia_high_contrast" crossorigin="anonymous" media="all" rel="stylesheet" data-href="https://github.githubassets.com/assets/light_tritanopia_high_contrast-649962a5702a.css" /><link data-color-theme="dark_high_contrast" crossorigin="anonymous" media="all" rel="stylesheet" data-href="https://github.githubassets.com/assets/dark_high_contrast-3a0d87f72ad4.css" /><link data-color-theme="dark_colorblind" crossorigin="anonymous" media="all" rel="stylesheet" data-href="https://github.githubassets.com/assets/dark_colorblind-b17a8392e6c4.css" /><link data-color-theme="dark_colorblind_high_contrast" crossorigin="anonymous" media="all" rel="stylesheet" data-href="https://github.githubassets.com/assets/dark_colorblind_high_contrast-e9ff47cedc2b.css" /><link data-color-theme="dark_tritanopia" crossorigin="anonymous" media="all" rel="stylesheet" data-href="https://github.githubassets.com/assets/dark_tritanopia-a1cc7dba9f73.css" /><link data-color-theme="dark_tritanopia_high_contrast" crossorigin="anonymous" media="all" rel="stylesheet" data-href="https://github.githubassets.com/assets/dark_tritanopia_high_contrast-6c4dd39e2b0f.css" /><link data-color-theme="dark_dimmed" crossorigin="anonymous" media="all" rel="stylesheet" data-href="https://github.githubassets.com/assets/dark_dimmed-55459b36aa6d.css" /><link data-color-theme="dark_dimmed_high_contrast" crossorigin="anonymous" media="all" rel="stylesheet" data-href="https://github.githubassets.com/assets/dark_dimmed_high_contrast-9a0ef6e40ed3.css" />


    <link crossorigin="anonymous" media="all" rel="stylesheet" href="https://github.githubassets.com/assets/primer-primitives-dc7ca6859caf.css" />
    <link crossorigin="anonymous" media="all" rel="stylesheet" href="https://github.githubassets.com/assets/primer-03a65c451725.css" />
    <link crossorigin="anonymous" media="all" rel="stylesheet" href="https://github.githubassets.com/assets/global-8adefe036d43.css" />
    <link crossorigin="anonymous" media="all" rel="stylesheet" href="https://github.githubassets.com/assets/github-ddc22c40adec.css" />
  <link crossorigin="anonymous" media="all" rel="stylesheet" href="https://github.githubassets.com/assets/repository-b58e401b73ae.css" />
<link crossorigin="anonymous" media="all" rel="stylesheet" href="https://github.githubassets.com/assets/code-4ea853641043.css" />

  


  <script type="application/json" id="client-env">{"locale":"en","featureFlags":["alternate_user_config_repo","api_insights_show_missing_data_banner","arianotify_comprehensive_migration","attestations_filtering","attestations_sorting","billingplatform_copilot_premium_sku","client_version_header","code_scanning_security_configuration_ternary_state","codespaces_prebuild_region_target_update","contact_requests_implicit_opt_in","contentful_lp_copilot_extensions","contentful_lp_flex_features","contentful_lp_footnotes","copilot_agents_view_v2","copilot_chat_attach_images","copilot_chat_attach_multiple_images","copilot_chat_attachments","copilot_chat_disable_model_picker_while_streaming","copilot_chat_floating_sidebar_focus_trap","copilot_chat_opening_thread_switch","copilot_chat_vision_in_claude","copilot_chat_vision_skip_thread_create","copilot_chat_wholearea_dd","copilot_custom_copilots_feature_preview","copilot_dotcom_chat_file_upload","copilot_duplicate_thread","copilot_free_to_paid_telem","copilot_ftp_hyperspace_upgrade_prompt","copilot_ftp_settings_upgrade","copilot_ftp_upgrade_to_pro_from_models","copilot_ftp_your_copilot_settings","copilot_immersive_structured_model_picker","copilot_new_immersive_references_ui","copilot_no_floating_button","copilot_premium_request_quotas","copilot_read_shared_conversation","copilot_share_active_subthread","copilot_spaces_image_download_links","copilot_spaces_input_menu_select","copilot_spark_allow_empty_commit","copilot_spark_single_user_iteration","copilot_spark_use_streaming","copilot_task_oriented_assistive_prompts","copilot_workbench_connection_reload_banner","copilot_workbench_iterate_panel","copilot_workbench_preview_analytics","copilot_workbench_refresh_on_wsod","copilot_workbench_vm_agent_attachments","custom_copilots_128k_window","custom_copilots_capi_mode","direct_to_salesforce","dnd_no_touch_device_check","dotcom_chat_client_side_skills","failbot_report_error_react_apps_on_page","ghost_pilot_confidence_truncation_25","ghost_pilot_confidence_truncation_40","insert_before_patch","issues_catch_non_json_graphql_response","issues_label_search_url","issues_preserve_tokens_in_urls","issues_react_blur_item_picker_on_close","issues_react_bots_timeline_pagination","issues_react_create_milestone","issues_react_include_bots_in_pickers","issues_react_prohibit_title_fallback","issues_react_remove_placeholders","issues_template_picker_redirect","kb_semantic_api_migration","lifecycle_label_name_updates","link_contact_sales_swp_marketo","marketing_pages_search_explore_provider","memex_mwl_filter_field_delimiter","memex_roadmap_drag_style","nonreporting_relay_graphql_status_codes","primer_react_segmented_control_tooltip","primer_react_select_panel_with_modern_action_list","prx_processing_updates_indicator","remove_child_patch","report_hydro_web_vitals","repository_suggester_elastic_search","sample_network_conn_type","scheduled_reminders_updated_limits","site_homepage_contentful","site_msbuild_hide_integrations","site_msbuild_launch","site_msbuild_webgl_hero","spark_commit_on_default_branch","spark_sync_repository_after_iteration","swp_enterprise_contact_form","use_paginated_org_picker_cost_center_form","use_paginated_repo_picker_cost_center_form","viewscreen_sandbox","workbench_store_readonly"],"login":"SunilSujith-IT"}</script>
<script crossorigin="anonymous" type="application/javascript" src="https://github.githubassets.com/assets/wp-runtime-45cc8019d7a8.js" defer="defer"></script>
<script crossorigin="anonymous" type="application/javascript" src="https://github.githubassets.com/assets/vendors-node_modules_oddbird_popover-polyfill_dist_popover-fn_js-a8c266e5f126.js" defer="defer"></script>
<script crossorigin="anonymous" type="application/javascript" src="https://github.githubassets.com/assets/vendors-node_modules_github_mini-throttle_dist_index_js-node_modules_stacktrace-parser_dist_s-1d3d52-babac9434833.js" defer="defer"></script>
<script crossorigin="anonymous" type="application/javascript" src="https://github.githubassets.com/assets/ui_packages_failbot_failbot_ts-d6735ae08a7b.js" defer="defer"></script>
<script crossorigin="anonymous" type="application/javascript" src="https://github.githubassets.com/assets/environment-37836f8ad297.js" defer="defer"></script>
<script crossorigin="anonymous" type="application/javascript" src="https://github.githubassets.com/assets/vendors-node_modules_primer_behaviors_dist_esm_index_mjs-c44edfed7f0d.js" defer="defer"></script>
<script crossorigin="anonymous" type="application/javascript" src="https://github.githubassets.com/assets/vendors-node_modules_github_selector-observer_dist_index_esm_js-cdf2757bd188.js" defer="defer"></script>
<script crossorigin="anonymous" type="application/javascript" src="https://github.githubassets.com/assets/vendors-node_modules_github_relative-time-element_dist_index_js-5913bc24f35d.js" defer="defer"></script>
<script crossorigin="anonymous" type="application/javascript" src="https://github.githubassets.com/assets/vendors-node_modules_github_text-expander-element_dist_index_js-e50fb7a5fe8c.js" defer="defer"></script>
<script crossorigin="anonymous" type="application/javascript" src="https://github.githubassets.com/assets/vendors-node_modules_github_auto-complete-element_dist_index_js-node_modules_github_catalyst_-8e9f78-c1e2fb329866.js" defer="defer"></script>
<script crossorigin="anonymous" type="application/javascript" src="https://github.githubassets.com/assets/vendors-node_modules_github_filter-input-element_dist_index_js-node_modules_github_remote-inp-b5f1d7-514a92c925f0.js" defer="defer"></script>
<script crossorigin="anonymous" type="application/javascript" src="https://github.githubassets.com/assets/vendors-node_modules_github_markdown-toolbar-element_dist_index_js-6a8c7d9a08fe.js" defer="defer"></script>
<script crossorigin="anonymous" type="application/javascript" src="https://github.githubassets.com/assets/vendors-node_modules_github_file-attachment-element_dist_index_js-node_modules_primer_view-co-f03a40-c631b99b0f08.js" defer="defer"></script>
<script crossorigin="anonymous" type="application/javascript" src="https://github.githubassets.com/assets/github-elements-41297914fb58.js" defer="defer"></script>
<script crossorigin="anonymous" type="application/javascript" src="https://github.githubassets.com/assets/element-registry-9b0d03437a30.js" defer="defer"></script>
<script crossorigin="anonymous" type="application/javascript" src="https://github.githubassets.com/assets/vendors-node_modules_braintree_browser-detection_dist_browser-detection_js-node_modules_githu-bb80ec-34c4b68b1dd3.js" defer="defer"></script>
<script crossorigin="anonymous" type="application/javascript" src="https://github.githubassets.com/assets/vendors-node_modules_lit-html_lit-html_js-b93a87060d31.js" defer="defer"></script>
<script crossorigin="anonymous" type="application/javascript" src="https://github.githubassets.com/assets/vendors-node_modules_morphdom_dist_morphdom-esm_js-300e8e4e0414.js" defer="defer"></script>
<script crossorigin="anonymous" type="application/javascript" src="https://github.githubassets.com/assets/vendors-node_modules_github_turbo_dist_turbo_es2017-esm_js-595819d3686f.js" defer="defer"></script>
<script crossorigin="anonymous" type="application/javascript" src="https://github.githubassets.com/assets/vendors-node_modules_github_remote-form_dist_index_js-node_modules_delegated-events_dist_inde-893f9f-5f044d8dcee3.js" defer="defer"></script>
<script crossorigin="anonymous" type="application/javascript" src="https://github.githubassets.com/assets/vendors-node_modules_github_quote-selection_dist_index_js-node_modules_github_session-resume_-c39857-54c022ad5a68.js" defer="defer"></script>
<script crossorigin="anonymous" type="application/javascript" src="https://github.githubassets.com/assets/ui_packages_updatable-content_updatable-content_ts-7b14b8aa0beb.js" defer="defer"></script>
<script crossorigin="anonymous" type="application/javascript" src="https://github.githubassets.com/assets/app_assets_modules_github_behaviors_task-list_ts-app_assets_modules_github_sso_ts-ui_packages-900dde-f953ddf42948.js" defer="defer"></script>
<script crossorigin="anonymous" type="application/javascript" src="https://github.githubassets.com/assets/app_assets_modules_github_sticky-scroll-into-view_ts-e45aabc67d13.js" defer="defer"></script>
<script crossorigin="anonymous" type="application/javascript" src="https://github.githubassets.com/assets/app_assets_modules_github_behaviors_ajax-error_ts-app_assets_modules_github_behaviors_include-d0d0a6-a7da4270c5f4.js" defer="defer"></script>
<script crossorigin="anonymous" type="application/javascript" src="https://github.githubassets.com/assets/app_assets_modules_github_behaviors_commenting_edit_ts-app_assets_modules_github_behaviors_ht-83c235-567e0f340e27.js" defer="defer"></script>
<script crossorigin="anonymous" type="application/javascript" src="https://github.githubassets.com/assets/behaviors-0f23806a0696.js" defer="defer"></script>
<script crossorigin="anonymous" type="application/javascript" src="https://github.githubassets.com/assets/vendors-node_modules_delegated-events_dist_index_js-node_modules_github_catalyst_lib_index_js-ea8eaa-0416579acb39.js" defer="defer"></script>
<script crossorigin="anonymous" type="application/javascript" src="https://github.githubassets.com/assets/notifications-global-40e14cc64ab7.js" defer="defer"></script>
<script crossorigin="anonymous" type="application/javascript" src="https://github.githubassets.com/assets/vendors-node_modules_github_mini-throttle_dist_index_js-node_modules_github_catalyst_lib_inde-dbbea9-558c1f223d1d.js" defer="defer"></script>
<script crossorigin="anonymous" type="application/javascript" src="https://github.githubassets.com/assets/code-menu-954689af15d6.js" defer="defer"></script>
  
  <script crossorigin="anonymous" type="application/javascript" src="https://github.githubassets.com/assets/primer-react-a6755571e8d2.js" defer="defer"></script>
<script crossorigin="anonymous" type="application/javascript" src="https://github.githubassets.com/assets/react-core-8408891aa1d3.js" defer="defer"></script>
<script crossorigin="anonymous" type="application/javascript" src="https://github.githubassets.com/assets/react-lib-8705026b409a.js" defer="defer"></script>
<script crossorigin="anonymous" type="application/javascript" src="https://github.githubassets.com/assets/octicons-react-8ed765fdb7a0.js" defer="defer"></script>
<script crossorigin="anonymous" type="application/javascript" src="https://github.githubassets.com/assets/vendors-node_modules_emotion_is-prop-valid_dist_emotion-is-prop-valid_esm_js-node_modules_emo-b1c483-f0fc35efa8f8.js" defer="defer"></script>
<script crossorigin="anonymous" type="application/javascript" src="https://github.githubassets.com/assets/vendors-node_modules_cookie_index_js-node_modules_primer_live-region-element_dist_esm_index_j-1ca8f6-89ab81577c38.js" defer="defer"></script>
<script crossorigin="anonymous" type="application/javascript" src="https://github.githubassets.com/assets/vendors-node_modules_dompurify_dist_purify_es_mjs-7457ebdd1a1f.js" defer="defer"></script>
<script crossorigin="anonymous" type="application/javascript" src="https://github.githubassets.com/assets/vendors-node_modules_lodash-es__Stack_js-node_modules_lodash-es__Uint8Array_js-node_modules_l-4faaa6-16c4e2c524de.js" defer="defer"></script>
<script crossorigin="anonymous" type="application/javascript" src="https://github.githubassets.com/assets/vendors-node_modules_lodash-es_isEqual_js-a0841ced23fc.js" defer="defer"></script>
<script crossorigin="anonymous" type="application/javascript" src="https://github.githubassets.com/assets/vendors-node_modules_tanstack_react-virtual_dist_esm_index_js-807aab04afeb.js" defer="defer"></script>
<script crossorigin="anonymous" type="application/javascript" src="https://github.githubassets.com/assets/vendors-node_modules_focus-visible_dist_focus-visible_js-node_modules_github_hydro-analytics--e21ffd-0b758af67e69.js" defer="defer"></script>
<script crossorigin="anonymous" type="application/javascript" src="https://github.githubassets.com/assets/vendors-node_modules_fzy_js_index_js-node_modules_react-reverse-portal_dist_web_index_js-node-452414-05865700b943.js" defer="defer"></script>
<script crossorigin="anonymous" type="application/javascript" src="https://github.githubassets.com/assets/ui_packages_paths_index_ts-57c0372aeba2.js" defer="defer"></script>
<script crossorigin="anonymous" type="application/javascript" src="https://github.githubassets.com/assets/ui_packages_document-metadata_document-metadata_ts-ui_packages_fetch-headers_fetch-headers_ts-57e0e0-bed68ec00644.js" defer="defer"></script>
<script crossorigin="anonymous" type="application/javascript" src="https://github.githubassets.com/assets/ui_packages_ref-selector_RefSelector_tsx-68d177020242.js" defer="defer"></script>
<script crossorigin="anonymous" type="application/javascript" src="https://github.githubassets.com/assets/ui_packages_commit-attribution_index_ts-ui_packages_commit-checks-status_index_ts-ui_packages-762eaa-4bb9b612ea61.js" defer="defer"></script>
<script crossorigin="anonymous" type="application/javascript" src="https://github.githubassets.com/assets/ui_packages_use-analytics_use-analytics_ts-ui_packages_use-client-value_use-client-value_ts-u-8be754-144c1ca8ead3.js" defer="defer"></script>
<script crossorigin="anonymous" type="application/javascript" src="https://github.githubassets.com/assets/ui_packages_code-view-shared_hooks_use-canonical-object_ts-ui_packages_code-view-shared_hooks-9104f7-06876a487df5.js" defer="defer"></script>
<script crossorigin="anonymous" type="application/javascript" src="https://github.githubassets.com/assets/ui_packages_app-uuid_app-uuid_ts-ui_packages_repos-file-tree-view_repos-file-tree-view_ts-72a4b5b8380b.js" defer="defer"></script>
<script crossorigin="anonymous" type="application/javascript" src="https://github.githubassets.com/assets/app_assets_modules_github_blob-anchor_ts-ui_packages_code-nav_code-nav_ts-ui_packages_filter--8253c1-5fde020dbad1.js" defer="defer"></script>
<script crossorigin="anonymous" type="application/javascript" src="https://github.githubassets.com/assets/react-code-view-984238afc96f.js" defer="defer"></script>
<link crossorigin="anonymous" media="all" rel="stylesheet" href="https://github.githubassets.com/assets/primer-react.cbbd4414f8577721e220.module.css" />
<link crossorigin="anonymous" media="all" rel="stylesheet" href="https://github.githubassets.com/assets/react-code-view.833cfc1ade3ba9c7b2e4.module.css" />


  <title>Music-for-U/Music_recommendation_system.ipynb at main · SunilSujith-IT/Music-for-U</title>



  <meta name="route-pattern" content="/:user_id/:repository/blob/*name(/*path)" data-turbo-transient>
  <meta name="route-controller" content="blob" data-turbo-transient>
  <meta name="route-action" content="show" data-turbo-transient>
  <meta name="fetch-nonce" content="v2:348ba944-dca8-4e40-2c06-e150f47efc38">

    
  <meta name="current-catalog-service-hash" content="f3abb0cc802f3d7b95fc8762b94bdcb13bf39634c40c357301c4aa1d67a256fb">


  <meta name="request-id" content="A4AC:3CE70B:E4C622:124F91C:6874C985" data-turbo-transient="true" /><meta name="html-safe-nonce" content="9b0ee29cd478dca6642a75f0c897fbfa59b5710bfc8ba887b239d1ecfc3fb8e1" data-turbo-transient="true" /><meta name="visitor-payload" content="eyJyZWZlcnJlciI6Imh0dHBzOi8vZ2l0aHViLmNvbS9TdW5pbFN1aml0aC1JVC9NdXNpYy1mb3ItVSIsInJlcXVlc3RfaWQiOiJBNEFDOjNDRTcwQjpFNEM2MjI6MTI0RjkxQzo2ODc0Qzk4NSIsInZpc2l0b3JfaWQiOiIxOTYwNjA5NzgxNjE3MzA5NzMxIiwicmVnaW9uX2VkZ2UiOiJjZW50cmFsaW5kaWEiLCJyZWdpb25fcmVuZGVyIjoiaWFkIn0=" data-turbo-transient="true" /><meta name="visitor-hmac" content="7d81272a18a21fac847a1d3d6b18ccbcdf91b4d62307170d9f3f2c3232a308e8" data-turbo-transient="true" />


    <meta name="hovercard-subject-tag" content="repository:1019395558" data-turbo-transient>


  <meta name="github-keyboard-shortcuts" content="repository,source-code,file-tree,copilot" data-turbo-transient="true" />
  

  <meta name="selected-link" value="repo_source" data-turbo-transient>
  <link rel="assets" href="https://github.githubassets.com/">

    <meta name="google-site-verification" content="Apib7-x98H0j5cPqHWwSMm6dNU4GmODRoqxLiDzdx9I">

<meta name="octolytics-url" content="https://collector.github.com/github/collect" /><meta name="octolytics-actor-id" content="220687212" /><meta name="octolytics-actor-login" content="SunilSujith-IT" /><meta name="octolytics-actor-hash" content="227add0b77f448a280383cdc9522f1a39df37afaf8ff257674ee9c0ea911b896" />

  <meta name="analytics-location" content="/&lt;user-name&gt;/&lt;repo-name&gt;/blob/show" data-turbo-transient="true" />

  




    <meta name="user-login" content="SunilSujith-IT">

  <link rel="sudo-modal" href="/sessions/sudo_modal">

    <meta name="viewport" content="width=device-width">

    

      <meta name="description" content="Contribute to SunilSujith-IT/Music-for-U development by creating an account on GitHub.">

      <link rel="search" type="application/opensearchdescription+xml" href="/opensearch.xml" title="GitHub">

    <link rel="fluid-icon" href="https://github.com/fluidicon.png" title="GitHub">
    <meta property="fb:app_id" content="1401488693436528">
    <meta name="apple-itunes-app" content="app-id=1477376905, app-argument=https://github.com/SunilSujith-IT/Music-for-U/blob/main/Music_recommendation_system.ipynb" />

      <meta name="twitter:image" content="https://opengraph.githubassets.com/badc70f58ecf5a3b026878a073d97d6f2edb2f26dbbaf3adc0c14a37a9fa7378/SunilSujith-IT/Music-for-U" /><meta name="twitter:site" content="@github" /><meta name="twitter:card" content="summary_large_image" /><meta name="twitter:title" content="Music-for-U/Music_recommendation_system.ipynb at main · SunilSujith-IT/Music-for-U" /><meta name="twitter:description" content="Contribute to SunilSujith-IT/Music-for-U development by creating an account on GitHub." />
  <meta property="og:image" content="https://opengraph.githubassets.com/badc70f58ecf5a3b026878a073d97d6f2edb2f26dbbaf3adc0c14a37a9fa7378/SunilSujith-IT/Music-for-U" /><meta property="og:image:alt" content="Contribute to SunilSujith-IT/Music-for-U development by creating an account on GitHub." /><meta property="og:image:width" content="1200" /><meta property="og:image:height" content="600" /><meta property="og:site_name" content="GitHub" /><meta property="og:type" content="object" /><meta property="og:title" content="Music-for-U/Music_recommendation_system.ipynb at main · SunilSujith-IT/Music-for-U" /><meta property="og:url" content="https://github.com/SunilSujith-IT/Music-for-U/blob/main/Music_recommendation_system.ipynb" /><meta property="og:description" content="Contribute to SunilSujith-IT/Music-for-U development by creating an account on GitHub." />
  


      <link rel="shared-web-socket" href="wss://alive.github.com/_sockets/u/220687212/ws?session=eyJ2IjoiVjMiLCJ1IjoyMjA2ODcyMTIsInMiOjE3MzMyODQzODMsImMiOjE4MDAwNDExNzEsInQiOjE3NTI0ODQyNDN9--8b616de5abc29fbf74f3fedbbe4f374da6aab1d8090923f9180a82cf5a3ebc4e" data-refresh-url="/_alive" data-session-id="65914468f51259c6408ab798088980cabab7d1302da1004a9a5ec9f993820210">
      <link rel="shared-web-socket-src" href="/assets-cdn/worker/socket-worker-9b665c8109c8.js">


      <meta name="hostname" content="github.com">


      <meta name="keyboard-shortcuts-preference" content="all">
      <meta name="hovercards-preference" content="true">
      <meta name="announcement-preference-hovercard" content="true">

        <meta name="expected-hostname" content="github.com">


  <meta http-equiv="x-pjax-version" content="036ab50d815bcd32266573def3c27eafc0247d8b694922e25bc05aedfedb5190" data-turbo-track="reload">
  <meta http-equiv="x-pjax-csp-version" content="352e51c42d5f5727a7c545752bf34d1f83f40219e7036c6959817149a51651bc" data-turbo-track="reload">
  <meta http-equiv="x-pjax-css-version" content="c868b8bf3fdb336ff43766b692693a865defe1410e8328ef5e1f1a9931946b21" data-turbo-track="reload">
  <meta http-equiv="x-pjax-js-version" content="f4af3e496e0430d6298c8cae62295413481d11d9b47bf02f801960a821cdd0a4" data-turbo-track="reload">

  <meta name="turbo-cache-control" content="no-preview" data-turbo-transient="">

      <meta name="turbo-cache-control" content="no-cache" data-turbo-transient>

    <meta data-hydrostats="publish">

  <meta name="go-import" content="github.com/SunilSujith-IT/Music-for-U git https://github.com/SunilSujith-IT/Music-for-U.git">

  <meta name="octolytics-dimension-user_id" content="220687212" /><meta name="octolytics-dimension-user_login" content="SunilSujith-IT" /><meta name="octolytics-dimension-repository_id" content="1019395558" /><meta name="octolytics-dimension-repository_nwo" content="SunilSujith-IT/Music-for-U" /><meta name="octolytics-dimension-repository_public" content="true" /><meta name="octolytics-dimension-repository_is_fork" content="false" /><meta name="octolytics-dimension-repository_network_root_id" content="1019395558" /><meta name="octolytics-dimension-repository_network_root_nwo" content="SunilSujith-IT/Music-for-U" />



    

    <meta name="turbo-body-classes" content="logged-in env-production page-responsive">


  <meta name="browser-stats-url" content="https://api.github.com/_private/browser/stats">

  <meta name="browser-errors-url" content="https://api.github.com/_private/browser/errors">

  <meta name="release" content="7b4a4b65e52b03c129ef16acb1f8b935d5a809d1">
  <meta name="ui-target" content="full">

  <link rel="mask-icon" href="https://github.githubassets.com/assets/pinned-octocat-093da3e6fa40.svg" color="#000000">
  <link rel="alternate icon" class="js-site-favicon" type="image/png" href="https://github.githubassets.com/favicons/favicon.png">
  <link rel="icon" class="js-site-favicon" type="image/svg+xml" href="https://github.githubassets.com/favicons/favicon.svg" data-base-href="https://github.githubassets.com/favicons/favicon">

<meta name="theme-color" content="#1e2327">
<meta name="color-scheme" content="light dark" />


  <link rel="manifest" href="/manifest.json" crossOrigin="use-credentials">

  </head>

  <body class="logged-in env-production page-responsive" style="word-wrap: break-word;">
    <div data-turbo-body class="logged-in env-production page-responsive" style="word-wrap: break-word;">
      



    <div class="position-relative header-wrapper js-header-wrapper ">
      <a href="#start-of-content" data-skip-target-assigned="false" class="p-3 color-bg-accent-emphasis color-fg-on-emphasis show-on-focus js-skip-to-content">Skip to content</a>

      <span data-view-component="true" class="progress-pjax-loader Progress position-fixed width-full">
    <span style="width: 0%;" data-view-component="true" class="Progress-item progress-pjax-loader-bar left-0 top-0 color-bg-accent-emphasis"></span>
</span>      
      
      <script crossorigin="anonymous" type="application/javascript" src="https://github.githubassets.com/assets/ui_packages_ui-commands_ui-commands_ts-b755d908e0b1.js" defer="defer"></script>
<script crossorigin="anonymous" type="application/javascript" src="https://github.githubassets.com/assets/ui_packages_document-metadata_document-metadata_ts-ui_packages_hydro-analytics_hydro-analytic-f29230-07417997172c.js" defer="defer"></script>
<script crossorigin="anonymous" type="application/javascript" src="https://github.githubassets.com/assets/keyboard-shortcuts-dialog-cf9f9950f389.js" defer="defer"></script>
<link crossorigin="anonymous" media="all" rel="stylesheet" href="https://github.githubassets.com/assets/primer-react.cbbd4414f8577721e220.module.css" />
<link crossorigin="anonymous" media="all" rel="stylesheet" href="https://github.githubassets.com/assets/keyboard-shortcuts-dialog.f8fba3bd67fe74f9227b.module.css" />

<react-partial
  partial-name="keyboard-shortcuts-dialog"
  data-ssr="false"
  data-attempted-ssr="false"
  data-react-profiling="false"
>
  
  <script type="application/json" data-target="react-partial.embeddedData">{"props":{"docsUrl":"https://docs.github.com/get-started/accessibility/keyboard-shortcuts"}}</script>
  <div data-target="react-partial.reactRoot"></div>
</react-partial>




      

          

              <header class="AppHeader" role="banner">
  <h2 class="sr-only">Navigation Menu</h2>


    

    <div class="AppHeader-globalBar pb-2 js-global-bar">
      <div class="AppHeader-globalBar-start responsive-context-region">
        <div class="">
            <deferred-side-panel data-url="/_side-panels/global">
  <include-fragment data-target="deferred-side-panel.fragment" data-nonce="v2:348ba944-dca8-4e40-2c06-e150f47efc38" data-view-component="true">
  
      <button aria-label="Open global navigation menu" data-action="click:deferred-side-panel#loadPanel click:deferred-side-panel#panelOpened" data-show-dialog-id="dialog-8bb07949-9012-4a2c-9e57-6af1af7eaccf" id="dialog-show-dialog-8bb07949-9012-4a2c-9e57-6af1af7eaccf" type="button" data-view-component="true" class="Button Button--iconOnly Button--secondary Button--medium AppHeader-button p-0 color-fg-muted">  <svg aria-hidden="true" height="16" viewBox="0 0 16 16" version="1.1" width="16" data-view-component="true" class="octicon octicon-three-bars Button-visual">
    <path d="M1 2.75A.75.75 0 0 1 1.75 2h12.5a.75.75 0 0 1 0 1.5H1.75A.75.75 0 0 1 1 2.75Zm0 5A.75.75 0 0 1 1.75 7h12.5a.75.75 0 0 1 0 1.5H1.75A.75.75 0 0 1 1 7.75ZM1.75 12h12.5a.75.75 0 0 1 0 1.5H1.75a.75.75 0 0 1 0-1.5Z"></path>
</svg>
</button>

<dialog-helper>
  <dialog data-target="deferred-side-panel.panel" id="dialog-8bb07949-9012-4a2c-9e57-6af1af7eaccf" aria-modal="true" aria-labelledby="dialog-8bb07949-9012-4a2c-9e57-6af1af7eaccf-title" aria-describedby="dialog-8bb07949-9012-4a2c-9e57-6af1af7eaccf-description" data-view-component="true" class="Overlay Overlay-whenNarrow Overlay--size-small-portrait Overlay--motion-scaleFade Overlay--placement-left SidePanel Overlay--disableScroll">
    <div styles="flex-direction: row;" data-view-component="true" class="Overlay-header">
  <div class="Overlay-headerContentWrap">
    <div class="Overlay-titleWrap">
      <h1 class="Overlay-title sr-only" id="dialog-8bb07949-9012-4a2c-9e57-6af1af7eaccf-title">
        Global navigation
      </h1>
            <div data-view-component="true" class="d-flex">
      <div data-view-component="true" class="AppHeader-logo position-relative">
        <svg aria-hidden="true" height="24" viewBox="0 0 24 24" version="1.1" width="24" data-view-component="true" class="octicon octicon-mark-github">
    <path d="M12 1C5.923 1 1 5.923 1 12c0 4.867 3.149 8.979 7.521 10.436.55.096.756-.233.756-.522 0-.262-.013-1.128-.013-2.049-2.764.509-3.479-.674-3.699-1.292-.124-.317-.66-1.293-1.127-1.554-.385-.207-.936-.715-.014-.729.866-.014 1.485.797 1.691 1.128.99 1.663 2.571 1.196 3.204.907.096-.715.385-1.196.701-1.471-2.448-.275-5.005-1.224-5.005-5.432 0-1.196.426-2.186 1.128-2.956-.111-.275-.496-1.402.11-2.915 0 0 .921-.288 3.024 1.128a10.193 10.193 0 0 1 2.75-.371c.936 0 1.871.123 2.75.371 2.104-1.43 3.025-1.128 3.025-1.128.605 1.513.221 2.64.111 2.915.701.77 1.127 1.747 1.127 2.956 0 4.222-2.571 5.157-5.019 5.432.399.344.743 1.004.743 2.035 0 1.471-.014 2.654-.014 3.025 0 .289.206.632.756.522C19.851 20.979 23 16.854 23 12c0-6.077-4.922-11-11-11Z"></path>
</svg>
</div></div>
    </div>
    <div class="Overlay-actionWrap">
      <button data-close-dialog-id="dialog-8bb07949-9012-4a2c-9e57-6af1af7eaccf" aria-label="Close" aria-label="Close" type="button" data-view-component="true" class="close-button Overlay-closeButton"><svg aria-hidden="true" height="16" viewBox="0 0 16 16" version="1.1" width="16" data-view-component="true" class="octicon octicon-x">
    <path d="M3.72 3.72a.75.75 0 0 1 1.06 0L8 6.94l3.22-3.22a.749.749 0 0 1 1.275.326.749.749 0 0 1-.215.734L9.06 8l3.22 3.22a.749.749 0 0 1-.326 1.275.749.749 0 0 1-.734-.215L8 9.06l-3.22 3.22a.751.751 0 0 1-1.042-.018.751.751 0 0 1-.018-1.042L6.94 8 3.72 4.78a.75.75 0 0 1 0-1.06Z"></path>
</svg></button>
    </div>
  </div>
  
</div>
      <scrollable-region data-labelled-by="dialog-8bb07949-9012-4a2c-9e57-6af1af7eaccf-title">
        <div data-view-component="true" class="Overlay-body d-flex flex-column px-2">    <div data-view-component="true" class="d-flex flex-column mb-3">
        <nav aria-label="Site navigation" data-view-component="true" class="ActionList">
  
  <nav-list>
    <ul data-target="nav-list.topLevelList" data-view-component="true" class="ActionListWrap">
        
          
<li data-item-id="" data-targets="nav-list.items" data-view-component="true" class="ActionListItem">
    
    
    <a data-hotkey="g d" data-analytics-event="{&quot;category&quot;:&quot;Global navigation&quot;,&quot;action&quot;:&quot;HOME&quot;,&quot;label&quot;:null}" id="item-28162cc7-0392-42ba-b24c-888bf5fce0a4" href="/dashboard" data-view-component="true" class="ActionListContent ActionListContent--visual16">
        <span class="ActionListItem-visual ActionListItem-visual--leading">
          <svg aria-hidden="true" height="16" viewBox="0 0 16 16" version="1.1" width="16" data-view-component="true" class="octicon octicon-home">
    <path d="M6.906.664a1.749 1.749 0 0 1 2.187 0l5.25 4.2c.415.332.657.835.657 1.367v7.019A1.75 1.75 0 0 1 13.25 15h-3.5a.75.75 0 0 1-.75-.75V9H7v5.25a.75.75 0 0 1-.75.75h-3.5A1.75 1.75 0 0 1 1 13.25V6.23c0-.531.242-1.034.657-1.366l5.25-4.2Zm1.25 1.171a.25.25 0 0 0-.312 0l-5.25 4.2a.25.25 0 0 0-.094.196v7.019c0 .138.112.25.25.25H5.5V8.25a.75.75 0 0 1 .75-.75h3.5a.75.75 0 0 1 .75.75v5.25h2.75a.25.25 0 0 0 .25-.25V6.23a.25.25 0 0 0-.094-.195Z"></path>
</svg>
        </span>
      
        <span data-view-component="true" class="ActionListItem-label">
          Home
</span>      
</a>
  
</li>

        
          
<li data-item-id="" data-targets="nav-list.items" data-view-component="true" class="ActionListItem">
    
    
    <a data-hotkey="g i" data-analytics-event="{&quot;category&quot;:&quot;Global navigation&quot;,&quot;action&quot;:&quot;ISSUES&quot;,&quot;label&quot;:null}" id="item-855649b4-c383-420b-83c9-bff2d916ce2a" href="/issues" data-view-component="true" class="ActionListContent ActionListContent--visual16">
        <span class="ActionListItem-visual ActionListItem-visual--leading">
          <svg aria-hidden="true" height="16" viewBox="0 0 16 16" version="1.1" width="16" data-view-component="true" class="octicon octicon-issue-opened">
    <path d="M8 9.5a1.5 1.5 0 1 0 0-3 1.5 1.5 0 0 0 0 3Z"></path><path d="M8 0a8 8 0 1 1 0 16A8 8 0 0 1 8 0ZM1.5 8a6.5 6.5 0 1 0 13 0 6.5 6.5 0 0 0-13 0Z"></path>
</svg>
        </span>
      
        <span data-view-component="true" class="ActionListItem-label">
          Issues
</span>      
</a>
  
</li>

        
          
<li data-item-id="" data-targets="nav-list.items" data-view-component="true" class="ActionListItem">
    
    
    <a data-hotkey="g p" data-analytics-event="{&quot;category&quot;:&quot;Global navigation&quot;,&quot;action&quot;:&quot;PULL_REQUESTS&quot;,&quot;label&quot;:null}" id="item-0e852938-741a-411a-9848-00fa0ad75c00" href="/pulls" data-view-component="true" class="ActionListContent ActionListContent--visual16">
        <span class="ActionListItem-visual ActionListItem-visual--leading">
          <svg aria-hidden="true" height="16" viewBox="0 0 16 16" version="1.1" width="16" data-view-component="true" class="octicon octicon-git-pull-request">
    <path d="M1.5 3.25a2.25 2.25 0 1 1 3 2.122v5.256a2.251 2.251 0 1 1-1.5 0V5.372A2.25 2.25 0 0 1 1.5 3.25Zm5.677-.177L9.573.677A.25.25 0 0 1 10 .854V2.5h1A2.5 2.5 0 0 1 13.5 5v5.628a2.251 2.251 0 1 1-1.5 0V5a1 1 0 0 0-1-1h-1v1.646a.25.25 0 0 1-.427.177L7.177 3.427a.25.25 0 0 1 0-.354ZM3.75 2.5a.75.75 0 1 0 0 1.5.75.75 0 0 0 0-1.5Zm0 9.5a.75.75 0 1 0 0 1.5.75.75 0 0 0 0-1.5Zm8.25.75a.75.75 0 1 0 1.5 0 .75.75 0 0 0-1.5 0Z"></path>
</svg>
        </span>
      
        <span data-view-component="true" class="ActionListItem-label">
          Pull requests
</span>      
</a>
  
</li>

        
          
<li data-item-id="" data-targets="nav-list.items" data-item-id="projects" data-view-component="true" class="ActionListItem">
    
    
    <a data-analytics-event="{&quot;category&quot;:&quot;Global navigation&quot;,&quot;action&quot;:&quot;PROJECTS&quot;,&quot;label&quot;:null}" id="item-8dc83dda-f601-4b19-ada5-75651d71c227" href="/projects" data-view-component="true" class="ActionListContent ActionListContent--visual16">
        <span class="ActionListItem-visual ActionListItem-visual--leading">
          <svg aria-hidden="true" height="16" viewBox="0 0 16 16" version="1.1" width="16" data-view-component="true" class="octicon octicon-table">
    <path d="M0 1.75C0 .784.784 0 1.75 0h12.5C15.216 0 16 .784 16 1.75v12.5A1.75 1.75 0 0 1 14.25 16H1.75A1.75 1.75 0 0 1 0 14.25ZM6.5 6.5v8h7.75a.25.25 0 0 0 .25-.25V6.5Zm8-1.5V1.75a.25.25 0 0 0-.25-.25H6.5V5Zm-13 1.5v7.75c0 .138.112.25.25.25H5v-8ZM5 5V1.5H1.75a.25.25 0 0 0-.25.25V5Z"></path>
</svg>
        </span>
      
        <span data-view-component="true" class="ActionListItem-label">
          Projects
</span>      
</a>
  
</li>

        
          
<li data-item-id="" data-targets="nav-list.items" data-view-component="true" class="ActionListItem">
    
    
    <a data-analytics-event="{&quot;category&quot;:&quot;Global navigation&quot;,&quot;action&quot;:&quot;DISCUSSIONS&quot;,&quot;label&quot;:null}" id="item-824820a8-7ef4-4822-86b1-142fdd1e2d8b" href="/discussions" data-view-component="true" class="ActionListContent ActionListContent--visual16">
        <span class="ActionListItem-visual ActionListItem-visual--leading">
          <svg aria-hidden="true" height="16" viewBox="0 0 16 16" version="1.1" width="16" data-view-component="true" class="octicon octicon-comment-discussion">
    <path d="M1.75 1h8.5c.966 0 1.75.784 1.75 1.75v5.5A1.75 1.75 0 0 1 10.25 10H7.061l-2.574 2.573A1.458 1.458 0 0 1 2 11.543V10h-.25A1.75 1.75 0 0 1 0 8.25v-5.5C0 1.784.784 1 1.75 1ZM1.5 2.75v5.5c0 .138.112.25.25.25h1a.75.75 0 0 1 .75.75v2.19l2.72-2.72a.749.749 0 0 1 .53-.22h3.5a.25.25 0 0 0 .25-.25v-5.5a.25.25 0 0 0-.25-.25h-8.5a.25.25 0 0 0-.25.25Zm13 2a.25.25 0 0 0-.25-.25h-.5a.75.75 0 0 1 0-1.5h.5c.966 0 1.75.784 1.75 1.75v5.5A1.75 1.75 0 0 1 14.25 12H14v1.543a1.458 1.458 0 0 1-2.487 1.03L9.22 12.28a.749.749 0 0 1 .326-1.275.749.749 0 0 1 .734.215l2.22 2.22v-2.19a.75.75 0 0 1 .75-.75h1a.25.25 0 0 0 .25-.25Z"></path>
</svg>
        </span>
      
        <span data-view-component="true" class="ActionListItem-label">
          Discussions
</span>      
</a>
  
</li>

        
          
<li data-item-id="" data-targets="nav-list.items" data-view-component="true" class="ActionListItem">
    
    
    <a data-analytics-event="{&quot;category&quot;:&quot;Global navigation&quot;,&quot;action&quot;:&quot;CODESPACES&quot;,&quot;label&quot;:null}" id="item-274efca6-c624-4d91-b356-48cf6108904d" href="https://github.com/codespaces" data-view-component="true" class="ActionListContent ActionListContent--visual16">
        <span class="ActionListItem-visual ActionListItem-visual--leading">
          <svg aria-hidden="true" height="16" viewBox="0 0 16 16" version="1.1" width="16" data-view-component="true" class="octicon octicon-codespaces">
    <path d="M0 11.25c0-.966.784-1.75 1.75-1.75h12.5c.966 0 1.75.784 1.75 1.75v3A1.75 1.75 0 0 1 14.25 16H1.75A1.75 1.75 0 0 1 0 14.25Zm2-9.5C2 .784 2.784 0 3.75 0h8.5C13.216 0 14 .784 14 1.75v5a1.75 1.75 0 0 1-1.75 1.75h-8.5A1.75 1.75 0 0 1 2 6.75Zm1.75-.25a.25.25 0 0 0-.25.25v5c0 .138.112.25.25.25h8.5a.25.25 0 0 0 .25-.25v-5a.25.25 0 0 0-.25-.25Zm-2 9.5a.25.25 0 0 0-.25.25v3c0 .138.112.25.25.25h12.5a.25.25 0 0 0 .25-.25v-3a.25.25 0 0 0-.25-.25Z"></path><path d="M7 12.75a.75.75 0 0 1 .75-.75h4.5a.75.75 0 0 1 0 1.5h-4.5a.75.75 0 0 1-.75-.75Zm-4 0a.75.75 0 0 1 .75-.75h.5a.75.75 0 0 1 0 1.5h-.5a.75.75 0 0 1-.75-.75Z"></path>
</svg>
        </span>
      
        <span data-view-component="true" class="ActionListItem-label">
          Codespaces
</span>      
</a>
  
</li>

        
          
<li data-item-id="" data-targets="nav-list.items" data-view-component="true" class="ActionListItem">
    
    
    <a data-analytics-event="{&quot;category&quot;:&quot;Global navigation&quot;,&quot;action&quot;:&quot;COPILOT&quot;,&quot;label&quot;:null}" id="item-49ec2b81-850c-4e48-a46b-4e348df1040b" href="/copilot" data-view-component="true" class="ActionListContent ActionListContent--visual16">
        <span class="ActionListItem-visual ActionListItem-visual--leading">
          <svg aria-hidden="true" height="16" viewBox="0 0 16 16" version="1.1" width="16" data-view-component="true" class="octicon octicon-copilot">
    <path d="M7.998 15.035c-4.562 0-7.873-2.914-7.998-3.749V9.338c.085-.628.677-1.686 1.588-2.065.013-.07.024-.143.036-.218.029-.183.06-.384.126-.612-.201-.508-.254-1.084-.254-1.656 0-.87.128-1.769.693-2.484.579-.733 1.494-1.124 2.724-1.261 1.206-.134 2.262.034 2.944.765.05.053.096.108.139.165.044-.057.094-.112.143-.165.682-.731 1.738-.899 2.944-.765 1.23.137 2.145.528 2.724 1.261.566.715.693 1.614.693 2.484 0 .572-.053 1.148-.254 1.656.066.228.098.429.126.612.012.076.024.148.037.218.924.385 1.522 1.471 1.591 2.095v1.872c0 .766-3.351 3.795-8.002 3.795Zm0-1.485c2.28 0 4.584-1.11 5.002-1.433V7.862l-.023-.116c-.49.21-1.075.291-1.727.291-1.146 0-2.059-.327-2.71-.991A3.222 3.222 0 0 1 8 6.303a3.24 3.24 0 0 1-.544.743c-.65.664-1.563.991-2.71.991-.652 0-1.236-.081-1.727-.291l-.023.116v4.255c.419.323 2.722 1.433 5.002 1.433ZM6.762 2.83c-.193-.206-.637-.413-1.682-.297-1.019.113-1.479.404-1.713.7-.247.312-.369.789-.369 1.554 0 .793.129 1.171.308 1.371.162.181.519.379 1.442.379.853 0 1.339-.235 1.638-.54.315-.322.527-.827.617-1.553.117-.935-.037-1.395-.241-1.614Zm4.155-.297c-1.044-.116-1.488.091-1.681.297-.204.219-.359.679-.242 1.614.091.726.303 1.231.618 1.553.299.305.784.54 1.638.54.922 0 1.28-.198 1.442-.379.179-.2.308-.578.308-1.371 0-.765-.123-1.242-.37-1.554-.233-.296-.693-.587-1.713-.7Z"></path><path d="M6.25 9.037a.75.75 0 0 1 .75.75v1.501a.75.75 0 0 1-1.5 0V9.787a.75.75 0 0 1 .75-.75Zm4.25.75v1.501a.75.75 0 0 1-1.5 0V9.787a.75.75 0 0 1 1.5 0Z"></path>
</svg>
        </span>
      
        <span data-view-component="true" class="ActionListItem-label">
          Copilot
</span>      
</a>
  
</li>

        
          <li role="presentation" aria-hidden="true" data-view-component="true" class="ActionList-sectionDivider"></li>
        
          
<li data-item-id="" data-targets="nav-list.items" data-view-component="true" class="ActionListItem">
    
    
    <a data-analytics-event="{&quot;category&quot;:&quot;Global navigation&quot;,&quot;action&quot;:&quot;EXPLORE&quot;,&quot;label&quot;:null}" id="item-5c9b3694-df75-47ac-aaed-f8c27bcdf3d9" href="/explore" data-view-component="true" class="ActionListContent ActionListContent--visual16">
        <span class="ActionListItem-visual ActionListItem-visual--leading">
          <svg aria-hidden="true" height="16" viewBox="0 0 16 16" version="1.1" width="16" data-view-component="true" class="octicon octicon-telescope">
    <path d="M14.184 1.143v-.001l1.422 2.464a1.75 1.75 0 0 1-.757 2.451L3.104 11.713a1.75 1.75 0 0 1-2.275-.702l-.447-.775a1.75 1.75 0 0 1 .53-2.32L11.682.573a1.748 1.748 0 0 1 2.502.57Zm-4.709 9.32h-.001l2.644 3.863a.75.75 0 1 1-1.238.848l-1.881-2.75v2.826a.75.75 0 0 1-1.5 0v-2.826l-1.881 2.75a.75.75 0 1 1-1.238-.848l2.049-2.992a.746.746 0 0 1 .293-.253l1.809-.87a.749.749 0 0 1 .944.252ZM9.436 3.92h-.001l-4.97 3.39.942 1.63 5.42-2.61Zm3.091-2.108h.001l-1.85 1.26 1.505 2.605 2.016-.97a.247.247 0 0 0 .13-.151.247.247 0 0 0-.022-.199l-1.422-2.464a.253.253 0 0 0-.161-.119.254.254 0 0 0-.197.038ZM1.756 9.157a.25.25 0 0 0-.075.33l.447.775a.25.25 0 0 0 .325.1l1.598-.769-.83-1.436-1.465 1Z"></path>
</svg>
        </span>
      
        <span data-view-component="true" class="ActionListItem-label">
          Explore
</span>      
</a>
  
</li>

        
          
<li data-item-id="" data-targets="nav-list.items" data-view-component="true" class="ActionListItem">
    
    
    <a data-analytics-event="{&quot;category&quot;:&quot;Global navigation&quot;,&quot;action&quot;:&quot;MARKETPLACE&quot;,&quot;label&quot;:null}" id="item-482edaf2-0eac-42cb-9786-2125596882fc" href="/marketplace" data-view-component="true" class="ActionListContent ActionListContent--visual16">
        <span class="ActionListItem-visual ActionListItem-visual--leading">
          <svg aria-hidden="true" height="16" viewBox="0 0 16 16" version="1.1" width="16" data-view-component="true" class="octicon octicon-gift">
    <path d="M2 2.75A2.75 2.75 0 0 1 4.75 0c.983 0 1.873.42 2.57 1.232.268.318.497.668.68 1.042.183-.375.411-.725.68-1.044C9.376.42 10.266 0 11.25 0a2.75 2.75 0 0 1 2.45 4h.55c.966 0 1.75.784 1.75 1.75v2c0 .698-.409 1.301-1 1.582v4.918A1.75 1.75 0 0 1 13.25 16H2.75A1.75 1.75 0 0 1 1 14.25V9.332C.409 9.05 0 8.448 0 7.75v-2C0 4.784.784 4 1.75 4h.55c-.192-.375-.3-.8-.3-1.25ZM7.25 9.5H2.5v4.75c0 .138.112.25.25.25h4.5Zm1.5 0v5h4.5a.25.25 0 0 0 .25-.25V9.5Zm0-4V8h5.5a.25.25 0 0 0 .25-.25v-2a.25.25 0 0 0-.25-.25Zm-7 0a.25.25 0 0 0-.25.25v2c0 .138.112.25.25.25h5.5V5.5h-5.5Zm3-4a1.25 1.25 0 0 0 0 2.5h2.309c-.233-.818-.542-1.401-.878-1.793-.43-.502-.915-.707-1.431-.707ZM8.941 4h2.309a1.25 1.25 0 0 0 0-2.5c-.516 0-1 .205-1.43.707-.337.392-.646.975-.879 1.793Z"></path>
</svg>
        </span>
      
        <span data-view-component="true" class="ActionListItem-label">
          Marketplace
</span>      
</a>
  
</li>

</ul>  </nav-list>
</nav>

        <div data-view-component="true" class="my-3 d-flex flex-justify-center height-full">
          <span data-view-component="true">
  <svg style="box-sizing: content-box; color: var(--color-icon-primary);" width="16" height="16" viewBox="0 0 16 16" fill="none" aria-hidden="true" data-view-component="true" class="anim-rotate">
    <circle cx="8" cy="8" r="7" stroke="currentColor" stroke-opacity="0.25" stroke-width="2" vector-effect="non-scaling-stroke" fill="none" />
    <path d="M15 8a7.002 7.002 0 00-7-7" stroke="currentColor" stroke-width="2" stroke-linecap="round" vector-effect="non-scaling-stroke" />
</svg>    <span class="sr-only">Loading</span>
</span>
</div>
</div>
      <div data-view-component="true" class="flex-1"></div>


      <div data-view-component="true" class="px-2">      <p class="color-fg-subtle text-small text-light">&copy; 2025 GitHub, Inc.</p>

      <div data-view-component="true" class="d-flex flex-wrap text-small text-light">
          <a target="_blank" href="https://github.com/about" data-view-component="true" class="Link mr-2">About</a>
          <a target="_blank" href="https://github.blog" data-view-component="true" class="Link mr-2">Blog</a>
          <a target="_blank" href="https://docs.github.com/site-policy/github-terms/github-terms-of-service" data-view-component="true" class="Link mr-2">Terms</a>
          <a target="_blank" href="https://docs.github.com/site-policy/privacy-policies/github-privacy-statement" data-view-component="true" class="Link mr-2">Privacy</a>
          <a target="_blank" href="https://github.com/security" data-view-component="true" class="Link mr-2">Security</a>
          <a target="_blank" href="https://www.githubstatus.com/" data-view-component="true" class="Link mr-3">Status</a>

</div></div>
</div>
      </scrollable-region>
      
</dialog></dialog-helper>


  <div data-show-on-forbidden-error hidden>
    <div class="Box">
  <div class="blankslate-container">
    <div data-view-component="true" class="blankslate blankslate-spacious color-bg-default rounded-2">
      

      <h3 data-view-component="true" class="blankslate-heading">        Uh oh!
</h3>
      <p data-view-component="true">        <p class="color-fg-muted my-2 mb-2 ws-normal">There was an error while loading. <a class="Link--inTextBlock" data-turbo="false" href="" aria-label="Please reload this page">Please reload this page</a>.</p>
</p>

</div>  </div>
</div>  </div>
</include-fragment></deferred-side-panel>
        </div>

        <a class="AppHeader-logo ml-1 "
          href="https://github.com/"
          data-hotkey="g d"
          aria-label="Homepage "
          data-turbo="false"
          data-analytics-event="{&quot;category&quot;:&quot;Header&quot;,&quot;action&quot;:&quot;go to dashboard&quot;,&quot;label&quot;:&quot;icon:logo&quot;}"
        >
          <svg height="32" aria-hidden="true" viewBox="0 0 24 24" version="1.1" width="32" data-view-component="true" class="octicon octicon-mark-github v-align-middle">
    <path d="M12 1C5.923 1 1 5.923 1 12c0 4.867 3.149 8.979 7.521 10.436.55.096.756-.233.756-.522 0-.262-.013-1.128-.013-2.049-2.764.509-3.479-.674-3.699-1.292-.124-.317-.66-1.293-1.127-1.554-.385-.207-.936-.715-.014-.729.866-.014 1.485.797 1.691 1.128.99 1.663 2.571 1.196 3.204.907.096-.715.385-1.196.701-1.471-2.448-.275-5.005-1.224-5.005-5.432 0-1.196.426-2.186 1.128-2.956-.111-.275-.496-1.402.11-2.915 0 0 .921-.288 3.024 1.128a10.193 10.193 0 0 1 2.75-.371c.936 0 1.871.123 2.75.371 2.104-1.43 3.025-1.128 3.025-1.128.605 1.513.221 2.64.111 2.915.701.77 1.127 1.747 1.127 2.956 0 4.222-2.571 5.157-5.019 5.432.399.344.743 1.004.743 2.035 0 1.471-.014 2.654-.014 3.025 0 .289.206.632.756.522C19.851 20.979 23 16.854 23 12c0-6.077-4.922-11-11-11Z"></path>
</svg>
        </a>

          <context-region-controller
  class="AppHeader-context responsive-context-region"
  data-max-items="5"
  
>
  <div class="AppHeader-context-full">
    <nav role="navigation" aria-label="GitHub Breadcrumb">
      
<context-region data-target="context-region-controller.contextRegion" role="list"  data-action="context-region-changed:context-region-controller#crumbsChanged">
    <context-region-crumb
      data-crumb-id="contextregion-usercrumb-sunilsujith-it"
      data-targets="context-region.crumbs"
      data-label="SunilSujith-IT"
      data-href="/SunilSujith-IT"
      data-pre-rendered
      role="listitem"
      
    >
      <a data-target="context-region-crumb.linkElement" data-analytics-event="{&quot;category&quot;:&quot;SiteHeaderComponent&quot;,&quot;action&quot;:&quot;context_region_crumb&quot;,&quot;label&quot;:&quot;SunilSujith-IT&quot;,&quot;screen_size&quot;:&quot;full&quot;}" data-hovercard-type="user" data-hovercard-url="/users/SunilSujith-IT/hovercard" data-octo-click="hovercard-link-click" data-octo-dimensions="link_type:self" href="/SunilSujith-IT" id="contextregion-usercrumb-sunilsujith-it-link" data-view-component="true" class="AppHeader-context-item">
        <span data-target="context-region-crumb.labelElement" class="AppHeader-context-item-label ">
          SunilSujith-IT
        </span>

</a>
      <context-region-divider data-target="context-region-crumb.dividerElement" data-pre-rendered >
  <span class="AppHeader-context-item-separator">
    <span class="sr-only">/</span>
    <svg width="16" height="16" viewBox="0 0 16 16" xmlns="http://www.w3.org/2000/svg" aria-hidden="true">
      <path d="M10.956 1.27994L6.06418 14.7201L5 14.7201L9.89181 1.27994L10.956 1.27994Z" fill="currentcolor" />
    </svg>
  </span>
</context-region-divider>

    </context-region-crumb>

      <li data-target="context-region-controller.overflowMenuContainer context-region.overflowMenuContainer" role="listitem" hidden>
        <action-menu data-target="context-region-controller.overflowActionMenu" data-select-variant="none" data-view-component="true">
  <focus-group direction="vertical" mnemonics retain>
    <button id="action-menu-05995379-c1c3-48c9-b11a-029e3e02cd13-button" popovertarget="action-menu-05995379-c1c3-48c9-b11a-029e3e02cd13-overlay" aria-controls="action-menu-05995379-c1c3-48c9-b11a-029e3e02cd13-list" aria-haspopup="true" aria-labelledby="tooltip-d510b5ce-ae1c-4d21-9ee1-23bffffaec03" type="button" data-view-component="true" class="Button Button--iconOnly Button--secondary Button--medium">  <svg aria-hidden="true" height="16" viewBox="0 0 16 16" version="1.1" width="16" data-view-component="true" class="octicon octicon-kebab-horizontal Button-visual">
    <path d="M8 9a1.5 1.5 0 1 0 0-3 1.5 1.5 0 0 0 0 3ZM1.5 9a1.5 1.5 0 1 0 0-3 1.5 1.5 0 0 0 0 3Zm13 0a1.5 1.5 0 1 0 0-3 1.5 1.5 0 0 0 0 3Z"></path>
</svg>
</button><tool-tip id="tooltip-d510b5ce-ae1c-4d21-9ee1-23bffffaec03" for="action-menu-05995379-c1c3-48c9-b11a-029e3e02cd13-button" popover="manual" data-direction="s" data-type="label" data-view-component="true" class="sr-only position-absolute">Show more breadcrumb items</tool-tip>


<anchored-position data-target="action-menu.overlay" id="action-menu-05995379-c1c3-48c9-b11a-029e3e02cd13-overlay" anchor="action-menu-05995379-c1c3-48c9-b11a-029e3e02cd13-button" align="start" side="outside-bottom" anchor-offset="normal" popover="auto" data-view-component="true">
  <div data-view-component="true" class="Overlay Overlay--size-auto">
    
      <div data-view-component="true" class="Overlay-body Overlay-body--paddingNone">          <action-list>
  <div data-view-component="true">
    <ul aria-labelledby="action-menu-05995379-c1c3-48c9-b11a-029e3e02cd13-button" id="action-menu-05995379-c1c3-48c9-b11a-029e3e02cd13-list" role="menu" data-view-component="true" class="ActionListWrap--inset ActionListWrap">
        <li hidden="hidden" data-crumb-id="contextregion-usercrumb-sunilsujith-it" data-targets="context-region.overflowCrumbs action-list.items" data-analytics-event="{&quot;category&quot;:&quot;SiteHeaderComponent&quot;,&quot;action&quot;:&quot;context_region_overflow_menu_crumb&quot;,&quot;label&quot;:&quot;global-navigation&quot;}" role="none" data-view-component="true" class="ActionListItem">
    
    
    <a tabindex="-1" id="item-4dd53a80-76cd-4773-aff2-c705cf33ba71" href="/SunilSujith-IT" role="menuitem" data-view-component="true" class="ActionListContent">
      
        <span data-view-component="true" class="ActionListItem-label">
          SunilSujith-IT
</span>      
</a>
  
</li>
        <li hidden="hidden" data-crumb-id="contextregion-repositorycrumb-music-for-u" data-targets="context-region.overflowCrumbs action-list.items" data-analytics-event="{&quot;category&quot;:&quot;SiteHeaderComponent&quot;,&quot;action&quot;:&quot;context_region_overflow_menu_crumb&quot;,&quot;label&quot;:&quot;global-navigation&quot;}" role="none" data-view-component="true" class="ActionListItem">
    
    
    <a tabindex="-1" id="item-06fd0007-158e-4014-a30a-51e4ae3729f1" href="/SunilSujith-IT/Music-for-U" role="menuitem" data-view-component="true" class="ActionListContent">
      
        <span data-view-component="true" class="ActionListItem-label">
          Music-for-U
</span>      
</a>
  
</li>
</ul>    
</div></action-list>


</div>
      
</div></anchored-position>  </focus-group>
</action-menu>
  <context-region-divider data-target="context-region-crumb.dividerElement" data-pre-rendered >
  <span class="AppHeader-context-item-separator">
    <span class="sr-only">/</span>
    <svg width="16" height="16" viewBox="0 0 16 16" xmlns="http://www.w3.org/2000/svg" aria-hidden="true">
      <path d="M10.956 1.27994L6.06418 14.7201L5 14.7201L9.89181 1.27994L10.956 1.27994Z" fill="currentcolor" />
    </svg>
  </span>
</context-region-divider>


      </li>
    <context-region-crumb
      data-crumb-id="contextregion-repositorycrumb-music-for-u"
      data-targets="context-region.crumbs"
      data-label="Music-for-U"
      data-href="/SunilSujith-IT/Music-for-U"
      data-pre-rendered
      role="listitem"
      
    >
      <a data-target="context-region-crumb.linkElement" data-analytics-event="{&quot;category&quot;:&quot;SiteHeaderComponent&quot;,&quot;action&quot;:&quot;context_region_crumb&quot;,&quot;label&quot;:&quot;Music-for-U&quot;,&quot;screen_size&quot;:&quot;full&quot;}" href="/SunilSujith-IT/Music-for-U" id="contextregion-repositorycrumb-music-for-u-link" data-view-component="true" class="AppHeader-context-item">
        <span data-target="context-region-crumb.labelElement" class="AppHeader-context-item-label ">
          Music-for-U
        </span>

</a>
      <context-region-divider data-target="context-region-crumb.dividerElement" data-pre-rendered >
  <span class="AppHeader-context-item-separator">
    <span class="sr-only">/</span>
    <svg width="16" height="16" viewBox="0 0 16 16" xmlns="http://www.w3.org/2000/svg" aria-hidden="true">
      <path d="M10.956 1.27994L6.06418 14.7201L5 14.7201L9.89181 1.27994L10.956 1.27994Z" fill="currentcolor" />
    </svg>
  </span>
</context-region-divider>

    </context-region-crumb>

</context-region>

    </nav>
  </div>
</context-region-controller>

      </div>
      <div class="AppHeader-globalBar-end">
          <div class="AppHeader-search" >
              


<qbsearch-input class="search-input" data-scope="repo:SunilSujith-IT/Music-for-U" data-custom-scopes-path="/search/custom_scopes" data-delete-custom-scopes-csrf="-6p8Yqv03XH3R9K-olP-B3zclG37DUP7R3hr3P2-Bew8E1vHmV7jhVANIAVSJEMheooU3CyrRIdrYL1s8HuhxQ" data-max-custom-scopes="10" data-header-redesign-enabled="true" data-initial-value="" data-blackbird-suggestions-path="/search/suggestions" data-jump-to-suggestions-path="/_graphql/GetSuggestedNavigationDestinations" data-current-repository="SunilSujith-IT/Music-for-U" data-current-org="" data-current-owner="SunilSujith-IT" data-logged-in="true" data-copilot-chat-enabled="false" data-nl-search-enabled="false">
  <div
    class="search-input-container search-with-dialog position-relative d-flex flex-row flex-items-center height-auto color-bg-transparent border-0 color-fg-subtle mx-0"
    data-action="click:qbsearch-input#searchInputContainerClicked"
  >
      
            <button type="button" data-action="click:qbsearch-input#handleExpand" class="AppHeader-button AppHeader-search-whenNarrow" aria-label="Search or jump to…" aria-expanded="false" aria-haspopup="dialog">
            <svg aria-hidden="true" height="16" viewBox="0 0 16 16" version="1.1" width="16" data-view-component="true" class="octicon octicon-search">
    <path d="M10.68 11.74a6 6 0 0 1-7.922-8.982 6 6 0 0 1 8.982 7.922l3.04 3.04a.749.749 0 0 1-.326 1.275.749.749 0 0 1-.734-.215ZM11.5 7a4.499 4.499 0 1 0-8.997 0A4.499 4.499 0 0 0 11.5 7Z"></path>
</svg>
          </button>


<div class="AppHeader-search-whenRegular">
  <div class="AppHeader-search-wrap AppHeader-search-wrap--hasTrailing">
    <div class="AppHeader-search-control AppHeader-search-control-overflow">
      <label
        for="AppHeader-searchInput"
        aria-label="Search or jump to…"
        class="AppHeader-search-visual--leading"
      >
        <svg aria-hidden="true" height="16" viewBox="0 0 16 16" version="1.1" width="16" data-view-component="true" class="octicon octicon-search">
    <path d="M10.68 11.74a6 6 0 0 1-7.922-8.982 6 6 0 0 1 8.982 7.922l3.04 3.04a.749.749 0 0 1-.326 1.275.749.749 0 0 1-.734-.215ZM11.5 7a4.499 4.499 0 1 0-8.997 0A4.499 4.499 0 0 0 11.5 7Z"></path>
</svg>
      </label>

                <button
            type="button"
            data-target="qbsearch-input.inputButton"
            data-action="click:qbsearch-input#handleExpand"
            class="AppHeader-searchButton form-control input-contrast text-left color-fg-subtle no-wrap"
            data-hotkey="s,/"
            data-analytics-event="{&quot;location&quot;:&quot;navbar&quot;,&quot;action&quot;:&quot;searchbar&quot;,&quot;context&quot;:&quot;global&quot;,&quot;tag&quot;:&quot;input&quot;,&quot;label&quot;:&quot;searchbar_input_global_navbar&quot;}"
            aria-describedby="search-error-message-flash"
          >
            <div class="overflow-hidden">
              <span id="qb-input-query" data-target="qbsearch-input.inputButtonText">
                  Type <kbd class="AppHeader-search-kbd">/</kbd> to search
              </span>
            </div>
          </button>

    </div>


  </div>
</div>

    <input type="hidden" name="type" class="js-site-search-type-field">

    
<div class="Overlay--hidden " data-modal-dialog-overlay>
  <modal-dialog data-action="close:qbsearch-input#handleClose cancel:qbsearch-input#handleClose" data-target="qbsearch-input.searchSuggestionsDialog" role="dialog" id="search-suggestions-dialog" aria-modal="true" aria-labelledby="search-suggestions-dialog-header" data-view-component="true" class="Overlay Overlay--width-medium Overlay--height-auto">
      <h1 id="search-suggestions-dialog-header" class="sr-only">Search code, repositories, users, issues, pull requests...</h1>
    <div class="Overlay-body Overlay-body--paddingNone">
      
          <div data-view-component="true">        <div class="search-suggestions position-absolute width-full color-shadow-large border color-fg-default color-bg-default overflow-hidden d-flex flex-column query-builder-container"
          style="border-radius: 12px;"
          data-target="qbsearch-input.queryBuilderContainer"
          hidden
        >
          <!-- '"` --><!-- </textarea></xmp> --></option></form><form id="query-builder-test-form" action="" accept-charset="UTF-8" method="get">
  <query-builder data-target="qbsearch-input.queryBuilder" id="query-builder-query-builder-test" data-filter-key=":" data-view-component="true" class="QueryBuilder search-query-builder">
    <div class="FormControl FormControl--fullWidth">
      <label id="query-builder-test-label" for="query-builder-test" class="FormControl-label sr-only">
        Search
      </label>
      <div
        class="QueryBuilder-StyledInput width-fit "
        data-target="query-builder.styledInput"
      >
          <span id="query-builder-test-leadingvisual-wrap" class="FormControl-input-leadingVisualWrap QueryBuilder-leadingVisualWrap">
            <svg aria-hidden="true" height="16" viewBox="0 0 16 16" version="1.1" width="16" data-view-component="true" class="octicon octicon-search FormControl-input-leadingVisual">
    <path d="M10.68 11.74a6 6 0 0 1-7.922-8.982 6 6 0 0 1 8.982 7.922l3.04 3.04a.749.749 0 0 1-.326 1.275.749.749 0 0 1-.734-.215ZM11.5 7a4.499 4.499 0 1 0-8.997 0A4.499 4.499 0 0 0 11.5 7Z"></path>
</svg>
          </span>
        <div data-target="query-builder.styledInputContainer" class="QueryBuilder-StyledInputContainer">
          <div
            aria-hidden="true"
            class="QueryBuilder-StyledInputContent"
            data-target="query-builder.styledInputContent"
          ></div>
          <div class="QueryBuilder-InputWrapper">
            <div aria-hidden="true" class="QueryBuilder-Sizer" data-target="query-builder.sizer"></div>
            <input id="query-builder-test" name="query-builder-test" value="" autocomplete="off" type="text" role="combobox" spellcheck="false" aria-expanded="false" aria-describedby="validation-8cf039a4-3c2d-45c6-b448-8c3d2a2999aa" data-target="query-builder.input" data-action="
          input:query-builder#inputChange
          blur:query-builder#inputBlur
          keydown:query-builder#inputKeydown
          focus:query-builder#inputFocus
        " data-view-component="true" class="FormControl-input QueryBuilder-Input FormControl-medium" />
          </div>
        </div>
          <span class="sr-only" id="query-builder-test-clear">Clear</span>
          <button role="button" id="query-builder-test-clear-button" aria-labelledby="query-builder-test-clear query-builder-test-label" data-target="query-builder.clearButton" data-action="
                click:query-builder#clear
                focus:query-builder#clearButtonFocus
                blur:query-builder#clearButtonBlur
              " variant="small" hidden="hidden" type="button" data-view-component="true" class="Button Button--iconOnly Button--invisible Button--medium mr-1 px-2 py-0 d-flex flex-items-center rounded-1 color-fg-muted">  <svg aria-hidden="true" height="16" viewBox="0 0 16 16" version="1.1" width="16" data-view-component="true" class="octicon octicon-x-circle-fill Button-visual">
    <path d="M2.343 13.657A8 8 0 1 1 13.658 2.343 8 8 0 0 1 2.343 13.657ZM6.03 4.97a.751.751 0 0 0-1.042.018.751.751 0 0 0-.018 1.042L6.94 8 4.97 9.97a.749.749 0 0 0 .326 1.275.749.749 0 0 0 .734-.215L8 9.06l1.97 1.97a.749.749 0 0 0 1.275-.326.749.749 0 0 0-.215-.734L9.06 8l1.97-1.97a.749.749 0 0 0-.326-1.275.749.749 0 0 0-.734.215L8 6.94Z"></path>
</svg>
</button>

      </div>
      <template id="search-icon">
  <svg aria-hidden="true" height="16" viewBox="0 0 16 16" version="1.1" width="16" data-view-component="true" class="octicon octicon-search">
    <path d="M10.68 11.74a6 6 0 0 1-7.922-8.982 6 6 0 0 1 8.982 7.922l3.04 3.04a.749.749 0 0 1-.326 1.275.749.749 0 0 1-.734-.215ZM11.5 7a4.499 4.499 0 1 0-8.997 0A4.499 4.499 0 0 0 11.5 7Z"></path>
</svg>
</template>

<template id="code-icon">
  <svg aria-hidden="true" height="16" viewBox="0 0 16 16" version="1.1" width="16" data-view-component="true" class="octicon octicon-code">
    <path d="m11.28 3.22 4.25 4.25a.75.75 0 0 1 0 1.06l-4.25 4.25a.749.749 0 0 1-1.275-.326.749.749 0 0 1 .215-.734L13.94 8l-3.72-3.72a.749.749 0 0 1 .326-1.275.749.749 0 0 1 .734.215Zm-6.56 0a.751.751 0 0 1 1.042.018.751.751 0 0 1 .018 1.042L2.06 8l3.72 3.72a.749.749 0 0 1-.326 1.275.749.749 0 0 1-.734-.215L.47 8.53a.75.75 0 0 1 0-1.06Z"></path>
</svg>
</template>

<template id="file-code-icon">
  <svg aria-hidden="true" height="16" viewBox="0 0 16 16" version="1.1" width="16" data-view-component="true" class="octicon octicon-file-code">
    <path d="M4 1.75C4 .784 4.784 0 5.75 0h5.586c.464 0 .909.184 1.237.513l2.914 2.914c.329.328.513.773.513 1.237v8.586A1.75 1.75 0 0 1 14.25 15h-9a.75.75 0 0 1 0-1.5h9a.25.25 0 0 0 .25-.25V6h-2.75A1.75 1.75 0 0 1 10 4.25V1.5H5.75a.25.25 0 0 0-.25.25v2.5a.75.75 0 0 1-1.5 0Zm1.72 4.97a.75.75 0 0 1 1.06 0l2 2a.75.75 0 0 1 0 1.06l-2 2a.749.749 0 0 1-1.275-.326.749.749 0 0 1 .215-.734l1.47-1.47-1.47-1.47a.75.75 0 0 1 0-1.06ZM3.28 7.78 1.81 9.25l1.47 1.47a.751.751 0 0 1-.018 1.042.751.751 0 0 1-1.042.018l-2-2a.75.75 0 0 1 0-1.06l2-2a.751.751 0 0 1 1.042.018.751.751 0 0 1 .018 1.042Zm8.22-6.218V4.25c0 .138.112.25.25.25h2.688l-.011-.013-2.914-2.914-.013-.011Z"></path>
</svg>
</template>

<template id="history-icon">
  <svg aria-hidden="true" height="16" viewBox="0 0 16 16" version="1.1" width="16" data-view-component="true" class="octicon octicon-history">
    <path d="m.427 1.927 1.215 1.215a8.002 8.002 0 1 1-1.6 5.685.75.75 0 1 1 1.493-.154 6.5 6.5 0 1 0 1.18-4.458l1.358 1.358A.25.25 0 0 1 3.896 6H.25A.25.25 0 0 1 0 5.75V2.104a.25.25 0 0 1 .427-.177ZM7.75 4a.75.75 0 0 1 .75.75v2.992l2.028.812a.75.75 0 0 1-.557 1.392l-2.5-1A.751.751 0 0 1 7 8.25v-3.5A.75.75 0 0 1 7.75 4Z"></path>
</svg>
</template>

<template id="repo-icon">
  <svg aria-hidden="true" height="16" viewBox="0 0 16 16" version="1.1" width="16" data-view-component="true" class="octicon octicon-repo">
    <path d="M2 2.5A2.5 2.5 0 0 1 4.5 0h8.75a.75.75 0 0 1 .75.75v12.5a.75.75 0 0 1-.75.75h-2.5a.75.75 0 0 1 0-1.5h1.75v-2h-8a1 1 0 0 0-.714 1.7.75.75 0 1 1-1.072 1.05A2.495 2.495 0 0 1 2 11.5Zm10.5-1h-8a1 1 0 0 0-1 1v6.708A2.486 2.486 0 0 1 4.5 9h8ZM5 12.25a.25.25 0 0 1 .25-.25h3.5a.25.25 0 0 1 .25.25v3.25a.25.25 0 0 1-.4.2l-1.45-1.087a.249.249 0 0 0-.3 0L5.4 15.7a.25.25 0 0 1-.4-.2Z"></path>
</svg>
</template>

<template id="bookmark-icon">
  <svg aria-hidden="true" height="16" viewBox="0 0 16 16" version="1.1" width="16" data-view-component="true" class="octicon octicon-bookmark">
    <path d="M3 2.75C3 1.784 3.784 1 4.75 1h6.5c.966 0 1.75.784 1.75 1.75v11.5a.75.75 0 0 1-1.227.579L8 11.722l-3.773 3.107A.751.751 0 0 1 3 14.25Zm1.75-.25a.25.25 0 0 0-.25.25v9.91l3.023-2.489a.75.75 0 0 1 .954 0l3.023 2.49V2.75a.25.25 0 0 0-.25-.25Z"></path>
</svg>
</template>

<template id="plus-circle-icon">
  <svg aria-hidden="true" height="16" viewBox="0 0 16 16" version="1.1" width="16" data-view-component="true" class="octicon octicon-plus-circle">
    <path d="M8 0a8 8 0 1 1 0 16A8 8 0 0 1 8 0ZM1.5 8a6.5 6.5 0 1 0 13 0 6.5 6.5 0 0 0-13 0Zm7.25-3.25v2.5h2.5a.75.75 0 0 1 0 1.5h-2.5v2.5a.75.75 0 0 1-1.5 0v-2.5h-2.5a.75.75 0 0 1 0-1.5h2.5v-2.5a.75.75 0 0 1 1.5 0Z"></path>
</svg>
</template>

<template id="circle-icon">
  <svg aria-hidden="true" height="16" viewBox="0 0 16 16" version="1.1" width="16" data-view-component="true" class="octicon octicon-dot-fill">
    <path d="M8 4a4 4 0 1 1 0 8 4 4 0 0 1 0-8Z"></path>
</svg>
</template>

<template id="trash-icon">
  <svg aria-hidden="true" height="16" viewBox="0 0 16 16" version="1.1" width="16" data-view-component="true" class="octicon octicon-trash">
    <path d="M11 1.75V3h2.25a.75.75 0 0 1 0 1.5H2.75a.75.75 0 0 1 0-1.5H5V1.75C5 .784 5.784 0 6.75 0h2.5C10.216 0 11 .784 11 1.75ZM4.496 6.675l.66 6.6a.25.25 0 0 0 .249.225h5.19a.25.25 0 0 0 .249-.225l.66-6.6a.75.75 0 0 1 1.492.149l-.66 6.6A1.748 1.748 0 0 1 10.595 15h-5.19a1.75 1.75 0 0 1-1.741-1.575l-.66-6.6a.75.75 0 1 1 1.492-.15ZM6.5 1.75V3h3V1.75a.25.25 0 0 0-.25-.25h-2.5a.25.25 0 0 0-.25.25Z"></path>
</svg>
</template>

<template id="team-icon">
  <svg aria-hidden="true" height="16" viewBox="0 0 16 16" version="1.1" width="16" data-view-component="true" class="octicon octicon-people">
    <path d="M2 5.5a3.5 3.5 0 1 1 5.898 2.549 5.508 5.508 0 0 1 3.034 4.084.75.75 0 1 1-1.482.235 4 4 0 0 0-7.9 0 .75.75 0 0 1-1.482-.236A5.507 5.507 0 0 1 3.102 8.05 3.493 3.493 0 0 1 2 5.5ZM11 4a3.001 3.001 0 0 1 2.22 5.018 5.01 5.01 0 0 1 2.56 3.012.749.749 0 0 1-.885.954.752.752 0 0 1-.549-.514 3.507 3.507 0 0 0-2.522-2.372.75.75 0 0 1-.574-.73v-.352a.75.75 0 0 1 .416-.672A1.5 1.5 0 0 0 11 5.5.75.75 0 0 1 11 4Zm-5.5-.5a2 2 0 1 0-.001 3.999A2 2 0 0 0 5.5 3.5Z"></path>
</svg>
</template>

<template id="project-icon">
  <svg aria-hidden="true" height="16" viewBox="0 0 16 16" version="1.1" width="16" data-view-component="true" class="octicon octicon-project">
    <path d="M1.75 0h12.5C15.216 0 16 .784 16 1.75v12.5A1.75 1.75 0 0 1 14.25 16H1.75A1.75 1.75 0 0 1 0 14.25V1.75C0 .784.784 0 1.75 0ZM1.5 1.75v12.5c0 .138.112.25.25.25h12.5a.25.25 0 0 0 .25-.25V1.75a.25.25 0 0 0-.25-.25H1.75a.25.25 0 0 0-.25.25ZM11.75 3a.75.75 0 0 1 .75.75v7.5a.75.75 0 0 1-1.5 0v-7.5a.75.75 0 0 1 .75-.75Zm-8.25.75a.75.75 0 0 1 1.5 0v5.5a.75.75 0 0 1-1.5 0ZM8 3a.75.75 0 0 1 .75.75v3.5a.75.75 0 0 1-1.5 0v-3.5A.75.75 0 0 1 8 3Z"></path>
</svg>
</template>

<template id="pencil-icon">
  <svg aria-hidden="true" height="16" viewBox="0 0 16 16" version="1.1" width="16" data-view-component="true" class="octicon octicon-pencil">
    <path d="M11.013 1.427a1.75 1.75 0 0 1 2.474 0l1.086 1.086a1.75 1.75 0 0 1 0 2.474l-8.61 8.61c-.21.21-.47.364-.756.445l-3.251.93a.75.75 0 0 1-.927-.928l.929-3.25c.081-.286.235-.547.445-.758l8.61-8.61Zm.176 4.823L9.75 4.81l-6.286 6.287a.253.253 0 0 0-.064.108l-.558 1.953 1.953-.558a.253.253 0 0 0 .108-.064Zm1.238-3.763a.25.25 0 0 0-.354 0L10.811 3.75l1.439 1.44 1.263-1.263a.25.25 0 0 0 0-.354Z"></path>
</svg>
</template>

<template id="copilot-icon">
  <svg aria-hidden="true" height="16" viewBox="0 0 16 16" version="1.1" width="16" data-view-component="true" class="octicon octicon-copilot">
    <path d="M7.998 15.035c-4.562 0-7.873-2.914-7.998-3.749V9.338c.085-.628.677-1.686 1.588-2.065.013-.07.024-.143.036-.218.029-.183.06-.384.126-.612-.201-.508-.254-1.084-.254-1.656 0-.87.128-1.769.693-2.484.579-.733 1.494-1.124 2.724-1.261 1.206-.134 2.262.034 2.944.765.05.053.096.108.139.165.044-.057.094-.112.143-.165.682-.731 1.738-.899 2.944-.765 1.23.137 2.145.528 2.724 1.261.566.715.693 1.614.693 2.484 0 .572-.053 1.148-.254 1.656.066.228.098.429.126.612.012.076.024.148.037.218.924.385 1.522 1.471 1.591 2.095v1.872c0 .766-3.351 3.795-8.002 3.795Zm0-1.485c2.28 0 4.584-1.11 5.002-1.433V7.862l-.023-.116c-.49.21-1.075.291-1.727.291-1.146 0-2.059-.327-2.71-.991A3.222 3.222 0 0 1 8 6.303a3.24 3.24 0 0 1-.544.743c-.65.664-1.563.991-2.71.991-.652 0-1.236-.081-1.727-.291l-.023.116v4.255c.419.323 2.722 1.433 5.002 1.433ZM6.762 2.83c-.193-.206-.637-.413-1.682-.297-1.019.113-1.479.404-1.713.7-.247.312-.369.789-.369 1.554 0 .793.129 1.171.308 1.371.162.181.519.379 1.442.379.853 0 1.339-.235 1.638-.54.315-.322.527-.827.617-1.553.117-.935-.037-1.395-.241-1.614Zm4.155-.297c-1.044-.116-1.488.091-1.681.297-.204.219-.359.679-.242 1.614.091.726.303 1.231.618 1.553.299.305.784.54 1.638.54.922 0 1.28-.198 1.442-.379.179-.2.308-.578.308-1.371 0-.765-.123-1.242-.37-1.554-.233-.296-.693-.587-1.713-.7Z"></path><path d="M6.25 9.037a.75.75 0 0 1 .75.75v1.501a.75.75 0 0 1-1.5 0V9.787a.75.75 0 0 1 .75-.75Zm4.25.75v1.501a.75.75 0 0 1-1.5 0V9.787a.75.75 0 0 1 1.5 0Z"></path>
</svg>
</template>

<template id="copilot-error-icon">
  <svg aria-hidden="true" height="16" viewBox="0 0 16 16" version="1.1" width="16" data-view-component="true" class="octicon octicon-copilot-error">
    <path d="M16 11.24c0 .112-.072.274-.21.467L13 9.688V7.862l-.023-.116c-.49.21-1.075.291-1.727.291-.198 0-.388-.009-.571-.029L6.833 5.226a4.01 4.01 0 0 0 .17-.782c.117-.935-.037-1.395-.241-1.614-.193-.206-.637-.413-1.682-.297-.683.076-1.115.231-1.395.415l-1.257-.91c.579-.564 1.413-.877 2.485-.996 1.206-.134 2.262.034 2.944.765.05.053.096.108.139.165.044-.057.094-.112.143-.165.682-.731 1.738-.899 2.944-.765 1.23.137 2.145.528 2.724 1.261.566.715.693 1.614.693 2.484 0 .572-.053 1.148-.254 1.656.066.228.098.429.126.612.012.076.024.148.037.218.924.385 1.522 1.471 1.591 2.095Zm-5.083-8.707c-1.044-.116-1.488.091-1.681.297-.204.219-.359.679-.242 1.614.091.726.303 1.231.618 1.553.299.305.784.54 1.638.54.922 0 1.28-.198 1.442-.379.179-.2.308-.578.308-1.371 0-.765-.123-1.242-.37-1.554-.233-.296-.693-.587-1.713-.7Zm2.511 11.074c-1.393.776-3.272 1.428-5.43 1.428-4.562 0-7.873-2.914-7.998-3.749V9.338c.085-.628.677-1.686 1.588-2.065.013-.07.024-.143.036-.218.029-.183.06-.384.126-.612-.18-.455-.241-.963-.252-1.475L.31 4.107A.747.747 0 0 1 0 3.509V3.49a.748.748 0 0 1 .625-.73c.156-.026.306.047.435.139l14.667 10.578a.592.592 0 0 1 .227.264.752.752 0 0 1 .046.249v.022a.75.75 0 0 1-1.19.596Zm-1.367-.991L5.635 7.964a5.128 5.128 0 0 1-.889.073c-.652 0-1.236-.081-1.727-.291l-.023.116v4.255c.419.323 2.722 1.433 5.002 1.433 1.539 0 3.089-.505 4.063-.934Z"></path>
</svg>
</template>

<template id="workflow-icon">
  <svg aria-hidden="true" height="16" viewBox="0 0 16 16" version="1.1" width="16" data-view-component="true" class="octicon octicon-workflow">
    <path d="M0 1.75C0 .784.784 0 1.75 0h3.5C6.216 0 7 .784 7 1.75v3.5A1.75 1.75 0 0 1 5.25 7H4v4a1 1 0 0 0 1 1h4v-1.25C9 9.784 9.784 9 10.75 9h3.5c.966 0 1.75.784 1.75 1.75v3.5A1.75 1.75 0 0 1 14.25 16h-3.5A1.75 1.75 0 0 1 9 14.25v-.75H5A2.5 2.5 0 0 1 2.5 11V7h-.75A1.75 1.75 0 0 1 0 5.25Zm1.75-.25a.25.25 0 0 0-.25.25v3.5c0 .138.112.25.25.25h3.5a.25.25 0 0 0 .25-.25v-3.5a.25.25 0 0 0-.25-.25Zm9 9a.25.25 0 0 0-.25.25v3.5c0 .138.112.25.25.25h3.5a.25.25 0 0 0 .25-.25v-3.5a.25.25 0 0 0-.25-.25Z"></path>
</svg>
</template>

<template id="book-icon">
  <svg aria-hidden="true" height="16" viewBox="0 0 16 16" version="1.1" width="16" data-view-component="true" class="octicon octicon-book">
    <path d="M0 1.75A.75.75 0 0 1 .75 1h4.253c1.227 0 2.317.59 3 1.501A3.743 3.743 0 0 1 11.006 1h4.245a.75.75 0 0 1 .75.75v10.5a.75.75 0 0 1-.75.75h-4.507a2.25 2.25 0 0 0-1.591.659l-.622.621a.75.75 0 0 1-1.06 0l-.622-.621A2.25 2.25 0 0 0 5.258 13H.75a.75.75 0 0 1-.75-.75Zm7.251 10.324.004-5.073-.002-2.253A2.25 2.25 0 0 0 5.003 2.5H1.5v9h3.757a3.75 3.75 0 0 1 1.994.574ZM8.755 4.75l-.004 7.322a3.752 3.752 0 0 1 1.992-.572H14.5v-9h-3.495a2.25 2.25 0 0 0-2.25 2.25Z"></path>
</svg>
</template>

<template id="code-review-icon">
  <svg aria-hidden="true" height="16" viewBox="0 0 16 16" version="1.1" width="16" data-view-component="true" class="octicon octicon-code-review">
    <path d="M1.75 1h12.5c.966 0 1.75.784 1.75 1.75v8.5A1.75 1.75 0 0 1 14.25 13H8.061l-2.574 2.573A1.458 1.458 0 0 1 3 14.543V13H1.75A1.75 1.75 0 0 1 0 11.25v-8.5C0 1.784.784 1 1.75 1ZM1.5 2.75v8.5c0 .138.112.25.25.25h2a.75.75 0 0 1 .75.75v2.19l2.72-2.72a.749.749 0 0 1 .53-.22h6.5a.25.25 0 0 0 .25-.25v-8.5a.25.25 0 0 0-.25-.25H1.75a.25.25 0 0 0-.25.25Zm5.28 1.72a.75.75 0 0 1 0 1.06L5.31 7l1.47 1.47a.751.751 0 0 1-.018 1.042.751.751 0 0 1-1.042.018l-2-2a.75.75 0 0 1 0-1.06l2-2a.75.75 0 0 1 1.06 0Zm2.44 0a.75.75 0 0 1 1.06 0l2 2a.75.75 0 0 1 0 1.06l-2 2a.751.751 0 0 1-1.042-.018.751.751 0 0 1-.018-1.042L10.69 7 9.22 5.53a.75.75 0 0 1 0-1.06Z"></path>
</svg>
</template>

<template id="codespaces-icon">
  <svg aria-hidden="true" height="16" viewBox="0 0 16 16" version="1.1" width="16" data-view-component="true" class="octicon octicon-codespaces">
    <path d="M0 11.25c0-.966.784-1.75 1.75-1.75h12.5c.966 0 1.75.784 1.75 1.75v3A1.75 1.75 0 0 1 14.25 16H1.75A1.75 1.75 0 0 1 0 14.25Zm2-9.5C2 .784 2.784 0 3.75 0h8.5C13.216 0 14 .784 14 1.75v5a1.75 1.75 0 0 1-1.75 1.75h-8.5A1.75 1.75 0 0 1 2 6.75Zm1.75-.25a.25.25 0 0 0-.25.25v5c0 .138.112.25.25.25h8.5a.25.25 0 0 0 .25-.25v-5a.25.25 0 0 0-.25-.25Zm-2 9.5a.25.25 0 0 0-.25.25v3c0 .138.112.25.25.25h12.5a.25.25 0 0 0 .25-.25v-3a.25.25 0 0 0-.25-.25Z"></path><path d="M7 12.75a.75.75 0 0 1 .75-.75h4.5a.75.75 0 0 1 0 1.5h-4.5a.75.75 0 0 1-.75-.75Zm-4 0a.75.75 0 0 1 .75-.75h.5a.75.75 0 0 1 0 1.5h-.5a.75.75 0 0 1-.75-.75Z"></path>
</svg>
</template>

<template id="comment-icon">
  <svg aria-hidden="true" height="16" viewBox="0 0 16 16" version="1.1" width="16" data-view-component="true" class="octicon octicon-comment">
    <path d="M1 2.75C1 1.784 1.784 1 2.75 1h10.5c.966 0 1.75.784 1.75 1.75v7.5A1.75 1.75 0 0 1 13.25 12H9.06l-2.573 2.573A1.458 1.458 0 0 1 4 13.543V12H2.75A1.75 1.75 0 0 1 1 10.25Zm1.75-.25a.25.25 0 0 0-.25.25v7.5c0 .138.112.25.25.25h2a.75.75 0 0 1 .75.75v2.19l2.72-2.72a.749.749 0 0 1 .53-.22h4.5a.25.25 0 0 0 .25-.25v-7.5a.25.25 0 0 0-.25-.25Z"></path>
</svg>
</template>

<template id="comment-discussion-icon">
  <svg aria-hidden="true" height="16" viewBox="0 0 16 16" version="1.1" width="16" data-view-component="true" class="octicon octicon-comment-discussion">
    <path d="M1.75 1h8.5c.966 0 1.75.784 1.75 1.75v5.5A1.75 1.75 0 0 1 10.25 10H7.061l-2.574 2.573A1.458 1.458 0 0 1 2 11.543V10h-.25A1.75 1.75 0 0 1 0 8.25v-5.5C0 1.784.784 1 1.75 1ZM1.5 2.75v5.5c0 .138.112.25.25.25h1a.75.75 0 0 1 .75.75v2.19l2.72-2.72a.749.749 0 0 1 .53-.22h3.5a.25.25 0 0 0 .25-.25v-5.5a.25.25 0 0 0-.25-.25h-8.5a.25.25 0 0 0-.25.25Zm13 2a.25.25 0 0 0-.25-.25h-.5a.75.75 0 0 1 0-1.5h.5c.966 0 1.75.784 1.75 1.75v5.5A1.75 1.75 0 0 1 14.25 12H14v1.543a1.458 1.458 0 0 1-2.487 1.03L9.22 12.28a.749.749 0 0 1 .326-1.275.749.749 0 0 1 .734.215l2.22 2.22v-2.19a.75.75 0 0 1 .75-.75h1a.25.25 0 0 0 .25-.25Z"></path>
</svg>
</template>

<template id="organization-icon">
  <svg aria-hidden="true" height="16" viewBox="0 0 16 16" version="1.1" width="16" data-view-component="true" class="octicon octicon-organization">
    <path d="M1.75 16A1.75 1.75 0 0 1 0 14.25V1.75C0 .784.784 0 1.75 0h8.5C11.216 0 12 .784 12 1.75v12.5c0 .085-.006.168-.018.25h2.268a.25.25 0 0 0 .25-.25V8.285a.25.25 0 0 0-.111-.208l-1.055-.703a.749.749 0 1 1 .832-1.248l1.055.703c.487.325.779.871.779 1.456v5.965A1.75 1.75 0 0 1 14.25 16h-3.5a.766.766 0 0 1-.197-.026c-.099.017-.2.026-.303.026h-3a.75.75 0 0 1-.75-.75V14h-1v1.25a.75.75 0 0 1-.75.75Zm-.25-1.75c0 .138.112.25.25.25H4v-1.25a.75.75 0 0 1 .75-.75h2.5a.75.75 0 0 1 .75.75v1.25h2.25a.25.25 0 0 0 .25-.25V1.75a.25.25 0 0 0-.25-.25h-8.5a.25.25 0 0 0-.25.25ZM3.75 6h.5a.75.75 0 0 1 0 1.5h-.5a.75.75 0 0 1 0-1.5ZM3 3.75A.75.75 0 0 1 3.75 3h.5a.75.75 0 0 1 0 1.5h-.5A.75.75 0 0 1 3 3.75Zm4 3A.75.75 0 0 1 7.75 6h.5a.75.75 0 0 1 0 1.5h-.5A.75.75 0 0 1 7 6.75ZM7.75 3h.5a.75.75 0 0 1 0 1.5h-.5a.75.75 0 0 1 0-1.5ZM3 9.75A.75.75 0 0 1 3.75 9h.5a.75.75 0 0 1 0 1.5h-.5A.75.75 0 0 1 3 9.75ZM7.75 9h.5a.75.75 0 0 1 0 1.5h-.5a.75.75 0 0 1 0-1.5Z"></path>
</svg>
</template>

<template id="rocket-icon">
  <svg aria-hidden="true" height="16" viewBox="0 0 16 16" version="1.1" width="16" data-view-component="true" class="octicon octicon-rocket">
    <path d="M14.064 0h.186C15.216 0 16 .784 16 1.75v.186a8.752 8.752 0 0 1-2.564 6.186l-.458.459c-.314.314-.641.616-.979.904v3.207c0 .608-.315 1.172-.833 1.49l-2.774 1.707a.749.749 0 0 1-1.11-.418l-.954-3.102a1.214 1.214 0 0 1-.145-.125L3.754 9.816a1.218 1.218 0 0 1-.124-.145L.528 8.717a.749.749 0 0 1-.418-1.11l1.71-2.774A1.748 1.748 0 0 1 3.31 4h3.204c.288-.338.59-.665.904-.979l.459-.458A8.749 8.749 0 0 1 14.064 0ZM8.938 3.623h-.002l-.458.458c-.76.76-1.437 1.598-2.02 2.5l-1.5 2.317 2.143 2.143 2.317-1.5c.902-.583 1.74-1.26 2.499-2.02l.459-.458a7.25 7.25 0 0 0 2.123-5.127V1.75a.25.25 0 0 0-.25-.25h-.186a7.249 7.249 0 0 0-5.125 2.123ZM3.56 14.56c-.732.732-2.334 1.045-3.005 1.148a.234.234 0 0 1-.201-.064.234.234 0 0 1-.064-.201c.103-.671.416-2.273 1.15-3.003a1.502 1.502 0 1 1 2.12 2.12Zm6.94-3.935c-.088.06-.177.118-.266.175l-2.35 1.521.548 1.783 1.949-1.2a.25.25 0 0 0 .119-.213ZM3.678 8.116 5.2 5.766c.058-.09.117-.178.176-.266H3.309a.25.25 0 0 0-.213.119l-1.2 1.95ZM12 5a1 1 0 1 1-2 0 1 1 0 0 1 2 0Z"></path>
</svg>
</template>

<template id="shield-check-icon">
  <svg aria-hidden="true" height="16" viewBox="0 0 16 16" version="1.1" width="16" data-view-component="true" class="octicon octicon-shield-check">
    <path d="m8.533.133 5.25 1.68A1.75 1.75 0 0 1 15 3.48V7c0 1.566-.32 3.182-1.303 4.682-.983 1.498-2.585 2.813-5.032 3.855a1.697 1.697 0 0 1-1.33 0c-2.447-1.042-4.049-2.357-5.032-3.855C1.32 10.182 1 8.566 1 7V3.48a1.75 1.75 0 0 1 1.217-1.667l5.25-1.68a1.748 1.748 0 0 1 1.066 0Zm-.61 1.429.001.001-5.25 1.68a.251.251 0 0 0-.174.237V7c0 1.36.275 2.666 1.057 3.859.784 1.194 2.121 2.342 4.366 3.298a.196.196 0 0 0 .154 0c2.245-.957 3.582-2.103 4.366-3.297C13.225 9.666 13.5 8.358 13.5 7V3.48a.25.25 0 0 0-.174-.238l-5.25-1.68a.25.25 0 0 0-.153 0ZM11.28 6.28l-3.5 3.5a.75.75 0 0 1-1.06 0l-1.5-1.5a.749.749 0 0 1 .326-1.275.749.749 0 0 1 .734.215l.97.97 2.97-2.97a.751.751 0 0 1 1.042.018.751.751 0 0 1 .018 1.042Z"></path>
</svg>
</template>

<template id="heart-icon">
  <svg aria-hidden="true" height="16" viewBox="0 0 16 16" version="1.1" width="16" data-view-component="true" class="octicon octicon-heart">
    <path d="m8 14.25.345.666a.75.75 0 0 1-.69 0l-.008-.004-.018-.01a7.152 7.152 0 0 1-.31-.17 22.055 22.055 0 0 1-3.434-2.414C2.045 10.731 0 8.35 0 5.5 0 2.836 2.086 1 4.25 1 5.797 1 7.153 1.802 8 3.02 8.847 1.802 10.203 1 11.75 1 13.914 1 16 2.836 16 5.5c0 2.85-2.045 5.231-3.885 6.818a22.066 22.066 0 0 1-3.744 2.584l-.018.01-.006.003h-.002ZM4.25 2.5c-1.336 0-2.75 1.164-2.75 3 0 2.15 1.58 4.144 3.365 5.682A20.58 20.58 0 0 0 8 13.393a20.58 20.58 0 0 0 3.135-2.211C12.92 9.644 14.5 7.65 14.5 5.5c0-1.836-1.414-3-2.75-3-1.373 0-2.609.986-3.029 2.456a.749.749 0 0 1-1.442 0C6.859 3.486 5.623 2.5 4.25 2.5Z"></path>
</svg>
</template>

<template id="server-icon">
  <svg aria-hidden="true" height="16" viewBox="0 0 16 16" version="1.1" width="16" data-view-component="true" class="octicon octicon-server">
    <path d="M1.75 1h12.5c.966 0 1.75.784 1.75 1.75v4c0 .372-.116.717-.314 1 .198.283.314.628.314 1v4a1.75 1.75 0 0 1-1.75 1.75H1.75A1.75 1.75 0 0 1 0 12.75v-4c0-.358.109-.707.314-1a1.739 1.739 0 0 1-.314-1v-4C0 1.784.784 1 1.75 1ZM1.5 2.75v4c0 .138.112.25.25.25h12.5a.25.25 0 0 0 .25-.25v-4a.25.25 0 0 0-.25-.25H1.75a.25.25 0 0 0-.25.25Zm.25 5.75a.25.25 0 0 0-.25.25v4c0 .138.112.25.25.25h12.5a.25.25 0 0 0 .25-.25v-4a.25.25 0 0 0-.25-.25ZM7 4.75A.75.75 0 0 1 7.75 4h4.5a.75.75 0 0 1 0 1.5h-4.5A.75.75 0 0 1 7 4.75ZM7.75 10h4.5a.75.75 0 0 1 0 1.5h-4.5a.75.75 0 0 1 0-1.5ZM3 4.75A.75.75 0 0 1 3.75 4h.5a.75.75 0 0 1 0 1.5h-.5A.75.75 0 0 1 3 4.75ZM3.75 10h.5a.75.75 0 0 1 0 1.5h-.5a.75.75 0 0 1 0-1.5Z"></path>
</svg>
</template>

<template id="globe-icon">
  <svg aria-hidden="true" height="16" viewBox="0 0 16 16" version="1.1" width="16" data-view-component="true" class="octicon octicon-globe">
    <path d="M8 0a8 8 0 1 1 0 16A8 8 0 0 1 8 0ZM5.78 8.75a9.64 9.64 0 0 0 1.363 4.177c.255.426.542.832.857 1.215.245-.296.551-.705.857-1.215A9.64 9.64 0 0 0 10.22 8.75Zm4.44-1.5a9.64 9.64 0 0 0-1.363-4.177c-.307-.51-.612-.919-.857-1.215a9.927 9.927 0 0 0-.857 1.215A9.64 9.64 0 0 0 5.78 7.25Zm-5.944 1.5H1.543a6.507 6.507 0 0 0 4.666 5.5c-.123-.181-.24-.365-.352-.552-.715-1.192-1.437-2.874-1.581-4.948Zm-2.733-1.5h2.733c.144-2.074.866-3.756 1.58-4.948.12-.197.237-.381.353-.552a6.507 6.507 0 0 0-4.666 5.5Zm10.181 1.5c-.144 2.074-.866 3.756-1.58 4.948-.12.197-.237.381-.353.552a6.507 6.507 0 0 0 4.666-5.5Zm2.733-1.5a6.507 6.507 0 0 0-4.666-5.5c.123.181.24.365.353.552.714 1.192 1.436 2.874 1.58 4.948Z"></path>
</svg>
</template>

<template id="issue-opened-icon">
  <svg aria-hidden="true" height="16" viewBox="0 0 16 16" version="1.1" width="16" data-view-component="true" class="octicon octicon-issue-opened">
    <path d="M8 9.5a1.5 1.5 0 1 0 0-3 1.5 1.5 0 0 0 0 3Z"></path><path d="M8 0a8 8 0 1 1 0 16A8 8 0 0 1 8 0ZM1.5 8a6.5 6.5 0 1 0 13 0 6.5 6.5 0 0 0-13 0Z"></path>
</svg>
</template>

<template id="device-mobile-icon">
  <svg aria-hidden="true" height="16" viewBox="0 0 16 16" version="1.1" width="16" data-view-component="true" class="octicon octicon-device-mobile">
    <path d="M3.75 0h8.5C13.216 0 14 .784 14 1.75v12.5A1.75 1.75 0 0 1 12.25 16h-8.5A1.75 1.75 0 0 1 2 14.25V1.75C2 .784 2.784 0 3.75 0ZM3.5 1.75v12.5c0 .138.112.25.25.25h8.5a.25.25 0 0 0 .25-.25V1.75a.25.25 0 0 0-.25-.25h-8.5a.25.25 0 0 0-.25.25ZM8 13a1 1 0 1 1 0-2 1 1 0 0 1 0 2Z"></path>
</svg>
</template>

<template id="package-icon">
  <svg aria-hidden="true" height="16" viewBox="0 0 16 16" version="1.1" width="16" data-view-component="true" class="octicon octicon-package">
    <path d="m8.878.392 5.25 3.045c.54.314.872.89.872 1.514v6.098a1.75 1.75 0 0 1-.872 1.514l-5.25 3.045a1.75 1.75 0 0 1-1.756 0l-5.25-3.045A1.75 1.75 0 0 1 1 11.049V4.951c0-.624.332-1.201.872-1.514L7.122.392a1.75 1.75 0 0 1 1.756 0ZM7.875 1.69l-4.63 2.685L8 7.133l4.755-2.758-4.63-2.685a.248.248 0 0 0-.25 0ZM2.5 5.677v5.372c0 .09.047.171.125.216l4.625 2.683V8.432Zm6.25 8.271 4.625-2.683a.25.25 0 0 0 .125-.216V5.677L8.75 8.432Z"></path>
</svg>
</template>

<template id="credit-card-icon">
  <svg aria-hidden="true" height="16" viewBox="0 0 16 16" version="1.1" width="16" data-view-component="true" class="octicon octicon-credit-card">
    <path d="M10.75 9a.75.75 0 0 0 0 1.5h1.5a.75.75 0 0 0 0-1.5h-1.5Z"></path><path d="M0 3.75C0 2.784.784 2 1.75 2h12.5c.966 0 1.75.784 1.75 1.75v8.5A1.75 1.75 0 0 1 14.25 14H1.75A1.75 1.75 0 0 1 0 12.25ZM14.5 6.5h-13v5.75c0 .138.112.25.25.25h12.5a.25.25 0 0 0 .25-.25Zm0-2.75a.25.25 0 0 0-.25-.25H1.75a.25.25 0 0 0-.25.25V5h13Z"></path>
</svg>
</template>

<template id="play-icon">
  <svg aria-hidden="true" height="16" viewBox="0 0 16 16" version="1.1" width="16" data-view-component="true" class="octicon octicon-play">
    <path d="M8 0a8 8 0 1 1 0 16A8 8 0 0 1 8 0ZM1.5 8a6.5 6.5 0 1 0 13 0 6.5 6.5 0 0 0-13 0Zm4.879-2.773 4.264 2.559a.25.25 0 0 1 0 .428l-4.264 2.559A.25.25 0 0 1 6 10.559V5.442a.25.25 0 0 1 .379-.215Z"></path>
</svg>
</template>

<template id="gift-icon">
  <svg aria-hidden="true" height="16" viewBox="0 0 16 16" version="1.1" width="16" data-view-component="true" class="octicon octicon-gift">
    <path d="M2 2.75A2.75 2.75 0 0 1 4.75 0c.983 0 1.873.42 2.57 1.232.268.318.497.668.68 1.042.183-.375.411-.725.68-1.044C9.376.42 10.266 0 11.25 0a2.75 2.75 0 0 1 2.45 4h.55c.966 0 1.75.784 1.75 1.75v2c0 .698-.409 1.301-1 1.582v4.918A1.75 1.75 0 0 1 13.25 16H2.75A1.75 1.75 0 0 1 1 14.25V9.332C.409 9.05 0 8.448 0 7.75v-2C0 4.784.784 4 1.75 4h.55c-.192-.375-.3-.8-.3-1.25ZM7.25 9.5H2.5v4.75c0 .138.112.25.25.25h4.5Zm1.5 0v5h4.5a.25.25 0 0 0 .25-.25V9.5Zm0-4V8h5.5a.25.25 0 0 0 .25-.25v-2a.25.25 0 0 0-.25-.25Zm-7 0a.25.25 0 0 0-.25.25v2c0 .138.112.25.25.25h5.5V5.5h-5.5Zm3-4a1.25 1.25 0 0 0 0 2.5h2.309c-.233-.818-.542-1.401-.878-1.793-.43-.502-.915-.707-1.431-.707ZM8.941 4h2.309a1.25 1.25 0 0 0 0-2.5c-.516 0-1 .205-1.43.707-.337.392-.646.975-.879 1.793Z"></path>
</svg>
</template>

<template id="code-square-icon">
  <svg aria-hidden="true" height="16" viewBox="0 0 16 16" version="1.1" width="16" data-view-component="true" class="octicon octicon-code-square">
    <path d="M0 1.75C0 .784.784 0 1.75 0h12.5C15.216 0 16 .784 16 1.75v12.5A1.75 1.75 0 0 1 14.25 16H1.75A1.75 1.75 0 0 1 0 14.25Zm1.75-.25a.25.25 0 0 0-.25.25v12.5c0 .138.112.25.25.25h12.5a.25.25 0 0 0 .25-.25V1.75a.25.25 0 0 0-.25-.25Zm7.47 3.97a.75.75 0 0 1 1.06 0l2 2a.75.75 0 0 1 0 1.06l-2 2a.749.749 0 0 1-1.275-.326.749.749 0 0 1 .215-.734L10.69 8 9.22 6.53a.75.75 0 0 1 0-1.06ZM6.78 6.53 5.31 8l1.47 1.47a.749.749 0 0 1-.326 1.275.749.749 0 0 1-.734-.215l-2-2a.75.75 0 0 1 0-1.06l2-2a.751.751 0 0 1 1.042.018.751.751 0 0 1 .018 1.042Z"></path>
</svg>
</template>

<template id="device-desktop-icon">
  <svg aria-hidden="true" height="16" viewBox="0 0 16 16" version="1.1" width="16" data-view-component="true" class="octicon octicon-device-desktop">
    <path d="M14.25 1c.966 0 1.75.784 1.75 1.75v7.5A1.75 1.75 0 0 1 14.25 12h-3.727c.099 1.041.52 1.872 1.292 2.757A.752.752 0 0 1 11.25 16h-6.5a.75.75 0 0 1-.565-1.243c.772-.885 1.192-1.716 1.292-2.757H1.75A1.75 1.75 0 0 1 0 10.25v-7.5C0 1.784.784 1 1.75 1ZM1.75 2.5a.25.25 0 0 0-.25.25v7.5c0 .138.112.25.25.25h12.5a.25.25 0 0 0 .25-.25v-7.5a.25.25 0 0 0-.25-.25ZM9.018 12H6.982a5.72 5.72 0 0 1-.765 2.5h3.566a5.72 5.72 0 0 1-.765-2.5Z"></path>
</svg>
</template>

        <div class="position-relative">
                <ul
                  role="listbox"
                  class="ActionListWrap QueryBuilder-ListWrap"
                  aria-label="Suggestions"
                  data-action="
                    combobox-commit:query-builder#comboboxCommit
                    mousedown:query-builder#resultsMousedown
                  "
                  data-target="query-builder.resultsList"
                  data-persist-list=false
                  id="query-builder-test-results"
                  tabindex="-1"
                ></ul>
        </div>
      <div class="FormControl-inlineValidation" id="validation-8cf039a4-3c2d-45c6-b448-8c3d2a2999aa" hidden="hidden">
        <span class="FormControl-inlineValidation--visual">
          <svg aria-hidden="true" height="12" viewBox="0 0 12 12" version="1.1" width="12" data-view-component="true" class="octicon octicon-alert-fill">
    <path d="M4.855.708c.5-.896 1.79-.896 2.29 0l4.675 8.351a1.312 1.312 0 0 1-1.146 1.954H1.33A1.313 1.313 0 0 1 .183 9.058ZM7 7V3H5v4Zm-1 3a1 1 0 1 0 0-2 1 1 0 0 0 0 2Z"></path>
</svg>
        </span>
        <span></span>
</div>    </div>
    <div data-target="query-builder.screenReaderFeedback" aria-live="polite" aria-atomic="true" class="sr-only"></div>
</query-builder></form>
          <div class="d-flex flex-row color-fg-muted px-3 text-small color-bg-default search-feedback-prompt">
            <a target="_blank" href="https://docs.github.com/search-github/github-code-search/understanding-github-code-search-syntax" data-view-component="true" class="Link color-fg-accent text-normal ml-2">Search syntax tips</a>            <div class="d-flex flex-1"></div>
              <button data-action="click:qbsearch-input#showFeedbackDialog" type="button" data-view-component="true" class="Button--link Button--medium Button color-fg-accent text-normal ml-2">  <span class="Button-content">
    <span class="Button-label">Give feedback</span>
  </span>
</button>
          </div>
        </div>
</div>

    </div>
</modal-dialog></div>
  </div>
  <div data-action="click:qbsearch-input#retract" class="dark-backdrop position-fixed" hidden data-target="qbsearch-input.darkBackdrop"></div>
  <div class="color-fg-default">
    
<dialog-helper>
  <dialog data-target="qbsearch-input.feedbackDialog" data-action="close:qbsearch-input#handleDialogClose cancel:qbsearch-input#handleDialogClose" id="feedback-dialog" aria-modal="true" aria-labelledby="feedback-dialog-title" aria-describedby="feedback-dialog-description" data-view-component="true" class="Overlay Overlay-whenNarrow Overlay--size-medium Overlay--motion-scaleFade Overlay--disableScroll">
    <div data-view-component="true" class="Overlay-header">
  <div class="Overlay-headerContentWrap">
    <div class="Overlay-titleWrap">
      <h1 class="Overlay-title " id="feedback-dialog-title">
        Provide feedback
      </h1>
        
    </div>
    <div class="Overlay-actionWrap">
      <button data-close-dialog-id="feedback-dialog" aria-label="Close" aria-label="Close" type="button" data-view-component="true" class="close-button Overlay-closeButton"><svg aria-hidden="true" height="16" viewBox="0 0 16 16" version="1.1" width="16" data-view-component="true" class="octicon octicon-x">
    <path d="M3.72 3.72a.75.75 0 0 1 1.06 0L8 6.94l3.22-3.22a.749.749 0 0 1 1.275.326.749.749 0 0 1-.215.734L9.06 8l3.22 3.22a.749.749 0 0 1-.326 1.275.749.749 0 0 1-.734-.215L8 9.06l-3.22 3.22a.751.751 0 0 1-1.042-.018.751.751 0 0 1-.018-1.042L6.94 8 3.72 4.78a.75.75 0 0 1 0-1.06Z"></path>
</svg></button>
    </div>
  </div>
  
</div>
      <scrollable-region data-labelled-by="feedback-dialog-title">
        <div data-view-component="true" class="Overlay-body">        <!-- '"` --><!-- </textarea></xmp> --></option></form><form id="code-search-feedback-form" data-turbo="false" action="/search/feedback" accept-charset="UTF-8" method="post"><input type="hidden" name="authenticity_token" value="pGLybqHq0Wn_fnFnCgfe4D6tYMDmj9Fr3bgZ1HGLHixFZUQMcdDtWit40kii1D0wdi6CLiiVpLlemne68XSP3w" />
          <p>We read every piece of feedback, and take your input very seriously.</p>
          <textarea name="feedback" class="form-control width-full mb-2" style="height: 120px" id="feedback"></textarea>
          <input name="include_email" id="include_email" aria-label="Include my email address so I can be contacted" class="form-control mr-2" type="checkbox">
          <label for="include_email" style="font-weight: normal">Include my email address so I can be contacted</label>
</form></div>
      </scrollable-region>
      <div data-view-component="true" class="Overlay-footer Overlay-footer--alignEnd">          <button data-close-dialog-id="feedback-dialog" type="button" data-view-component="true" class="btn">    Cancel
</button>
          <button form="code-search-feedback-form" data-action="click:qbsearch-input#submitFeedback" type="submit" data-view-component="true" class="btn-primary btn">    Submit feedback
</button>
</div>
</dialog></dialog-helper>

    <custom-scopes data-target="qbsearch-input.customScopesManager">
    
<dialog-helper>
  <dialog data-target="custom-scopes.customScopesModalDialog" data-action="close:qbsearch-input#handleDialogClose cancel:qbsearch-input#handleDialogClose" id="custom-scopes-dialog" aria-modal="true" aria-labelledby="custom-scopes-dialog-title" aria-describedby="custom-scopes-dialog-description" data-view-component="true" class="Overlay Overlay-whenNarrow Overlay--size-medium Overlay--motion-scaleFade Overlay--disableScroll">
    <div data-view-component="true" class="Overlay-header Overlay-header--divided">
  <div class="Overlay-headerContentWrap">
    <div class="Overlay-titleWrap">
      <h1 class="Overlay-title " id="custom-scopes-dialog-title">
        Saved searches
      </h1>
        <h2 id="custom-scopes-dialog-description" class="Overlay-description">Use saved searches to filter your results more quickly</h2>
    </div>
    <div class="Overlay-actionWrap">
      <button data-close-dialog-id="custom-scopes-dialog" aria-label="Close" aria-label="Close" type="button" data-view-component="true" class="close-button Overlay-closeButton"><svg aria-hidden="true" height="16" viewBox="0 0 16 16" version="1.1" width="16" data-view-component="true" class="octicon octicon-x">
    <path d="M3.72 3.72a.75.75 0 0 1 1.06 0L8 6.94l3.22-3.22a.749.749 0 0 1 1.275.326.749.749 0 0 1-.215.734L9.06 8l3.22 3.22a.749.749 0 0 1-.326 1.275.749.749 0 0 1-.734-.215L8 9.06l-3.22 3.22a.751.751 0 0 1-1.042-.018.751.751 0 0 1-.018-1.042L6.94 8 3.72 4.78a.75.75 0 0 1 0-1.06Z"></path>
</svg></button>
    </div>
  </div>
  
</div>
      <scrollable-region data-labelled-by="custom-scopes-dialog-title">
        <div data-view-component="true" class="Overlay-body">        <div data-target="custom-scopes.customScopesModalDialogFlash"></div>

        <div hidden class="create-custom-scope-form" data-target="custom-scopes.createCustomScopeForm">
        <!-- '"` --><!-- </textarea></xmp> --></option></form><form id="custom-scopes-dialog-form" data-turbo="false" action="/search/custom_scopes" accept-charset="UTF-8" method="post"><input type="hidden" name="authenticity_token" value="QJZj8a-vy51cKxzBUmdqR3ZzK9taCVQn7uogXVagb_uN1264nXgImHOQrGjwHl0rvygwuF9LLdrgmgqEaEJn2A" />
          <div data-target="custom-scopes.customScopesModalDialogFlash"></div>

          <input type="hidden" id="custom_scope_id" name="custom_scope_id" data-target="custom-scopes.customScopesIdField">

          <div class="form-group">
            <label for="custom_scope_name">Name</label>
            <auto-check src="/search/custom_scopes/check_name" required>
              <input
                type="text"
                name="custom_scope_name"
                id="custom_scope_name"
                data-target="custom-scopes.customScopesNameField"
                class="form-control"
                autocomplete="off"
                placeholder="github-ruby"
                required
                maxlength="50">
              <input type="hidden" value="BDOot-Y2NUKZVkNO2zK2fLEhaG5AXSBgToFPQczcPVvPbbY0sXAFoGIXfRQMR_ScYlakgxQbKsm6nrrLmSXIhw" data-csrf="true" />
            </auto-check>
          </div>

          <div class="form-group">
            <label for="custom_scope_query">Query</label>
            <input
              type="text"
              name="custom_scope_query"
              id="custom_scope_query"
              data-target="custom-scopes.customScopesQueryField"
              class="form-control"
              autocomplete="off"
              placeholder="(repo:mona/a OR repo:mona/b) AND lang:python"
              required
              maxlength="500">
          </div>

          <p class="text-small color-fg-muted">
            To see all available qualifiers, see our <a class="Link--inTextBlock" href="https://docs.github.com/search-github/github-code-search/understanding-github-code-search-syntax">documentation</a>.
          </p>
</form>        </div>

        <div data-target="custom-scopes.manageCustomScopesForm">
          <div data-target="custom-scopes.list"></div>
        </div>

</div>
      </scrollable-region>
      <div data-view-component="true" class="Overlay-footer Overlay-footer--alignEnd Overlay-footer--divided">          <button data-action="click:custom-scopes#customScopesCancel" type="button" data-view-component="true" class="btn">    Cancel
</button>
          <button form="custom-scopes-dialog-form" data-action="click:custom-scopes#customScopesSubmit" data-target="custom-scopes.customScopesSubmitButton" type="submit" data-view-component="true" class="btn-primary btn">    Create saved search
</button>
</div>
</dialog></dialog-helper>
    </custom-scopes>
  </div>
</qbsearch-input>  <input type="hidden" value="yI6SQ1Y_8eibdRGgRV3OBRio38SOnI9SVbHaPFIacOzxj3P_FcXDLTubOHIepJkjYlrgjOgDqaQW3dU1KZGb_w" data-csrf="true" class="js-data-jump-to-suggestions-path-csrf" />


          </div>

        
          <div class="AppHeader-CopilotChat hide-sm hide-md">
  <react-partial-anchor>
      <a href="/copilot" data-target="react-partial-anchor.anchor" id="copilot-chat-header-button" aria-labelledby="tooltip-7d394087-11a1-4978-8d13-3f9d36f3290f" data-view-component="true" class="Button Button--iconOnly Button--secondary Button--medium AppHeader-button AppHeader-buttonLeft cursor-wait">  <svg aria-hidden="true" height="16" viewBox="0 0 16 16" version="1.1" width="16" data-view-component="true" class="octicon octicon-copilot Button-visual">
    <path d="M7.998 15.035c-4.562 0-7.873-2.914-7.998-3.749V9.338c.085-.628.677-1.686 1.588-2.065.013-.07.024-.143.036-.218.029-.183.06-.384.126-.612-.201-.508-.254-1.084-.254-1.656 0-.87.128-1.769.693-2.484.579-.733 1.494-1.124 2.724-1.261 1.206-.134 2.262.034 2.944.765.05.053.096.108.139.165.044-.057.094-.112.143-.165.682-.731 1.738-.899 2.944-.765 1.23.137 2.145.528 2.724 1.261.566.715.693 1.614.693 2.484 0 .572-.053 1.148-.254 1.656.066.228.098.429.126.612.012.076.024.148.037.218.924.385 1.522 1.471 1.591 2.095v1.872c0 .766-3.351 3.795-8.002 3.795Zm0-1.485c2.28 0 4.584-1.11 5.002-1.433V7.862l-.023-.116c-.49.21-1.075.291-1.727.291-1.146 0-2.059-.327-2.71-.991A3.222 3.222 0 0 1 8 6.303a3.24 3.24 0 0 1-.544.743c-.65.664-1.563.991-2.71.991-.652 0-1.236-.081-1.727-.291l-.023.116v4.255c.419.323 2.722 1.433 5.002 1.433ZM6.762 2.83c-.193-.206-.637-.413-1.682-.297-1.019.113-1.479.404-1.713.7-.247.312-.369.789-.369 1.554 0 .793.129 1.171.308 1.371.162.181.519.379 1.442.379.853 0 1.339-.235 1.638-.54.315-.322.527-.827.617-1.553.117-.935-.037-1.395-.241-1.614Zm4.155-.297c-1.044-.116-1.488.091-1.681.297-.204.219-.359.679-.242 1.614.091.726.303 1.231.618 1.553.299.305.784.54 1.638.54.922 0 1.28-.198 1.442-.379.179-.2.308-.578.308-1.371 0-.765-.123-1.242-.37-1.554-.233-.296-.693-.587-1.713-.7Z"></path><path d="M6.25 9.037a.75.75 0 0 1 .75.75v1.501a.75.75 0 0 1-1.5 0V9.787a.75.75 0 0 1 .75-.75Zm4.25.75v1.501a.75.75 0 0 1-1.5 0V9.787a.75.75 0 0 1 1.5 0Z"></path>
</svg>
</a><tool-tip id="tooltip-7d394087-11a1-4978-8d13-3f9d36f3290f" for="copilot-chat-header-button" popover="manual" data-direction="s" data-type="label" data-view-component="true" class="sr-only position-absolute">Chat with Copilot</tool-tip>

    <template data-target="react-partial-anchor.template">
      <script crossorigin="anonymous" type="application/javascript" src="https://github.githubassets.com/assets/vendors-node_modules_tanstack_query-core_build_modern_queryObserver_js-node_modules_tanstack_-defd52-0024bc0658ed.js" defer="defer"></script>
<script crossorigin="anonymous" type="application/javascript" src="https://github.githubassets.com/assets/vendors-node_modules_react-relay_index_js-cce72ae26cdb.js" defer="defer"></script>
<script crossorigin="anonymous" type="application/javascript" src="https://github.githubassets.com/assets/vendors-node_modules_remark-gfm_lib_index_js-node_modules_remark-parse_lib_index_js-node_modu-44d0fc-a919845a804c.js" defer="defer"></script>
<script crossorigin="anonymous" type="application/javascript" src="https://github.githubassets.com/assets/vendors-node_modules_hastscript_lib_index_js-node_modules_lowlight_lib_all_js-node_modules_re-713cc1-b7c90cd7720d.js" defer="defer"></script>
<script crossorigin="anonymous" type="application/javascript" src="https://github.githubassets.com/assets/vendors-node_modules_diff_lib_index_mjs-3d31f78b8478.js" defer="defer"></script>
<script crossorigin="anonymous" type="application/javascript" src="https://github.githubassets.com/assets/vendors-node_modules_github_mini-throttle_dist_decorators_js-node_modules_accname_dist_access-ce77c7-4daf69fcf5e0.js" defer="defer"></script>
<script crossorigin="anonymous" type="application/javascript" src="https://github.githubassets.com/assets/vendors-node_modules_github_hotkey_dist_index_js-node_modules_tanstack_react-query_build_mode-b4cf9a-f91a30f5eeba.js" defer="defer"></script>
<script crossorigin="anonymous" type="application/javascript" src="https://github.githubassets.com/assets/ui_packages_relay-environment_relay-environment_ts-44d4cb174711.js" defer="defer"></script>
<script crossorigin="anonymous" type="application/javascript" src="https://github.githubassets.com/assets/ui_packages_copilot-chat_utils_copilot-chat-helpers_ts-34c6a1d8d161.js" defer="defer"></script>
<script crossorigin="anonymous" type="application/javascript" src="https://github.githubassets.com/assets/ui_packages_item-picker_components_RepositoryPicker_tsx-ui_packages_safe-html_VerifiedHTML_tsx-f198dc2c1ffd.js" defer="defer"></script>
<script crossorigin="anonymous" type="application/javascript" src="https://github.githubassets.com/assets/ui_packages_verified-fetch_verified-fetch_ts-ui_packages_copilot-markdown_MarkdownRenderer_tsx-8f3baa526d1b.js" defer="defer"></script>
<script crossorigin="anonymous" type="application/javascript" src="https://github.githubassets.com/assets/ui_packages_copilot-chat_utils_CopilotChatContext_tsx-2003fcdcf6f7.js" defer="defer"></script>
<script crossorigin="anonymous" type="application/javascript" src="https://github.githubassets.com/assets/ui_packages_copilot-chat_hooks_use-chat-message-behavior_ts-ui_packages_copilot-chat_hooks_us-72fdab-7ad080a0462f.js" defer="defer"></script>
<script crossorigin="anonymous" type="application/javascript" src="https://github.githubassets.com/assets/ui_packages_copilot-chat_components_LegalDisclaimer_tsx-ui_packages_copilot-chat_components_M-a4e33b-3093e199c067.js" defer="defer"></script>
<script crossorigin="anonymous" type="application/javascript" src="https://github.githubassets.com/assets/ui_packages_copilot-chat_components_CopilotIconAnimation_tsx-6220e0241178.js" defer="defer"></script>
<script crossorigin="anonymous" type="application/javascript" src="https://github.githubassets.com/assets/ui_packages_document-metadata_document-metadata_ts-ui_packages_promise-with-resolvers-polyfil-1994a1-40d878afec56.js" defer="defer"></script>
<script crossorigin="anonymous" type="application/javascript" src="https://github.githubassets.com/assets/ui_packages_copilot-chat_entry_ts-ui_packages_use-client-value_use-client-value_ts-ui_package-24032a-a01bc399e840.js" defer="defer"></script>
<script crossorigin="anonymous" type="application/javascript" src="https://github.githubassets.com/assets/copilot-chat-dba0959ad407.js" defer="defer"></script>
<link crossorigin="anonymous" media="all" rel="stylesheet" href="https://github.githubassets.com/assets/primer-react.cbbd4414f8577721e220.module.css" />
<link crossorigin="anonymous" media="all" rel="stylesheet" href="https://github.githubassets.com/assets/ui_packages_document-metadata_document-metadata_ts-ui_packages_promise-with-resolvers-polyfil-1994a1.073e624dab074884b3a8.module.css" />
<link crossorigin="anonymous" media="all" rel="stylesheet" href="https://github.githubassets.com/assets/copilot-chat.f1dd8ba11f3f49d8ba17.module.css" />
      <link crossorigin="anonymous" media="all" rel="stylesheet" href="https://github.githubassets.com/assets/copilot-markdown-rendering-ddd978d4a7c0.css" />
      <include-fragment src="/github-copilot/chat?skip_anchor=true" data-nonce="v2:348ba944-dca8-4e40-2c06-e150f47efc38" data-view-component="true">
  
  <div data-show-on-forbidden-error hidden>
    <div class="Box">
  <div class="blankslate-container">
    <div data-view-component="true" class="blankslate blankslate-spacious color-bg-default rounded-2">
      

      <h3 data-view-component="true" class="blankslate-heading">        Uh oh!
</h3>
      <p data-view-component="true">        <p class="color-fg-muted my-2 mb-2 ws-normal">There was an error while loading. <a class="Link--inTextBlock" data-turbo="false" href="" aria-label="Please reload this page">Please reload this page</a>.</p>
</p>

</div>  </div>
</div>  </div>
</include-fragment>
    </template>
  </react-partial-anchor>
  <react-partial-anchor>
    <button id="global-copilot-menu-button" data-target="react-partial-anchor.anchor" aria-expanded="false" aria-labelledby="tooltip-df1598bc-97f2-4505-af13-d5c03f7526ec" type="button" data-view-component="true" class="Button Button--iconOnly Button--secondary Button--medium AppHeader-button AppHeader-buttonRight">  <svg aria-hidden="true" height="16" viewBox="0 0 16 16" version="1.1" width="16" data-view-component="true" class="octicon octicon-triangle-down Button-visual">
    <path d="m4.427 7.427 3.396 3.396a.25.25 0 0 0 .354 0l3.396-3.396A.25.25 0 0 0 11.396 7H4.604a.25.25 0 0 0-.177.427Z"></path>
</svg>
</button><tool-tip id="tooltip-df1598bc-97f2-4505-af13-d5c03f7526ec" for="global-copilot-menu-button" popover="manual" data-direction="s" data-type="label" data-view-component="true" class="sr-only position-absolute">Open Copilot…</tool-tip>

    <template data-target="react-partial-anchor.template">
      <script crossorigin="anonymous" type="application/javascript" src="https://github.githubassets.com/assets/vendors-node_modules_date-fns_format_mjs-a93a5b85c8ea.js" defer="defer"></script>
<script crossorigin="anonymous" type="application/javascript" src="https://github.githubassets.com/assets/vendors-node_modules_date-fns_addWeeks_mjs-node_modules_date-fns_addYears_mjs-node_modules_da-827f4f-87575d6383fe.js" defer="defer"></script>
<script crossorigin="anonymous" type="application/javascript" src="https://github.githubassets.com/assets/vendors-node_modules_focus-visible_dist_focus-visible_js-node_modules_github_hotkey_dist_inde-70f9af-30df9bed9390.js" defer="defer"></script>
<script crossorigin="anonymous" type="application/javascript" src="https://github.githubassets.com/assets/vendors-node_modules_dnd-kit_modifiers_dist_modifiers_esm_js-node_modules_dnd-kit_sortable_di-72228e-b01c014f1995.js" defer="defer"></script>
<script crossorigin="anonymous" type="application/javascript" src="https://github.githubassets.com/assets/ui_packages_date-picker_components_DatePicker_tsx-99a2135088d3.js" defer="defer"></script>
<script crossorigin="anonymous" type="application/javascript" src="https://github.githubassets.com/assets/ui_packages_drag-and-drop_drag-and-drop_ts-ui_packages_hydro-analytics_hydro-analytics_ts-2c479ff7f814.js" defer="defer"></script>
<script crossorigin="anonymous" type="application/javascript" src="https://github.githubassets.com/assets/ui_packages_list-view_src_hooks_use-next-header-tag_ts-ui_packages_list-view_src_ListItem_Lis-0a5d95-17009f8f0b87.js" defer="defer"></script>
<script crossorigin="anonymous" type="application/javascript" src="https://github.githubassets.com/assets/ui_packages_document-metadata_document-metadata_ts-ui_packages_mergebox_index_ts-ui_packages_-2cc8cc-7a049a56c077.js" defer="defer"></script>
<script crossorigin="anonymous" type="application/javascript" src="https://github.githubassets.com/assets/ui_packages_alive_alive_ts-ui_packages_alive_connect-alive-subscription_ts-ui_packages_global-5ece53-6fc5653ccc30.js" defer="defer"></script>
<script crossorigin="anonymous" type="application/javascript" src="https://github.githubassets.com/assets/global-copilot-menu-3d6157a6a509.js" defer="defer"></script>
<link crossorigin="anonymous" media="all" rel="stylesheet" href="https://github.githubassets.com/assets/primer-react.cbbd4414f8577721e220.module.css" />
<link crossorigin="anonymous" media="all" rel="stylesheet" href="https://github.githubassets.com/assets/ui_packages_document-metadata_document-metadata_ts-ui_packages_mergebox_index_ts-ui_packages_-2cc8cc.55d9c7d0fb68c7ed6b69.module.css" />
<link crossorigin="anonymous" media="all" rel="stylesheet" href="https://github.githubassets.com/assets/global-copilot-menu.0a5cf7ab2a28384de829.module.css" />

<react-partial
  partial-name="global-copilot-menu"
  data-ssr="false"
  data-attempted-ssr="false"
  data-react-profiling="false"
>
  
  <script type="application/json" data-target="react-partial.embeddedData">{"props":{}}</script>
  <div data-target="react-partial.reactRoot"></div>
</react-partial>

    </template>
  </react-partial-anchor>
</div>


        <div class="AppHeader-actions position-relative">
             <react-partial-anchor>
      <button id="global-create-menu-anchor" aria-label="Create something new" data-target="react-partial-anchor.anchor" type="button" disabled="disabled" data-view-component="true" class="AppHeader-button global-create-button cursor-wait Button--secondary Button--medium Button width-auto color-fg-muted">  <span class="Button-content">
      <span class="Button-visual Button-leadingVisual">
        <svg aria-hidden="true" height="16" viewBox="0 0 16 16" version="1.1" width="16" data-view-component="true" class="octicon octicon-plus">
    <path d="M7.75 2a.75.75 0 0 1 .75.75V7h4.25a.75.75 0 0 1 0 1.5H8.5v4.25a.75.75 0 0 1-1.5 0V8.5H2.75a.75.75 0 0 1 0-1.5H7V2.75A.75.75 0 0 1 7.75 2Z"></path>
</svg>
      </span>
    <span class="Button-label"><svg aria-hidden="true" height="16" viewBox="0 0 16 16" version="1.1" width="16" data-view-component="true" class="octicon octicon-triangle-down">
    <path d="m4.427 7.427 3.396 3.396a.25.25 0 0 0 .354 0l3.396-3.396A.25.25 0 0 0 11.396 7H4.604a.25.25 0 0 0-.177.427Z"></path>
</svg></span>
  </span>
</button><tool-tip id="tooltip-f028dbce-6f01-485c-840b-7fdc89ede944" for="global-create-menu-anchor" popover="manual" data-direction="s" data-type="description" data-view-component="true" class="sr-only position-absolute">Create new...</tool-tip>

      <template data-target="react-partial-anchor.template">
        <script crossorigin="anonymous" type="application/javascript" src="https://github.githubassets.com/assets/ui_packages_document-metadata_document-metadata_ts-ui_packages_promise-with-resolvers-polyfil-b81d9e-339df79edb30.js" defer="defer"></script>
<script crossorigin="anonymous" type="application/javascript" src="https://github.githubassets.com/assets/global-create-menu-8cf1ac98044f.js" defer="defer"></script>
<link crossorigin="anonymous" media="all" rel="stylesheet" href="https://github.githubassets.com/assets/primer-react.cbbd4414f8577721e220.module.css" />
<link crossorigin="anonymous" media="all" rel="stylesheet" href="https://github.githubassets.com/assets/global-create-menu.be9cb11ea6367dfdb719.module.css" />

<react-partial
  partial-name="global-create-menu"
  data-ssr="false"
  data-attempted-ssr="false"
  data-react-profiling="false"
>
  
  <script type="application/json" data-target="react-partial.embeddedData">{"props":{"createRepo":true,"importRepo":true,"codespaces":true,"spark":false,"gist":true,"createOrg":true,"createProject":false,"createProjectUrl":"/SunilSujith-IT?tab=projects","createLegacyProject":false,"createIssue":false,"org":null,"owner":"SunilSujith-IT","repo":"Music-for-U"}}</script>
  <div data-target="react-partial.reactRoot"></div>
</react-partial>

      </template>
    </react-partial-anchor>


            <a href="/issues" data-analytics-event="{&quot;category&quot;:&quot;Global navigation&quot;,&quot;action&quot;:&quot;ISSUES_HEADER&quot;,&quot;label&quot;:null}" id="icon-button-fb201a9f-61fa-485e-a964-efebaceba61f" aria-labelledby="tooltip-e102470b-5b49-42d5-98a8-7793ee0f7346" data-view-component="true" class="Button Button--iconOnly Button--secondary Button--medium AppHeader-button color-fg-muted">  <svg aria-hidden="true" height="16" viewBox="0 0 16 16" version="1.1" width="16" data-view-component="true" class="octicon octicon-issue-opened Button-visual">
    <path d="M8 9.5a1.5 1.5 0 1 0 0-3 1.5 1.5 0 0 0 0 3Z"></path><path d="M8 0a8 8 0 1 1 0 16A8 8 0 0 1 8 0ZM1.5 8a6.5 6.5 0 1 0 13 0 6.5 6.5 0 0 0-13 0Z"></path>
</svg>
</a><tool-tip id="tooltip-e102470b-5b49-42d5-98a8-7793ee0f7346" for="icon-button-fb201a9f-61fa-485e-a964-efebaceba61f" popover="manual" data-direction="s" data-type="label" data-view-component="true" class="sr-only position-absolute">Your issues</tool-tip>

            <a href="/pulls" data-analytics-event="{&quot;category&quot;:&quot;Global navigation&quot;,&quot;action&quot;:&quot;PULL_REQUESTS_HEADER&quot;,&quot;label&quot;:null}" id="icon-button-0f8f26c6-4e65-4f41-ac91-3a6fb8e6846c" aria-labelledby="tooltip-8e64075b-795f-434f-85ed-12aa6a6b685d" data-view-component="true" class="Button Button--iconOnly Button--secondary Button--medium AppHeader-button color-fg-muted">  <svg aria-hidden="true" height="16" viewBox="0 0 16 16" version="1.1" width="16" data-view-component="true" class="octicon octicon-git-pull-request Button-visual">
    <path d="M1.5 3.25a2.25 2.25 0 1 1 3 2.122v5.256a2.251 2.251 0 1 1-1.5 0V5.372A2.25 2.25 0 0 1 1.5 3.25Zm5.677-.177L9.573.677A.25.25 0 0 1 10 .854V2.5h1A2.5 2.5 0 0 1 13.5 5v5.628a2.251 2.251 0 1 1-1.5 0V5a1 1 0 0 0-1-1h-1v1.646a.25.25 0 0 1-.427.177L7.177 3.427a.25.25 0 0 1 0-.354ZM3.75 2.5a.75.75 0 1 0 0 1.5.75.75 0 0 0 0-1.5Zm0 9.5a.75.75 0 1 0 0 1.5.75.75 0 0 0 0-1.5Zm8.25.75a.75.75 0 1 0 1.5 0 .75.75 0 0 0-1.5 0Z"></path>
</svg>
</a><tool-tip id="tooltip-8e64075b-795f-434f-85ed-12aa6a6b685d" for="icon-button-0f8f26c6-4e65-4f41-ac91-3a6fb8e6846c" popover="manual" data-direction="s" data-type="label" data-view-component="true" class="sr-only position-absolute">Your pull requests</tool-tip>

        </div>

          <notification-indicator data-channel="eyJjIjoibm90aWZpY2F0aW9uLWNoYW5nZWQ6MjIwNjg3MjEyIiwidCI6MTc1MjQ4NDI0M30=--92662b6f260b7c03ac0bf9e09556019e9cdf7a22e807978f087c912f84eda779" data-indicator-mode="none" data-tooltip-global="You have unread notifications" data-tooltip-unavailable="Notifications are unavailable at the moment." data-tooltip-none="You have no unread notifications" data-header-redesign-enabled="true" data-fetch-indicator-src="/notifications/indicator" data-fetch-indicator-enabled="true" data-view-component="true" class="js-socket-channel">
    <a id="AppHeader-notifications-button" href="/notifications" aria-labelledby="notification-indicator-tooltip" data-hotkey="g n" data-target="notification-indicator.link" data-analytics-event="{&quot;category&quot;:&quot;Global navigation&quot;,&quot;action&quot;:&quot;NOTIFICATIONS_HEADER&quot;,&quot;label&quot;:null}" data-view-component="true" class="Button Button--iconOnly Button--secondary Button--medium AppHeader-button  color-fg-muted">  <svg aria-hidden="true" height="16" viewBox="0 0 16 16" version="1.1" width="16" data-view-component="true" class="octicon octicon-inbox Button-visual">
    <path d="M2.8 2.06A1.75 1.75 0 0 1 4.41 1h7.18c.7 0 1.333.417 1.61 1.06l2.74 6.395c.04.093.06.194.06.295v4.5A1.75 1.75 0 0 1 14.25 15H1.75A1.75 1.75 0 0 1 0 13.25v-4.5c0-.101.02-.202.06-.295Zm1.61.44a.25.25 0 0 0-.23.152L1.887 8H4.75a.75.75 0 0 1 .6.3L6.625 10h2.75l1.275-1.7a.75.75 0 0 1 .6-.3h2.863L11.82 2.652a.25.25 0 0 0-.23-.152Zm10.09 7h-2.875l-1.275 1.7a.75.75 0 0 1-.6.3h-3.5a.75.75 0 0 1-.6-.3L4.375 9.5H1.5v3.75c0 .138.112.25.25.25h12.5a.25.25 0 0 0 .25-.25Z"></path>
</svg>
</a>

    <tool-tip id="notification-indicator-tooltip" data-target="notification-indicator.tooltip" for="AppHeader-notifications-button" popover="manual" data-direction="s" data-type="label" data-view-component="true" class="sr-only position-absolute">Notifications</tool-tip>
</notification-indicator>

        <div class="AppHeader-user">
          <deferred-side-panel data-url="/_side-panels/user?repository_id=1019395558">
  <include-fragment data-target="deferred-side-panel.fragment" data-nonce="v2:348ba944-dca8-4e40-2c06-e150f47efc38" data-view-component="true">
  
    <react-partial-anchor
  
>
  <button data-target="react-partial-anchor.anchor" data-login="SunilSujith-IT" aria-label="Open user navigation menu" type="button" data-view-component="true" class="cursor-wait Button--invisible Button--medium Button Button--invisible-noVisuals color-bg-transparent p-0">  <span class="Button-content">
    <span class="Button-label"><img src="https://avatars.githubusercontent.com/u/220687212?v=4" alt="" size="32" height="32" width="32" data-view-component="true" class="avatar circle" /></span>
  </span>
</button>
  <template data-target="react-partial-anchor.template">
    <script crossorigin="anonymous" type="application/javascript" src="https://github.githubassets.com/assets/ui_packages_global-user-nav-drawer_entry_ts-0507ffbdbc3d.js" defer="defer"></script>
<script crossorigin="anonymous" type="application/javascript" src="https://github.githubassets.com/assets/global-user-nav-drawer-fa10170e4806.js" defer="defer"></script>
<link crossorigin="anonymous" media="all" rel="stylesheet" href="https://github.githubassets.com/assets/primer-react.cbbd4414f8577721e220.module.css" />
<link crossorigin="anonymous" media="all" rel="stylesheet" href="https://github.githubassets.com/assets/global-user-nav-drawer.e8cf9cec9edb459b70de.module.css" />

<react-partial
  partial-name="global-user-nav-drawer"
  data-ssr="false"
  data-attempted-ssr="false"
  data-react-profiling="false"
>
  
  <script type="application/json" data-target="react-partial.embeddedData">{"props":{"owner":{"login":"SunilSujith-IT","name":"Sunil Sujith S","avatarUrl":"https://avatars.githubusercontent.com/u/220687212?v=4"},"drawerId":"global-user-nav-drawer","lazyLoadItemDataFetchUrl":"/_side-panels/user.json","canAddAccount":true,"addAccountPath":"/login?add_account=1\u0026return_to=https%3A%2F%2Fgithub.com%2FSunilSujith-IT%2FMusic-for-U%2Fblob%2Fmain%2FMusic_recommendation_system.ipynb","switchAccountPath":"/switch_account","loginAccountPath":"/login?add_account=1","projectsPath":"/SunilSujith-IT?tab=projects","gistsUrl":"https://gist.github.com/mine","docsUrl":"https://docs.github.com","yourEnterpriseUrl":null,"enterpriseSettingsUrl":null,"supportUrl":"https://support.github.com","showAccountSwitcher":true,"showCopilot":true,"showEnterprises":true,"showEnterprise":false,"showGists":true,"showOrganizations":true,"showSponsors":true,"showUpgrade":true,"showFeaturesPreviews":true,"showEnterpriseSettings":false,"createMenuProps":{"createRepo":true,"importRepo":true,"codespaces":true,"spark":false,"gist":true,"createOrg":true,"createProject":false,"createProjectUrl":"/SunilSujith-IT?tab=projects","createLegacyProject":false,"createIssue":false,"org":null,"owner":"SunilSujith-IT","repo":"Music-for-U"}}}</script>
  <div data-target="react-partial.reactRoot"></div>
</react-partial>

  </template>
</react-partial-anchor>


  <div data-show-on-forbidden-error hidden>
    <div class="Box">
  <div class="blankslate-container">
    <div data-view-component="true" class="blankslate blankslate-spacious color-bg-default rounded-2">
      

      <h3 data-view-component="true" class="blankslate-heading">        Uh oh!
</h3>
      <p data-view-component="true">        <p class="color-fg-muted my-2 mb-2 ws-normal">There was an error while loading. <a class="Link--inTextBlock" data-turbo="false" href="" aria-label="Please reload this page">Please reload this page</a>.</p>
</p>

</div>  </div>
</div>  </div>
</include-fragment></deferred-side-panel>
        </div>

        <div class="position-absolute mt-2">
            
<site-header-logged-in-user-menu>

</site-header-logged-in-user-menu>

        </div>
      </div>
    </div>


    
        <div class="AppHeader-localBar" >
          <nav data-pjax="#js-repo-pjax-container" aria-label="Repository" data-view-component="true" class="js-repo-nav js-sidenav-container-pjax js-responsive-underlinenav overflow-hidden UnderlineNav">

  <ul data-view-component="true" class="UnderlineNav-body list-style-none">
      <li data-view-component="true" class="d-inline-flex">
  <a id="code-tab" href="/SunilSujith-IT/Music-for-U" data-tab-item="i0code-tab" data-selected-links="repo_source repo_downloads repo_commits repo_releases repo_tags repo_branches repo_packages repo_deployments repo_attestations /SunilSujith-IT/Music-for-U" data-pjax="#repo-content-pjax-container" data-turbo-frame="repo-content-turbo-frame" data-hotkey="g c" data-analytics-event="{&quot;category&quot;:&quot;Underline navbar&quot;,&quot;action&quot;:&quot;Click tab&quot;,&quot;label&quot;:&quot;Code&quot;,&quot;target&quot;:&quot;UNDERLINE_NAV.TAB&quot;}" data-view-component="true" class="UnderlineNav-item no-wrap js-responsive-underlinenav-item js-selected-navigation-item">
    
              <svg aria-hidden="true" height="16" viewBox="0 0 16 16" version="1.1" width="16" data-view-component="true" class="octicon octicon-code UnderlineNav-octicon d-none d-sm-inline">
    <path d="m11.28 3.22 4.25 4.25a.75.75 0 0 1 0 1.06l-4.25 4.25a.749.749 0 0 1-1.275-.326.749.749 0 0 1 .215-.734L13.94 8l-3.72-3.72a.749.749 0 0 1 .326-1.275.749.749 0 0 1 .734.215Zm-6.56 0a.751.751 0 0 1 1.042.018.751.751 0 0 1 .018 1.042L2.06 8l3.72 3.72a.749.749 0 0 1-.326 1.275.749.749 0 0 1-.734-.215L.47 8.53a.75.75 0 0 1 0-1.06Z"></path>
</svg>
        <span data-content="Code">Code</span>
          <span id="code-repo-tab-count" data-pjax-replace="" data-turbo-replace="" title="Not available" data-view-component="true" class="Counter"></span>


    
</a></li>
      <li data-view-component="true" class="d-inline-flex">
  <a id="issues-tab" href="/SunilSujith-IT/Music-for-U/issues" data-tab-item="i1issues-tab" data-selected-links="repo_issues repo_labels repo_milestones /SunilSujith-IT/Music-for-U/issues" data-pjax="#repo-content-pjax-container" data-turbo-frame="repo-content-turbo-frame" data-hotkey="g i" data-analytics-event="{&quot;category&quot;:&quot;Underline navbar&quot;,&quot;action&quot;:&quot;Click tab&quot;,&quot;label&quot;:&quot;Issues&quot;,&quot;target&quot;:&quot;UNDERLINE_NAV.TAB&quot;}" data-view-component="true" class="UnderlineNav-item no-wrap js-responsive-underlinenav-item js-selected-navigation-item">
    
              <svg aria-hidden="true" height="16" viewBox="0 0 16 16" version="1.1" width="16" data-view-component="true" class="octicon octicon-issue-opened UnderlineNav-octicon d-none d-sm-inline">
    <path d="M8 9.5a1.5 1.5 0 1 0 0-3 1.5 1.5 0 0 0 0 3Z"></path><path d="M8 0a8 8 0 1 1 0 16A8 8 0 0 1 8 0ZM1.5 8a6.5 6.5 0 1 0 13 0 6.5 6.5 0 0 0-13 0Z"></path>
</svg>
        <span data-content="Issues">Issues</span>
          <span id="issues-repo-tab-count" data-pjax-replace="" data-turbo-replace="" title="0" hidden="hidden" data-view-component="true" class="Counter">0</span>


    
</a></li>
      <li data-view-component="true" class="d-inline-flex">
  <a id="pull-requests-tab" href="/SunilSujith-IT/Music-for-U/pulls" data-tab-item="i2pull-requests-tab" data-selected-links="repo_pulls checks /SunilSujith-IT/Music-for-U/pulls" data-pjax="#repo-content-pjax-container" data-turbo-frame="repo-content-turbo-frame" data-hotkey="g p" data-analytics-event="{&quot;category&quot;:&quot;Underline navbar&quot;,&quot;action&quot;:&quot;Click tab&quot;,&quot;label&quot;:&quot;Pull requests&quot;,&quot;target&quot;:&quot;UNDERLINE_NAV.TAB&quot;}" data-view-component="true" class="UnderlineNav-item no-wrap js-responsive-underlinenav-item js-selected-navigation-item">
    
              <svg aria-hidden="true" height="16" viewBox="0 0 16 16" version="1.1" width="16" data-view-component="true" class="octicon octicon-git-pull-request UnderlineNav-octicon d-none d-sm-inline">
    <path d="M1.5 3.25a2.25 2.25 0 1 1 3 2.122v5.256a2.251 2.251 0 1 1-1.5 0V5.372A2.25 2.25 0 0 1 1.5 3.25Zm5.677-.177L9.573.677A.25.25 0 0 1 10 .854V2.5h1A2.5 2.5 0 0 1 13.5 5v5.628a2.251 2.251 0 1 1-1.5 0V5a1 1 0 0 0-1-1h-1v1.646a.25.25 0 0 1-.427.177L7.177 3.427a.25.25 0 0 1 0-.354ZM3.75 2.5a.75.75 0 1 0 0 1.5.75.75 0 0 0 0-1.5Zm0 9.5a.75.75 0 1 0 0 1.5.75.75 0 0 0 0-1.5Zm8.25.75a.75.75 0 1 0 1.5 0 .75.75 0 0 0-1.5 0Z"></path>
</svg>
        <span data-content="Pull requests">Pull requests</span>
          <span id="pull-requests-repo-tab-count" data-pjax-replace="" data-turbo-replace="" title="0" hidden="hidden" data-view-component="true" class="Counter">0</span>


    
</a></li>
      <li data-view-component="true" class="d-inline-flex">
  <a id="actions-tab" href="/SunilSujith-IT/Music-for-U/actions" data-tab-item="i3actions-tab" data-selected-links="repo_actions /SunilSujith-IT/Music-for-U/actions" data-pjax="#repo-content-pjax-container" data-turbo-frame="repo-content-turbo-frame" data-hotkey="g a" data-analytics-event="{&quot;category&quot;:&quot;Underline navbar&quot;,&quot;action&quot;:&quot;Click tab&quot;,&quot;label&quot;:&quot;Actions&quot;,&quot;target&quot;:&quot;UNDERLINE_NAV.TAB&quot;}" data-view-component="true" class="UnderlineNav-item no-wrap js-responsive-underlinenav-item js-selected-navigation-item">
    
              <svg aria-hidden="true" height="16" viewBox="0 0 16 16" version="1.1" width="16" data-view-component="true" class="octicon octicon-play UnderlineNav-octicon d-none d-sm-inline">
    <path d="M8 0a8 8 0 1 1 0 16A8 8 0 0 1 8 0ZM1.5 8a6.5 6.5 0 1 0 13 0 6.5 6.5 0 0 0-13 0Zm4.879-2.773 4.264 2.559a.25.25 0 0 1 0 .428l-4.264 2.559A.25.25 0 0 1 6 10.559V5.442a.25.25 0 0 1 .379-.215Z"></path>
</svg>
        <span data-content="Actions">Actions</span>
          <span id="actions-repo-tab-count" data-pjax-replace="" data-turbo-replace="" title="Not available" data-view-component="true" class="Counter"></span>


    
</a></li>
      <li data-view-component="true" class="d-inline-flex">
  <a id="projects-tab" href="/SunilSujith-IT/Music-for-U/projects" data-tab-item="i4projects-tab" data-selected-links="repo_projects new_repo_project repo_project /SunilSujith-IT/Music-for-U/projects" data-pjax="#repo-content-pjax-container" data-turbo-frame="repo-content-turbo-frame" data-hotkey="g b" data-analytics-event="{&quot;category&quot;:&quot;Underline navbar&quot;,&quot;action&quot;:&quot;Click tab&quot;,&quot;label&quot;:&quot;Projects&quot;,&quot;target&quot;:&quot;UNDERLINE_NAV.TAB&quot;}" data-view-component="true" class="UnderlineNav-item no-wrap js-responsive-underlinenav-item js-selected-navigation-item">
    
              <svg aria-hidden="true" height="16" viewBox="0 0 16 16" version="1.1" width="16" data-view-component="true" class="octicon octicon-table UnderlineNav-octicon d-none d-sm-inline">
    <path d="M0 1.75C0 .784.784 0 1.75 0h12.5C15.216 0 16 .784 16 1.75v12.5A1.75 1.75 0 0 1 14.25 16H1.75A1.75 1.75 0 0 1 0 14.25ZM6.5 6.5v8h7.75a.25.25 0 0 0 .25-.25V6.5Zm8-1.5V1.75a.25.25 0 0 0-.25-.25H6.5V5Zm-13 1.5v7.75c0 .138.112.25.25.25H5v-8ZM5 5V1.5H1.75a.25.25 0 0 0-.25.25V5Z"></path>
</svg>
        <span data-content="Projects">Projects</span>
          <span id="projects-repo-tab-count" data-pjax-replace="" data-turbo-replace="" title="0" hidden="hidden" data-view-component="true" class="Counter">0</span>


    
</a></li>
      <li data-view-component="true" class="d-inline-flex">
  <a id="wiki-tab" href="/SunilSujith-IT/Music-for-U/wiki" data-tab-item="i5wiki-tab" data-selected-links="repo_wiki /SunilSujith-IT/Music-for-U/wiki" data-pjax="#repo-content-pjax-container" data-turbo-frame="repo-content-turbo-frame" data-hotkey="g w" data-analytics-event="{&quot;category&quot;:&quot;Underline navbar&quot;,&quot;action&quot;:&quot;Click tab&quot;,&quot;label&quot;:&quot;Wiki&quot;,&quot;target&quot;:&quot;UNDERLINE_NAV.TAB&quot;}" data-view-component="true" class="UnderlineNav-item no-wrap js-responsive-underlinenav-item js-selected-navigation-item">
    
              <svg aria-hidden="true" height="16" viewBox="0 0 16 16" version="1.1" width="16" data-view-component="true" class="octicon octicon-book UnderlineNav-octicon d-none d-sm-inline">
    <path d="M0 1.75A.75.75 0 0 1 .75 1h4.253c1.227 0 2.317.59 3 1.501A3.743 3.743 0 0 1 11.006 1h4.245a.75.75 0 0 1 .75.75v10.5a.75.75 0 0 1-.75.75h-4.507a2.25 2.25 0 0 0-1.591.659l-.622.621a.75.75 0 0 1-1.06 0l-.622-.621A2.25 2.25 0 0 0 5.258 13H.75a.75.75 0 0 1-.75-.75Zm7.251 10.324.004-5.073-.002-2.253A2.25 2.25 0 0 0 5.003 2.5H1.5v9h3.757a3.75 3.75 0 0 1 1.994.574ZM8.755 4.75l-.004 7.322a3.752 3.752 0 0 1 1.992-.572H14.5v-9h-3.495a2.25 2.25 0 0 0-2.25 2.25Z"></path>
</svg>
        <span data-content="Wiki">Wiki</span>
          <span id="wiki-repo-tab-count" data-pjax-replace="" data-turbo-replace="" title="Not available" data-view-component="true" class="Counter"></span>


    
</a></li>
      <li data-view-component="true" class="d-inline-flex">
  <a id="security-tab" href="/SunilSujith-IT/Music-for-U/security" data-tab-item="i6security-tab" data-selected-links="security overview alerts policy token_scanning code_scanning /SunilSujith-IT/Music-for-U/security" data-pjax="#repo-content-pjax-container" data-turbo-frame="repo-content-turbo-frame" data-hotkey="g s" data-analytics-event="{&quot;category&quot;:&quot;Underline navbar&quot;,&quot;action&quot;:&quot;Click tab&quot;,&quot;label&quot;:&quot;Security&quot;,&quot;target&quot;:&quot;UNDERLINE_NAV.TAB&quot;}" data-view-component="true" class="UnderlineNav-item no-wrap js-responsive-underlinenav-item js-selected-navigation-item">
    
              <svg aria-hidden="true" height="16" viewBox="0 0 16 16" version="1.1" width="16" data-view-component="true" class="octicon octicon-shield UnderlineNav-octicon d-none d-sm-inline">
    <path d="M7.467.133a1.748 1.748 0 0 1 1.066 0l5.25 1.68A1.75 1.75 0 0 1 15 3.48V7c0 1.566-.32 3.182-1.303 4.682-.983 1.498-2.585 2.813-5.032 3.855a1.697 1.697 0 0 1-1.33 0c-2.447-1.042-4.049-2.357-5.032-3.855C1.32 10.182 1 8.566 1 7V3.48a1.75 1.75 0 0 1 1.217-1.667Zm.61 1.429a.25.25 0 0 0-.153 0l-5.25 1.68a.25.25 0 0 0-.174.238V7c0 1.358.275 2.666 1.057 3.86.784 1.194 2.121 2.34 4.366 3.297a.196.196 0 0 0 .154 0c2.245-.956 3.582-2.104 4.366-3.298C13.225 9.666 13.5 8.36 13.5 7V3.48a.251.251 0 0 0-.174-.237l-5.25-1.68ZM8.75 4.75v3a.75.75 0 0 1-1.5 0v-3a.75.75 0 0 1 1.5 0ZM9 10.5a1 1 0 1 1-2 0 1 1 0 0 1 2 0Z"></path>
</svg>
        <span data-content="Security">Security</span>
          <include-fragment src="/SunilSujith-IT/Music-for-U/security/overall-count" accept="text/fragment+html" data-nonce="v2:348ba944-dca8-4e40-2c06-e150f47efc38" data-view-component="true">
  
  <div data-show-on-forbidden-error hidden>
    <div class="Box">
  <div class="blankslate-container">
    <div data-view-component="true" class="blankslate blankslate-spacious color-bg-default rounded-2">
      

      <h3 data-view-component="true" class="blankslate-heading">        Uh oh!
</h3>
      <p data-view-component="true">        <p class="color-fg-muted my-2 mb-2 ws-normal">There was an error while loading. <a class="Link--inTextBlock" data-turbo="false" href="" aria-label="Please reload this page">Please reload this page</a>.</p>
</p>

</div>  </div>
</div>  </div>
</include-fragment>

    
</a></li>
      <li data-view-component="true" class="d-inline-flex">
  <a id="insights-tab" href="/SunilSujith-IT/Music-for-U/pulse" data-tab-item="i7insights-tab" data-selected-links="repo_graphs repo_contributors dependency_graph dependabot_updates pulse people community /SunilSujith-IT/Music-for-U/pulse" data-pjax="#repo-content-pjax-container" data-turbo-frame="repo-content-turbo-frame" data-analytics-event="{&quot;category&quot;:&quot;Underline navbar&quot;,&quot;action&quot;:&quot;Click tab&quot;,&quot;label&quot;:&quot;Insights&quot;,&quot;target&quot;:&quot;UNDERLINE_NAV.TAB&quot;}" data-view-component="true" class="UnderlineNav-item no-wrap js-responsive-underlinenav-item js-selected-navigation-item">
    
              <svg aria-hidden="true" height="16" viewBox="0 0 16 16" version="1.1" width="16" data-view-component="true" class="octicon octicon-graph UnderlineNav-octicon d-none d-sm-inline">
    <path d="M1.5 1.75V13.5h13.75a.75.75 0 0 1 0 1.5H.75a.75.75 0 0 1-.75-.75V1.75a.75.75 0 0 1 1.5 0Zm14.28 2.53-5.25 5.25a.75.75 0 0 1-1.06 0L7 7.06 4.28 9.78a.751.751 0 0 1-1.042-.018.751.751 0 0 1-.018-1.042l3.25-3.25a.75.75 0 0 1 1.06 0L10 7.94l4.72-4.72a.751.751 0 0 1 1.042.018.751.751 0 0 1 .018 1.042Z"></path>
</svg>
        <span data-content="Insights">Insights</span>
          <span id="insights-repo-tab-count" data-pjax-replace="" data-turbo-replace="" title="Not available" data-view-component="true" class="Counter"></span>


    
</a></li>
      <li data-view-component="true" class="d-inline-flex">
  <a id="settings-tab" href="/SunilSujith-IT/Music-for-U/settings" data-tab-item="i8settings-tab" data-selected-links="code_review_limits code_quality codespaces_repository_settings collaborators custom_tabs github_models_repo_settings hooks integration_installations interaction_limits issue_template_editor key_links_settings notifications repo_announcements repo_branch_settings repo_custom_properties repo_keys_settings repo_pages_settings repo_protected_tags_settings repo_rule_insights repo_rules_bypass_requests repo_rulesets repo_settings_copilot_coding_guidelines repo_settings_copilot_content_exclusion repo_settings_copilot_swe_agent repo_settings reported_content repository_actions_settings_add_new_runner repository_actions_settings_general repository_actions_settings_runner_details repository_actions_settings_runners repository_actions_settings repository_environments role_details secrets_settings_actions secrets_settings_codespaces secrets_settings_dependabot secrets security_analysis security_products /SunilSujith-IT/Music-for-U/settings" data-pjax="#repo-content-pjax-container" data-turbo-frame="repo-content-turbo-frame" data-analytics-event="{&quot;category&quot;:&quot;Underline navbar&quot;,&quot;action&quot;:&quot;Click tab&quot;,&quot;label&quot;:&quot;Settings&quot;,&quot;target&quot;:&quot;UNDERLINE_NAV.TAB&quot;}" data-view-component="true" class="UnderlineNav-item no-wrap js-responsive-underlinenav-item js-selected-navigation-item">
    
              <svg aria-hidden="true" height="16" viewBox="0 0 16 16" version="1.1" width="16" data-view-component="true" class="octicon octicon-gear UnderlineNav-octicon d-none d-sm-inline">
    <path d="M8 0a8.2 8.2 0 0 1 .701.031C9.444.095 9.99.645 10.16 1.29l.288 1.107c.018.066.079.158.212.224.231.114.454.243.668.386.123.082.233.09.299.071l1.103-.303c.644-.176 1.392.021 1.82.63.27.385.506.792.704 1.218.315.675.111 1.422-.364 1.891l-.814.806c-.049.048-.098.147-.088.294.016.257.016.515 0 .772-.01.147.038.246.088.294l.814.806c.475.469.679 1.216.364 1.891a7.977 7.977 0 0 1-.704 1.217c-.428.61-1.176.807-1.82.63l-1.102-.302c-.067-.019-.177-.011-.3.071a5.909 5.909 0 0 1-.668.386c-.133.066-.194.158-.211.224l-.29 1.106c-.168.646-.715 1.196-1.458 1.26a8.006 8.006 0 0 1-1.402 0c-.743-.064-1.289-.614-1.458-1.26l-.289-1.106c-.018-.066-.079-.158-.212-.224a5.738 5.738 0 0 1-.668-.386c-.123-.082-.233-.09-.299-.071l-1.103.303c-.644.176-1.392-.021-1.82-.63a8.12 8.12 0 0 1-.704-1.218c-.315-.675-.111-1.422.363-1.891l.815-.806c.05-.048.098-.147.088-.294a6.214 6.214 0 0 1 0-.772c.01-.147-.038-.246-.088-.294l-.815-.806C.635 6.045.431 5.298.746 4.623a7.92 7.92 0 0 1 .704-1.217c.428-.61 1.176-.807 1.82-.63l1.102.302c.067.019.177.011.3-.071.214-.143.437-.272.668-.386.133-.066.194-.158.211-.224l.29-1.106C6.009.645 6.556.095 7.299.03 7.53.01 7.764 0 8 0Zm-.571 1.525c-.036.003-.108.036-.137.146l-.289 1.105c-.147.561-.549.967-.998 1.189-.173.086-.34.183-.5.29-.417.278-.97.423-1.529.27l-1.103-.303c-.109-.03-.175.016-.195.045-.22.312-.412.644-.573.99-.014.031-.021.11.059.19l.815.806c.411.406.562.957.53 1.456a4.709 4.709 0 0 0 0 .582c.032.499-.119 1.05-.53 1.456l-.815.806c-.081.08-.073.159-.059.19.162.346.353.677.573.989.02.03.085.076.195.046l1.102-.303c.56-.153 1.113-.008 1.53.27.161.107.328.204.501.29.447.222.85.629.997 1.189l.289 1.105c.029.109.101.143.137.146a6.6 6.6 0 0 0 1.142 0c.036-.003.108-.036.137-.146l.289-1.105c.147-.561.549-.967.998-1.189.173-.086.34-.183.5-.29.417-.278.97-.423 1.529-.27l1.103.303c.109.029.175-.016.195-.045.22-.313.411-.644.573-.99.014-.031.021-.11-.059-.19l-.815-.806c-.411-.406-.562-.957-.53-1.456a4.709 4.709 0 0 0 0-.582c-.032-.499.119-1.05.53-1.456l.815-.806c.081-.08.073-.159.059-.19a6.464 6.464 0 0 0-.573-.989c-.02-.03-.085-.076-.195-.046l-1.102.303c-.56.153-1.113.008-1.53-.27a4.44 4.44 0 0 0-.501-.29c-.447-.222-.85-.629-.997-1.189l-.289-1.105c-.029-.11-.101-.143-.137-.146a6.6 6.6 0 0 0-1.142 0ZM11 8a3 3 0 1 1-6 0 3 3 0 0 1 6 0ZM9.5 8a1.5 1.5 0 1 0-3.001.001A1.5 1.5 0 0 0 9.5 8Z"></path>
</svg>
        <span data-content="Settings">Settings</span>
          <span id="settings-repo-tab-count" data-pjax-replace="" data-turbo-replace="" title="Not available" data-view-component="true" class="Counter"></span>


    
</a></li>
</ul>
    <div style="visibility:hidden;" data-view-component="true" class="UnderlineNav-actions js-responsive-underlinenav-overflow position-absolute pr-3 pr-md-4 pr-lg-5 right-0">      <action-menu data-select-variant="none" data-view-component="true">
  <focus-group direction="vertical" mnemonics retain>
    <button id="action-menu-ab1653e7-1a63-47db-87ae-66005b57d64e-button" popovertarget="action-menu-ab1653e7-1a63-47db-87ae-66005b57d64e-overlay" aria-controls="action-menu-ab1653e7-1a63-47db-87ae-66005b57d64e-list" aria-haspopup="true" aria-labelledby="tooltip-00c812ab-23a0-4a46-beba-be6f850986ea" type="button" data-view-component="true" class="Button Button--iconOnly Button--secondary Button--medium UnderlineNav-item">  <svg aria-hidden="true" height="16" viewBox="0 0 16 16" version="1.1" width="16" data-view-component="true" class="octicon octicon-kebab-horizontal Button-visual">
    <path d="M8 9a1.5 1.5 0 1 0 0-3 1.5 1.5 0 0 0 0 3ZM1.5 9a1.5 1.5 0 1 0 0-3 1.5 1.5 0 0 0 0 3Zm13 0a1.5 1.5 0 1 0 0-3 1.5 1.5 0 0 0 0 3Z"></path>
</svg>
</button><tool-tip id="tooltip-00c812ab-23a0-4a46-beba-be6f850986ea" for="action-menu-ab1653e7-1a63-47db-87ae-66005b57d64e-button" popover="manual" data-direction="s" data-type="label" data-view-component="true" class="sr-only position-absolute">Additional navigation options</tool-tip>


<anchored-position data-target="action-menu.overlay" id="action-menu-ab1653e7-1a63-47db-87ae-66005b57d64e-overlay" anchor="action-menu-ab1653e7-1a63-47db-87ae-66005b57d64e-button" align="start" side="outside-bottom" anchor-offset="normal" popover="auto" data-view-component="true">
  <div data-view-component="true" class="Overlay Overlay--size-auto">
    
      <div data-view-component="true" class="Overlay-body Overlay-body--paddingNone">          <action-list>
  <div data-view-component="true">
    <ul aria-labelledby="action-menu-ab1653e7-1a63-47db-87ae-66005b57d64e-button" id="action-menu-ab1653e7-1a63-47db-87ae-66005b57d64e-list" role="menu" data-view-component="true" class="ActionListWrap--inset ActionListWrap">
        <li hidden="hidden" data-menu-item="i0code-tab" data-targets="action-list.items" role="none" data-view-component="true" class="ActionListItem">
    
    
    <a tabindex="-1" id="item-665af409-4db5-4004-b84d-b3d0dd05a930" href="/SunilSujith-IT/Music-for-U" role="menuitem" data-view-component="true" class="ActionListContent ActionListContent--visual16">
        <span class="ActionListItem-visual ActionListItem-visual--leading">
          <svg aria-hidden="true" height="16" viewBox="0 0 16 16" version="1.1" width="16" data-view-component="true" class="octicon octicon-code">
    <path d="m11.28 3.22 4.25 4.25a.75.75 0 0 1 0 1.06l-4.25 4.25a.749.749 0 0 1-1.275-.326.749.749 0 0 1 .215-.734L13.94 8l-3.72-3.72a.749.749 0 0 1 .326-1.275.749.749 0 0 1 .734.215Zm-6.56 0a.751.751 0 0 1 1.042.018.751.751 0 0 1 .018 1.042L2.06 8l3.72 3.72a.749.749 0 0 1-.326 1.275.749.749 0 0 1-.734-.215L.47 8.53a.75.75 0 0 1 0-1.06Z"></path>
</svg>
        </span>
      
        <span data-view-component="true" class="ActionListItem-label">
          Code
</span>      
</a>
  
</li>
        <li hidden="hidden" data-menu-item="i1issues-tab" data-targets="action-list.items" role="none" data-view-component="true" class="ActionListItem">
    
    
    <a tabindex="-1" id="item-d5828c23-d957-4a2b-bcb0-94bc2f00f55a" href="/SunilSujith-IT/Music-for-U/issues" role="menuitem" data-view-component="true" class="ActionListContent ActionListContent--visual16">
        <span class="ActionListItem-visual ActionListItem-visual--leading">
          <svg aria-hidden="true" height="16" viewBox="0 0 16 16" version="1.1" width="16" data-view-component="true" class="octicon octicon-issue-opened">
    <path d="M8 9.5a1.5 1.5 0 1 0 0-3 1.5 1.5 0 0 0 0 3Z"></path><path d="M8 0a8 8 0 1 1 0 16A8 8 0 0 1 8 0ZM1.5 8a6.5 6.5 0 1 0 13 0 6.5 6.5 0 0 0-13 0Z"></path>
</svg>
        </span>
      
        <span data-view-component="true" class="ActionListItem-label">
          Issues
</span>      
</a>
  
</li>
        <li hidden="hidden" data-menu-item="i2pull-requests-tab" data-targets="action-list.items" role="none" data-view-component="true" class="ActionListItem">
    
    
    <a tabindex="-1" id="item-c564b104-604b-495c-97da-eb8636217466" href="/SunilSujith-IT/Music-for-U/pulls" role="menuitem" data-view-component="true" class="ActionListContent ActionListContent--visual16">
        <span class="ActionListItem-visual ActionListItem-visual--leading">
          <svg aria-hidden="true" height="16" viewBox="0 0 16 16" version="1.1" width="16" data-view-component="true" class="octicon octicon-git-pull-request">
    <path d="M1.5 3.25a2.25 2.25 0 1 1 3 2.122v5.256a2.251 2.251 0 1 1-1.5 0V5.372A2.25 2.25 0 0 1 1.5 3.25Zm5.677-.177L9.573.677A.25.25 0 0 1 10 .854V2.5h1A2.5 2.5 0 0 1 13.5 5v5.628a2.251 2.251 0 1 1-1.5 0V5a1 1 0 0 0-1-1h-1v1.646a.25.25 0 0 1-.427.177L7.177 3.427a.25.25 0 0 1 0-.354ZM3.75 2.5a.75.75 0 1 0 0 1.5.75.75 0 0 0 0-1.5Zm0 9.5a.75.75 0 1 0 0 1.5.75.75 0 0 0 0-1.5Zm8.25.75a.75.75 0 1 0 1.5 0 .75.75 0 0 0-1.5 0Z"></path>
</svg>
        </span>
      
        <span data-view-component="true" class="ActionListItem-label">
          Pull requests
</span>      
</a>
  
</li>
        <li hidden="hidden" data-menu-item="i3actions-tab" data-targets="action-list.items" role="none" data-view-component="true" class="ActionListItem">
    
    
    <a tabindex="-1" id="item-bb0b1636-ff2f-4193-824c-b34b5d8b4ec7" href="/SunilSujith-IT/Music-for-U/actions" role="menuitem" data-view-component="true" class="ActionListContent ActionListContent--visual16">
        <span class="ActionListItem-visual ActionListItem-visual--leading">
          <svg aria-hidden="true" height="16" viewBox="0 0 16 16" version="1.1" width="16" data-view-component="true" class="octicon octicon-play">
    <path d="M8 0a8 8 0 1 1 0 16A8 8 0 0 1 8 0ZM1.5 8a6.5 6.5 0 1 0 13 0 6.5 6.5 0 0 0-13 0Zm4.879-2.773 4.264 2.559a.25.25 0 0 1 0 .428l-4.264 2.559A.25.25 0 0 1 6 10.559V5.442a.25.25 0 0 1 .379-.215Z"></path>
</svg>
        </span>
      
        <span data-view-component="true" class="ActionListItem-label">
          Actions
</span>      
</a>
  
</li>
        <li hidden="hidden" data-menu-item="i4projects-tab" data-targets="action-list.items" role="none" data-view-component="true" class="ActionListItem">
    
    
    <a tabindex="-1" id="item-b071fb77-24f2-49f7-8d6b-d4685e2575cf" href="/SunilSujith-IT/Music-for-U/projects" role="menuitem" data-view-component="true" class="ActionListContent ActionListContent--visual16">
        <span class="ActionListItem-visual ActionListItem-visual--leading">
          <svg aria-hidden="true" height="16" viewBox="0 0 16 16" version="1.1" width="16" data-view-component="true" class="octicon octicon-table">
    <path d="M0 1.75C0 .784.784 0 1.75 0h12.5C15.216 0 16 .784 16 1.75v12.5A1.75 1.75 0 0 1 14.25 16H1.75A1.75 1.75 0 0 1 0 14.25ZM6.5 6.5v8h7.75a.25.25 0 0 0 .25-.25V6.5Zm8-1.5V1.75a.25.25 0 0 0-.25-.25H6.5V5Zm-13 1.5v7.75c0 .138.112.25.25.25H5v-8ZM5 5V1.5H1.75a.25.25 0 0 0-.25.25V5Z"></path>
</svg>
        </span>
      
        <span data-view-component="true" class="ActionListItem-label">
          Projects
</span>      
</a>
  
</li>
        <li hidden="hidden" data-menu-item="i5wiki-tab" data-targets="action-list.items" role="none" data-view-component="true" class="ActionListItem">
    
    
    <a tabindex="-1" id="item-bd254493-0831-4f57-bbf2-e8bc8c26710a" href="/SunilSujith-IT/Music-for-U/wiki" role="menuitem" data-view-component="true" class="ActionListContent ActionListContent--visual16">
        <span class="ActionListItem-visual ActionListItem-visual--leading">
          <svg aria-hidden="true" height="16" viewBox="0 0 16 16" version="1.1" width="16" data-view-component="true" class="octicon octicon-book">
    <path d="M0 1.75A.75.75 0 0 1 .75 1h4.253c1.227 0 2.317.59 3 1.501A3.743 3.743 0 0 1 11.006 1h4.245a.75.75 0 0 1 .75.75v10.5a.75.75 0 0 1-.75.75h-4.507a2.25 2.25 0 0 0-1.591.659l-.622.621a.75.75 0 0 1-1.06 0l-.622-.621A2.25 2.25 0 0 0 5.258 13H.75a.75.75 0 0 1-.75-.75Zm7.251 10.324.004-5.073-.002-2.253A2.25 2.25 0 0 0 5.003 2.5H1.5v9h3.757a3.75 3.75 0 0 1 1.994.574ZM8.755 4.75l-.004 7.322a3.752 3.752 0 0 1 1.992-.572H14.5v-9h-3.495a2.25 2.25 0 0 0-2.25 2.25Z"></path>
</svg>
        </span>
      
        <span data-view-component="true" class="ActionListItem-label">
          Wiki
</span>      
</a>
  
</li>
        <li hidden="hidden" data-menu-item="i6security-tab" data-targets="action-list.items" role="none" data-view-component="true" class="ActionListItem">
    
    
    <a tabindex="-1" id="item-43395c84-fbb8-444e-9b85-5182b47bbe43" href="/SunilSujith-IT/Music-for-U/security" role="menuitem" data-view-component="true" class="ActionListContent ActionListContent--visual16">
        <span class="ActionListItem-visual ActionListItem-visual--leading">
          <svg aria-hidden="true" height="16" viewBox="0 0 16 16" version="1.1" width="16" data-view-component="true" class="octicon octicon-shield">
    <path d="M7.467.133a1.748 1.748 0 0 1 1.066 0l5.25 1.68A1.75 1.75 0 0 1 15 3.48V7c0 1.566-.32 3.182-1.303 4.682-.983 1.498-2.585 2.813-5.032 3.855a1.697 1.697 0 0 1-1.33 0c-2.447-1.042-4.049-2.357-5.032-3.855C1.32 10.182 1 8.566 1 7V3.48a1.75 1.75 0 0 1 1.217-1.667Zm.61 1.429a.25.25 0 0 0-.153 0l-5.25 1.68a.25.25 0 0 0-.174.238V7c0 1.358.275 2.666 1.057 3.86.784 1.194 2.121 2.34 4.366 3.297a.196.196 0 0 0 .154 0c2.245-.956 3.582-2.104 4.366-3.298C13.225 9.666 13.5 8.36 13.5 7V3.48a.251.251 0 0 0-.174-.237l-5.25-1.68ZM8.75 4.75v3a.75.75 0 0 1-1.5 0v-3a.75.75 0 0 1 1.5 0ZM9 10.5a1 1 0 1 1-2 0 1 1 0 0 1 2 0Z"></path>
</svg>
        </span>
      
        <span data-view-component="true" class="ActionListItem-label">
          Security
</span>      
</a>
  
</li>
        <li hidden="hidden" data-menu-item="i7insights-tab" data-targets="action-list.items" role="none" data-view-component="true" class="ActionListItem">
    
    
    <a tabindex="-1" id="item-b975f96a-b92e-4616-b5e0-1d505973979b" href="/SunilSujith-IT/Music-for-U/pulse" role="menuitem" data-view-component="true" class="ActionListContent ActionListContent--visual16">
        <span class="ActionListItem-visual ActionListItem-visual--leading">
          <svg aria-hidden="true" height="16" viewBox="0 0 16 16" version="1.1" width="16" data-view-component="true" class="octicon octicon-graph">
    <path d="M1.5 1.75V13.5h13.75a.75.75 0 0 1 0 1.5H.75a.75.75 0 0 1-.75-.75V1.75a.75.75 0 0 1 1.5 0Zm14.28 2.53-5.25 5.25a.75.75 0 0 1-1.06 0L7 7.06 4.28 9.78a.751.751 0 0 1-1.042-.018.751.751 0 0 1-.018-1.042l3.25-3.25a.75.75 0 0 1 1.06 0L10 7.94l4.72-4.72a.751.751 0 0 1 1.042.018.751.751 0 0 1 .018 1.042Z"></path>
</svg>
        </span>
      
        <span data-view-component="true" class="ActionListItem-label">
          Insights
</span>      
</a>
  
</li>
        <li hidden="hidden" data-menu-item="i8settings-tab" data-targets="action-list.items" role="none" data-view-component="true" class="ActionListItem">
    
    
    <a tabindex="-1" id="item-740f551d-6755-4f37-818c-fa9be6ee72b5" href="/SunilSujith-IT/Music-for-U/settings" role="menuitem" data-view-component="true" class="ActionListContent ActionListContent--visual16">
        <span class="ActionListItem-visual ActionListItem-visual--leading">
          <svg aria-hidden="true" height="16" viewBox="0 0 16 16" version="1.1" width="16" data-view-component="true" class="octicon octicon-gear">
    <path d="M8 0a8.2 8.2 0 0 1 .701.031C9.444.095 9.99.645 10.16 1.29l.288 1.107c.018.066.079.158.212.224.231.114.454.243.668.386.123.082.233.09.299.071l1.103-.303c.644-.176 1.392.021 1.82.63.27.385.506.792.704 1.218.315.675.111 1.422-.364 1.891l-.814.806c-.049.048-.098.147-.088.294.016.257.016.515 0 .772-.01.147.038.246.088.294l.814.806c.475.469.679 1.216.364 1.891a7.977 7.977 0 0 1-.704 1.217c-.428.61-1.176.807-1.82.63l-1.102-.302c-.067-.019-.177-.011-.3.071a5.909 5.909 0 0 1-.668.386c-.133.066-.194.158-.211.224l-.29 1.106c-.168.646-.715 1.196-1.458 1.26a8.006 8.006 0 0 1-1.402 0c-.743-.064-1.289-.614-1.458-1.26l-.289-1.106c-.018-.066-.079-.158-.212-.224a5.738 5.738 0 0 1-.668-.386c-.123-.082-.233-.09-.299-.071l-1.103.303c-.644.176-1.392-.021-1.82-.63a8.12 8.12 0 0 1-.704-1.218c-.315-.675-.111-1.422.363-1.891l.815-.806c.05-.048.098-.147.088-.294a6.214 6.214 0 0 1 0-.772c.01-.147-.038-.246-.088-.294l-.815-.806C.635 6.045.431 5.298.746 4.623a7.92 7.92 0 0 1 .704-1.217c.428-.61 1.176-.807 1.82-.63l1.102.302c.067.019.177.011.3-.071.214-.143.437-.272.668-.386.133-.066.194-.158.211-.224l.29-1.106C6.009.645 6.556.095 7.299.03 7.53.01 7.764 0 8 0Zm-.571 1.525c-.036.003-.108.036-.137.146l-.289 1.105c-.147.561-.549.967-.998 1.189-.173.086-.34.183-.5.29-.417.278-.97.423-1.529.27l-1.103-.303c-.109-.03-.175.016-.195.045-.22.312-.412.644-.573.99-.014.031-.021.11.059.19l.815.806c.411.406.562.957.53 1.456a4.709 4.709 0 0 0 0 .582c.032.499-.119 1.05-.53 1.456l-.815.806c-.081.08-.073.159-.059.19.162.346.353.677.573.989.02.03.085.076.195.046l1.102-.303c.56-.153 1.113-.008 1.53.27.161.107.328.204.501.29.447.222.85.629.997 1.189l.289 1.105c.029.109.101.143.137.146a6.6 6.6 0 0 0 1.142 0c.036-.003.108-.036.137-.146l.289-1.105c.147-.561.549-.967.998-1.189.173-.086.34-.183.5-.29.417-.278.97-.423 1.529-.27l1.103.303c.109.029.175-.016.195-.045.22-.313.411-.644.573-.99.014-.031.021-.11-.059-.19l-.815-.806c-.411-.406-.562-.957-.53-1.456a4.709 4.709 0 0 0 0-.582c-.032-.499.119-1.05.53-1.456l.815-.806c.081-.08.073-.159.059-.19a6.464 6.464 0 0 0-.573-.989c-.02-.03-.085-.076-.195-.046l-1.102.303c-.56.153-1.113.008-1.53-.27a4.44 4.44 0 0 0-.501-.29c-.447-.222-.85-.629-.997-1.189l-.289-1.105c-.029-.11-.101-.143-.137-.146a6.6 6.6 0 0 0-1.142 0ZM11 8a3 3 0 1 1-6 0 3 3 0 0 1 6 0ZM9.5 8a1.5 1.5 0 1 0-3.001.001A1.5 1.5 0 0 0 9.5 8Z"></path>
</svg>
        </span>
      
        <span data-view-component="true" class="ActionListItem-label">
          Settings
</span>      
</a>
  
</li>
</ul>    
</div></action-list>


</div>
      
</div></anchored-position>  </focus-group>
</action-menu></div>
</nav>
          
        </div>
</header>


      <div hidden="hidden" data-view-component="true" class="js-stale-session-flash stale-session-flash flash flash-warn flash-full">
  
        <svg aria-hidden="true" height="16" viewBox="0 0 16 16" version="1.1" width="16" data-view-component="true" class="octicon octicon-alert">
    <path d="M6.457 1.047c.659-1.234 2.427-1.234 3.086 0l6.082 11.378A1.75 1.75 0 0 1 14.082 15H1.918a1.75 1.75 0 0 1-1.543-2.575Zm1.763.707a.25.25 0 0 0-.44 0L1.698 13.132a.25.25 0 0 0 .22.368h12.164a.25.25 0 0 0 .22-.368Zm.53 3.996v2.5a.75.75 0 0 1-1.5 0v-2.5a.75.75 0 0 1 1.5 0ZM9 11a1 1 0 1 1-2 0 1 1 0 0 1 2 0Z"></path>
</svg>
        <span class="js-stale-session-flash-signed-in" hidden>You signed in with another tab or window. <a class="Link--inTextBlock" href="">Reload</a> to refresh your session.</span>
        <span class="js-stale-session-flash-signed-out" hidden>You signed out in another tab or window. <a class="Link--inTextBlock" href="">Reload</a> to refresh your session.</span>
        <span class="js-stale-session-flash-switched" hidden>You switched accounts on another tab or window. <a class="Link--inTextBlock" href="">Reload</a> to refresh your session.</span>

    <button id="icon-button-b262f05e-5a39-4b83-bfdc-f414c4c81c8f" aria-labelledby="tooltip-6469f218-c775-48a0-8bb4-64352d465844" type="button" data-view-component="true" class="Button Button--iconOnly Button--invisible Button--medium flash-close js-flash-close">  <svg aria-hidden="true" height="16" viewBox="0 0 16 16" version="1.1" width="16" data-view-component="true" class="octicon octicon-x Button-visual">
    <path d="M3.72 3.72a.75.75 0 0 1 1.06 0L8 6.94l3.22-3.22a.749.749 0 0 1 1.275.326.749.749 0 0 1-.215.734L9.06 8l3.22 3.22a.749.749 0 0 1-.326 1.275.749.749 0 0 1-.734-.215L8 9.06l-3.22 3.22a.751.751 0 0 1-1.042-.018.751.751 0 0 1-.018-1.042L6.94 8 3.72 4.78a.75.75 0 0 1 0-1.06Z"></path>
</svg>
</button><tool-tip id="tooltip-6469f218-c775-48a0-8bb4-64352d465844" for="icon-button-b262f05e-5a39-4b83-bfdc-f414c4c81c8f" popover="manual" data-direction="s" data-type="label" data-view-component="true" class="sr-only position-absolute">Dismiss alert</tool-tip>


  
</div>
        
          
    </div>

  <div id="start-of-content" class="show-on-focus"></div>








    <div id="js-flash-container" class="flash-container" data-turbo-replace>




  <template class="js-flash-template">
    
<div class="flash flash-full   {{ className }}">
  <div >
    <button autofocus class="flash-close js-flash-close" type="button" aria-label="Dismiss this message">
      <svg aria-hidden="true" height="16" viewBox="0 0 16 16" version="1.1" width="16" data-view-component="true" class="octicon octicon-x">
    <path d="M3.72 3.72a.75.75 0 0 1 1.06 0L8 6.94l3.22-3.22a.749.749 0 0 1 1.275.326.749.749 0 0 1-.215.734L9.06 8l3.22 3.22a.749.749 0 0 1-.326 1.275.749.749 0 0 1-.734-.215L8 9.06l-3.22 3.22a.751.751 0 0 1-1.042-.018.751.751 0 0 1-.018-1.042L6.94 8 3.72 4.78a.75.75 0 0 1 0-1.06Z"></path>
</svg>
    </button>
    <div aria-atomic="true" role="alert" class="js-flash-alert">
      
      <div>{{ message }}</div>

    </div>
  </div>
</div>
  </template>
</div>


    
  <notification-shelf-watcher data-base-url="https://github.com/notifications/beta/shelf" data-channel="eyJjIjoibm90aWZpY2F0aW9uLWNoYW5nZWQ6MjIwNjg3MjEyIiwidCI6MTc1MjQ4NDI0M30=--92662b6f260b7c03ac0bf9e09556019e9cdf7a22e807978f087c912f84eda779" data-view-component="true" class="js-socket-channel"></notification-shelf-watcher>
  <div hidden data-initial data-target="notification-shelf-watcher.placeholder"></div>






  <div
    class="application-main "
    data-commit-hovercards-enabled
    data-discussion-hovercards-enabled
    data-issue-and-pr-hovercards-enabled
    data-project-hovercards-enabled
  >
        <div itemscope itemtype="http://schema.org/SoftwareSourceCode" class="">
    <main id="js-repo-pjax-container" >
      
      






    
  <div id="repository-container-header" data-turbo-replace hidden ></div>




<turbo-frame id="repo-content-turbo-frame" target="_top" data-turbo-action="advance" class="">
    <div id="repo-content-pjax-container" class="repository-content " >
      <a href="https://github.dev/" class="d-none js-github-dev-shortcut" data-hotkey=".,Mod+Alt+.">Open in github.dev</a>
  <a href="https://github.dev/" class="d-none js-github-dev-new-tab-shortcut" data-hotkey="Shift+.,Shift+&gt;,&gt;" target="_blank" rel="noopener noreferrer">Open in a new github.dev tab</a>
    <a class="d-none" data-hotkey=",,Mod+Alt+," target="_blank" href="/codespaces/new/SunilSujith-IT/Music-for-U/tree/main?resume=1">Open in codespace</a>




    
      
    








<react-app
  app-name="react-code-view"
  initial-path="/SunilSujith-IT/Music-for-U/blob/main/Music_recommendation_system.ipynb"
    style="display: block; min-height: calc(100vh - 64px);"
  data-attempted-ssr="true"
  data-ssr="true"
  data-lazy="false"
  data-alternate="false"
  data-data-router-enabled="false"
  data-react-profiling="false"
>
  
  <script type="application/json" data-target="react-app.embeddedData">{"payload":{"allShortcutsEnabled":true,"fileTree":{"":{"items":[{"name":"Music_recommendation_system.ipynb","path":"Music_recommendation_system.ipynb","contentType":"file"},{"name":"README.md","path":"README.md","contentType":"file"}],"totalCount":2}},"fileTreeProcessingTime":3.5851569999999997,"foldersToFetch":[],"incompleteFileTree":false,"repo":{"id":1019395558,"defaultBranch":"main","name":"Music-for-U","ownerLogin":"SunilSujith-IT","currentUserCanPush":true,"isFork":false,"isEmpty":false,"createdAt":"2025-07-14T14:35:24.000+05:30","ownerAvatar":"https://avatars.githubusercontent.com/u/220687212?v=4","public":true,"private":false,"isOrgOwned":false},"codeLineWrapEnabled":false,"symbolsExpanded":false,"treeExpanded":true,"refInfo":{"name":"main","listCacheKey":"v0:1752483957.0","canEdit":true,"refType":"branch","currentOid":"c7e3f20017f3e44296f4f2dfc2fc9af36b53cad1"},"path":"Music_recommendation_system.ipynb","currentUser":{"id":220687212,"login":"SunilSujith-IT","userEmail":"sunilsujith3092@gmail.com"},"blob":{"rawLines":["{","  \"nbformat\": 4,","  \"nbformat_minor\": 0,","  \"metadata\": {","    \"colab\": {","      \"provenance\": [],","      \"gpuType\": \"T4\"","    },","    \"kernelspec\": {","      \"name\": \"python3\",","      \"display_name\": \"Python 3\"","    },","    \"language_info\": {","      \"name\": \"python\"","    },","    \"accelerator\": \"GPU\"","  },","  \"cells\": [","    {","      \"cell_type\": \"code\",","      \"source\": [","        \"# Step 1: Import Libraries\\n\",","        \"import pandas as pd\\n\",","        \"import numpy as np\\n\",","        \"from sklearn.feature_extraction.text import TfidfVectorizer\\n\",","        \"from sklearn.metrics.pairwise import cosine_similarity\\n\",","        \"import matplotlib.pyplot as plt\\n\",","        \"import seaborn as sns\"","      ],","      \"metadata\": {","        \"id\": \"KAl36Uxl39lO\"","      },","      \"execution_count\": 2,","      \"outputs\": []","    },","    {","      \"cell_type\": \"code\",","      \"source\": [","        \"# Step 2: Load the Dataset\\n\",","        \"# Replace the file path with the actual path to your downloaded CSV file\\n\",","        \"data = pd.read_csv('/content/tcc_ceds_music.csv')  # Metadata about songs and user interactions\\n\",","        \"data.head()\"","      ],","      \"metadata\": {","        \"colab\": {","          \"base_uri\": \"https://localhost:8080/\",","          \"height\": 655","        },","        \"id\": \"l5dar23O4AN_\",","        \"outputId\": \"c422b158-07c8-4ae1-e425-8fc2aec21c51\"","      },","      \"execution_count\": 3,","      \"outputs\": [","        {","          \"output_type\": \"execute_result\",","          \"data\": {","            \"text/plain\": [","              \"   Unnamed: 0           artist_name            track_name  release_date genre  \\\\\\n\",","              \"0           0                mukesh  mohabbat bhi jhoothi          1950   pop   \\n\",","              \"1           4         frankie laine             i believe          1950   pop   \\n\",","              \"2           6           johnnie ray                   cry          1950   pop   \\n\",","              \"3          10           pérez prado              patricia          1950   pop   \\n\",","              \"4          12  giorgos papadopoulos    apopse eida oneiro          1950   pop   \\n\",","              \"\\n\",","              \"                                              lyrics  len    dating  violence  \\\\\\n\",","              \"0  hold time feel break feel untrue convince spea...   95  0.000598  0.063746   \\n\",","              \"1  believe drop rain fall grow believe darkest ni...   51  0.035537  0.096777   \\n\",","              \"2  sweetheart send letter goodbye secret feel bet...   24  0.002770  0.002770   \\n\",","              \"3  kiss lips want stroll charm mambo chacha merin...   54  0.048249  0.001548   \\n\",","              \"4  till darling till matter know till dream live ...   48  0.001350  0.001350   \\n\",","              \"\\n\",","              \"   world/life  ...   sadness  feelings  danceability  loudness  acousticness  \\\\\\n\",","              \"0    0.000598  ...  0.380299  0.117175      0.357739  0.454119      0.997992   \\n\",","              \"1    0.443435  ...  0.001284  0.001284      0.331745  0.647540      0.954819   \\n\",","              \"2    0.002770  ...  0.002770  0.225422      0.456298  0.585288      0.840361   \\n\",","              \"3    0.001548  ...  0.225889  0.001548      0.686992  0.744404      0.083935   \\n\",","              \"4    0.417772  ...  0.068800  0.001350      0.291671  0.646489      0.975904   \\n\",","              \"\\n\",","              \"   instrumentalness   valence    energy       topic  age  \\n\",","              \"0          0.901822  0.339448  0.137110     sadness  1.0  \\n\",","              \"1          0.000002  0.325021  0.263240  world/life  1.0  \\n\",","              \"2          0.000000  0.351814  0.139112       music  1.0  \\n\",","              \"3          0.199393  0.775350  0.743736    romantic  1.0  \\n\",","              \"4          0.000246  0.597073  0.394375    romantic  1.0  \\n\",","              \"\\n\",","              \"[5 rows x 31 columns]\"","            ],","            \"text/html\": [","              \"\\n\",","              \"  \u003cdiv id=\\\"df-27958fa8-f7ab-4e3c-99df-8de953f12d2e\\\" class=\\\"colab-df-container\\\"\u003e\\n\",","              \"    \u003cdiv\u003e\\n\",","              \"\u003cstyle scoped\u003e\\n\",","              \"    .dataframe tbody tr th:only-of-type {\\n\",","              \"        vertical-align: middle;\\n\",","              \"    }\\n\",","              \"\\n\",","              \"    .dataframe tbody tr th {\\n\",","              \"        vertical-align: top;\\n\",","              \"    }\\n\",","              \"\\n\",","              \"    .dataframe thead th {\\n\",","              \"        text-align: right;\\n\",","              \"    }\\n\",","              \"\u003c/style\u003e\\n\",","              \"\u003ctable border=\\\"1\\\" class=\\\"dataframe\\\"\u003e\\n\",","              \"  \u003cthead\u003e\\n\",","              \"    \u003ctr style=\\\"text-align: right;\\\"\u003e\\n\",","              \"      \u003cth\u003e\u003c/th\u003e\\n\",","              \"      \u003cth\u003eUnnamed: 0\u003c/th\u003e\\n\",","              \"      \u003cth\u003eartist_name\u003c/th\u003e\\n\",","              \"      \u003cth\u003etrack_name\u003c/th\u003e\\n\",","              \"      \u003cth\u003erelease_date\u003c/th\u003e\\n\",","              \"      \u003cth\u003egenre\u003c/th\u003e\\n\",","              \"      \u003cth\u003elyrics\u003c/th\u003e\\n\",","              \"      \u003cth\u003elen\u003c/th\u003e\\n\",","              \"      \u003cth\u003edating\u003c/th\u003e\\n\",","              \"      \u003cth\u003eviolence\u003c/th\u003e\\n\",","              \"      \u003cth\u003eworld/life\u003c/th\u003e\\n\",","              \"      \u003cth\u003e...\u003c/th\u003e\\n\",","              \"      \u003cth\u003esadness\u003c/th\u003e\\n\",","              \"      \u003cth\u003efeelings\u003c/th\u003e\\n\",","              \"      \u003cth\u003edanceability\u003c/th\u003e\\n\",","              \"      \u003cth\u003eloudness\u003c/th\u003e\\n\",","              \"      \u003cth\u003eacousticness\u003c/th\u003e\\n\",","              \"      \u003cth\u003einstrumentalness\u003c/th\u003e\\n\",","              \"      \u003cth\u003evalence\u003c/th\u003e\\n\",","              \"      \u003cth\u003eenergy\u003c/th\u003e\\n\",","              \"      \u003cth\u003etopic\u003c/th\u003e\\n\",","              \"      \u003cth\u003eage\u003c/th\u003e\\n\",","              \"    \u003c/tr\u003e\\n\",","              \"  \u003c/thead\u003e\\n\",","              \"  \u003ctbody\u003e\\n\",","              \"    \u003ctr\u003e\\n\",","              \"      \u003cth\u003e0\u003c/th\u003e\\n\",","              \"      \u003ctd\u003e0\u003c/td\u003e\\n\",","              \"      \u003ctd\u003emukesh\u003c/td\u003e\\n\",","              \"      \u003ctd\u003emohabbat bhi jhoothi\u003c/td\u003e\\n\",","              \"      \u003ctd\u003e1950\u003c/td\u003e\\n\",","              \"      \u003ctd\u003epop\u003c/td\u003e\\n\",","              \"      \u003ctd\u003ehold time feel break feel untrue convince spea...\u003c/td\u003e\\n\",","              \"      \u003ctd\u003e95\u003c/td\u003e\\n\",","              \"      \u003ctd\u003e0.000598\u003c/td\u003e\\n\",","              \"      \u003ctd\u003e0.063746\u003c/td\u003e\\n\",","              \"      \u003ctd\u003e0.000598\u003c/td\u003e\\n\",","              \"      \u003ctd\u003e...\u003c/td\u003e\\n\",","              \"      \u003ctd\u003e0.380299\u003c/td\u003e\\n\",","              \"      \u003ctd\u003e0.117175\u003c/td\u003e\\n\",","              \"      \u003ctd\u003e0.357739\u003c/td\u003e\\n\",","              \"      \u003ctd\u003e0.454119\u003c/td\u003e\\n\",","              \"      \u003ctd\u003e0.997992\u003c/td\u003e\\n\",","              \"      \u003ctd\u003e0.901822\u003c/td\u003e\\n\",","              \"      \u003ctd\u003e0.339448\u003c/td\u003e\\n\",","              \"      \u003ctd\u003e0.137110\u003c/td\u003e\\n\",","              \"      \u003ctd\u003esadness\u003c/td\u003e\\n\",","              \"      \u003ctd\u003e1.0\u003c/td\u003e\\n\",","              \"    \u003c/tr\u003e\\n\",","              \"    \u003ctr\u003e\\n\",","              \"      \u003cth\u003e1\u003c/th\u003e\\n\",","              \"      \u003ctd\u003e4\u003c/td\u003e\\n\",","              \"      \u003ctd\u003efrankie laine\u003c/td\u003e\\n\",","              \"      \u003ctd\u003ei believe\u003c/td\u003e\\n\",","              \"      \u003ctd\u003e1950\u003c/td\u003e\\n\",","              \"      \u003ctd\u003epop\u003c/td\u003e\\n\",","              \"      \u003ctd\u003ebelieve drop rain fall grow believe darkest ni...\u003c/td\u003e\\n\",","              \"      \u003ctd\u003e51\u003c/td\u003e\\n\",","              \"      \u003ctd\u003e0.035537\u003c/td\u003e\\n\",","              \"      \u003ctd\u003e0.096777\u003c/td\u003e\\n\",","              \"      \u003ctd\u003e0.443435\u003c/td\u003e\\n\",","              \"      \u003ctd\u003e...\u003c/td\u003e\\n\",","              \"      \u003ctd\u003e0.001284\u003c/td\u003e\\n\",","              \"      \u003ctd\u003e0.001284\u003c/td\u003e\\n\",","              \"      \u003ctd\u003e0.331745\u003c/td\u003e\\n\",","              \"      \u003ctd\u003e0.647540\u003c/td\u003e\\n\",","              \"      \u003ctd\u003e0.954819\u003c/td\u003e\\n\",","              \"      \u003ctd\u003e0.000002\u003c/td\u003e\\n\",","              \"      \u003ctd\u003e0.325021\u003c/td\u003e\\n\",","              \"      \u003ctd\u003e0.263240\u003c/td\u003e\\n\",","              \"      \u003ctd\u003eworld/life\u003c/td\u003e\\n\",","              \"      \u003ctd\u003e1.0\u003c/td\u003e\\n\",","              \"    \u003c/tr\u003e\\n\",","              \"    \u003ctr\u003e\\n\",","              \"      \u003cth\u003e2\u003c/th\u003e\\n\",","              \"      \u003ctd\u003e6\u003c/td\u003e\\n\",","              \"      \u003ctd\u003ejohnnie ray\u003c/td\u003e\\n\",","              \"      \u003ctd\u003ecry\u003c/td\u003e\\n\",","              \"      \u003ctd\u003e1950\u003c/td\u003e\\n\",","              \"      \u003ctd\u003epop\u003c/td\u003e\\n\",","              \"      \u003ctd\u003esweetheart send letter goodbye secret feel bet...\u003c/td\u003e\\n\",","              \"      \u003ctd\u003e24\u003c/td\u003e\\n\",","              \"      \u003ctd\u003e0.002770\u003c/td\u003e\\n\",","              \"      \u003ctd\u003e0.002770\u003c/td\u003e\\n\",","              \"      \u003ctd\u003e0.002770\u003c/td\u003e\\n\",","              \"      \u003ctd\u003e...\u003c/td\u003e\\n\",","              \"      \u003ctd\u003e0.002770\u003c/td\u003e\\n\",","              \"      \u003ctd\u003e0.225422\u003c/td\u003e\\n\",","              \"      \u003ctd\u003e0.456298\u003c/td\u003e\\n\",","              \"      \u003ctd\u003e0.585288\u003c/td\u003e\\n\",","              \"      \u003ctd\u003e0.840361\u003c/td\u003e\\n\",","              \"      \u003ctd\u003e0.000000\u003c/td\u003e\\n\",","              \"      \u003ctd\u003e0.351814\u003c/td\u003e\\n\",","              \"      \u003ctd\u003e0.139112\u003c/td\u003e\\n\",","              \"      \u003ctd\u003emusic\u003c/td\u003e\\n\",","              \"      \u003ctd\u003e1.0\u003c/td\u003e\\n\",","              \"    \u003c/tr\u003e\\n\",","              \"    \u003ctr\u003e\\n\",","              \"      \u003cth\u003e3\u003c/th\u003e\\n\",","              \"      \u003ctd\u003e10\u003c/td\u003e\\n\",","              \"      \u003ctd\u003epérez prado\u003c/td\u003e\\n\",","              \"      \u003ctd\u003epatricia\u003c/td\u003e\\n\",","              \"      \u003ctd\u003e1950\u003c/td\u003e\\n\",","              \"      \u003ctd\u003epop\u003c/td\u003e\\n\",","              \"      \u003ctd\u003ekiss lips want stroll charm mambo chacha merin...\u003c/td\u003e\\n\",","              \"      \u003ctd\u003e54\u003c/td\u003e\\n\",","              \"      \u003ctd\u003e0.048249\u003c/td\u003e\\n\",","              \"      \u003ctd\u003e0.001548\u003c/td\u003e\\n\",","              \"      \u003ctd\u003e0.001548\u003c/td\u003e\\n\",","              \"      \u003ctd\u003e...\u003c/td\u003e\\n\",","              \"      \u003ctd\u003e0.225889\u003c/td\u003e\\n\",","              \"      \u003ctd\u003e0.001548\u003c/td\u003e\\n\",","              \"      \u003ctd\u003e0.686992\u003c/td\u003e\\n\",","              \"      \u003ctd\u003e0.744404\u003c/td\u003e\\n\",","              \"      \u003ctd\u003e0.083935\u003c/td\u003e\\n\",","              \"      \u003ctd\u003e0.199393\u003c/td\u003e\\n\",","              \"      \u003ctd\u003e0.775350\u003c/td\u003e\\n\",","              \"      \u003ctd\u003e0.743736\u003c/td\u003e\\n\",","              \"      \u003ctd\u003eromantic\u003c/td\u003e\\n\",","              \"      \u003ctd\u003e1.0\u003c/td\u003e\\n\",","              \"    \u003c/tr\u003e\\n\",","              \"    \u003ctr\u003e\\n\",","              \"      \u003cth\u003e4\u003c/th\u003e\\n\",","              \"      \u003ctd\u003e12\u003c/td\u003e\\n\",","              \"      \u003ctd\u003egiorgos papadopoulos\u003c/td\u003e\\n\",","              \"      \u003ctd\u003eapopse eida oneiro\u003c/td\u003e\\n\",","              \"      \u003ctd\u003e1950\u003c/td\u003e\\n\",","              \"      \u003ctd\u003epop\u003c/td\u003e\\n\",","              \"      \u003ctd\u003etill darling till matter know till dream live ...\u003c/td\u003e\\n\",","              \"      \u003ctd\u003e48\u003c/td\u003e\\n\",","              \"      \u003ctd\u003e0.001350\u003c/td\u003e\\n\",","              \"      \u003ctd\u003e0.001350\u003c/td\u003e\\n\",","              \"      \u003ctd\u003e0.417772\u003c/td\u003e\\n\",","              \"      \u003ctd\u003e...\u003c/td\u003e\\n\",","              \"      \u003ctd\u003e0.068800\u003c/td\u003e\\n\",","              \"      \u003ctd\u003e0.001350\u003c/td\u003e\\n\",","              \"      \u003ctd\u003e0.291671\u003c/td\u003e\\n\",","              \"      \u003ctd\u003e0.646489\u003c/td\u003e\\n\",","              \"      \u003ctd\u003e0.975904\u003c/td\u003e\\n\",","              \"      \u003ctd\u003e0.000246\u003c/td\u003e\\n\",","              \"      \u003ctd\u003e0.597073\u003c/td\u003e\\n\",","              \"      \u003ctd\u003e0.394375\u003c/td\u003e\\n\",","              \"      \u003ctd\u003eromantic\u003c/td\u003e\\n\",","              \"      \u003ctd\u003e1.0\u003c/td\u003e\\n\",","              \"    \u003c/tr\u003e\\n\",","              \"  \u003c/tbody\u003e\\n\",","              \"\u003c/table\u003e\\n\",","              \"\u003cp\u003e5 rows × 31 columns\u003c/p\u003e\\n\",","              \"\u003c/div\u003e\\n\",","              \"    \u003cdiv class=\\\"colab-df-buttons\\\"\u003e\\n\",","              \"\\n\",","              \"  \u003cdiv class=\\\"colab-df-container\\\"\u003e\\n\",","              \"    \u003cbutton class=\\\"colab-df-convert\\\" onclick=\\\"convertToInteractive('df-27958fa8-f7ab-4e3c-99df-8de953f12d2e')\\\"\\n\",","              \"            title=\\\"Convert this dataframe to an interactive table.\\\"\\n\",","              \"            style=\\\"display:none;\\\"\u003e\\n\",","              \"\\n\",","              \"  \u003csvg xmlns=\\\"http://www.w3.org/2000/svg\\\" height=\\\"24px\\\" viewBox=\\\"0 -960 960 960\\\"\u003e\\n\",","              \"    \u003cpath d=\\\"M120-120v-720h720v720H120Zm60-500h600v-160H180v160Zm220 220h160v-160H400v160Zm0 220h160v-160H400v160ZM180-400h160v-160H180v160Zm440 0h160v-160H620v160ZM180-180h160v-160H180v160Zm440 0h160v-160H620v160Z\\\"/\u003e\\n\",","              \"  \u003c/svg\u003e\\n\",","              \"    \u003c/button\u003e\\n\",","              \"\\n\",","              \"  \u003cstyle\u003e\\n\",","              \"    .colab-df-container {\\n\",","              \"      display:flex;\\n\",","              \"      gap: 12px;\\n\",","              \"    }\\n\",","              \"\\n\",","              \"    .colab-df-convert {\\n\",","              \"      background-color: #E8F0FE;\\n\",","              \"      border: none;\\n\",","              \"      border-radius: 50%;\\n\",","              \"      cursor: pointer;\\n\",","              \"      display: none;\\n\",","              \"      fill: #1967D2;\\n\",","              \"      height: 32px;\\n\",","              \"      padding: 0 0 0 0;\\n\",","              \"      width: 32px;\\n\",","              \"    }\\n\",","              \"\\n\",","              \"    .colab-df-convert:hover {\\n\",","              \"      background-color: #E2EBFA;\\n\",","              \"      box-shadow: 0px 1px 2px rgba(60, 64, 67, 0.3), 0px 1px 3px 1px rgba(60, 64, 67, 0.15);\\n\",","              \"      fill: #174EA6;\\n\",","              \"    }\\n\",","              \"\\n\",","              \"    .colab-df-buttons div {\\n\",","              \"      margin-bottom: 4px;\\n\",","              \"    }\\n\",","              \"\\n\",","              \"    [theme=dark] .colab-df-convert {\\n\",","              \"      background-color: #3B4455;\\n\",","              \"      fill: #D2E3FC;\\n\",","              \"    }\\n\",","              \"\\n\",","              \"    [theme=dark] .colab-df-convert:hover {\\n\",","              \"      background-color: #434B5C;\\n\",","              \"      box-shadow: 0px 1px 3px 1px rgba(0, 0, 0, 0.15);\\n\",","              \"      filter: drop-shadow(0px 1px 2px rgba(0, 0, 0, 0.3));\\n\",","              \"      fill: #FFFFFF;\\n\",","              \"    }\\n\",","              \"  \u003c/style\u003e\\n\",","              \"\\n\",","              \"    \u003cscript\u003e\\n\",","              \"      const buttonEl =\\n\",","              \"        document.querySelector('#df-27958fa8-f7ab-4e3c-99df-8de953f12d2e button.colab-df-convert');\\n\",","              \"      buttonEl.style.display =\\n\",","              \"        google.colab.kernel.accessAllowed ? 'block' : 'none';\\n\",","              \"\\n\",","              \"      async function convertToInteractive(key) {\\n\",","              \"        const element = document.querySelector('#df-27958fa8-f7ab-4e3c-99df-8de953f12d2e');\\n\",","              \"        const dataTable =\\n\",","              \"          await google.colab.kernel.invokeFunction('convertToInteractive',\\n\",","              \"                                                    [key], {});\\n\",","              \"        if (!dataTable) return;\\n\",","              \"\\n\",","              \"        const docLinkHtml = 'Like what you see? Visit the ' +\\n\",","              \"          '\u003ca target=\\\"_blank\\\" href=https://colab.research.google.com/notebooks/data_table.ipynb\u003edata table notebook\u003c/a\u003e'\\n\",","              \"          + ' to learn more about interactive tables.';\\n\",","              \"        element.innerHTML = '';\\n\",","              \"        dataTable['output_type'] = 'display_data';\\n\",","              \"        await google.colab.output.renderOutput(dataTable, element);\\n\",","              \"        const docLink = document.createElement('div');\\n\",","              \"        docLink.innerHTML = docLinkHtml;\\n\",","              \"        element.appendChild(docLink);\\n\",","              \"      }\\n\",","              \"    \u003c/script\u003e\\n\",","              \"  \u003c/div\u003e\\n\",","              \"\\n\",","              \"\\n\",","              \"\u003cdiv id=\\\"df-23e33ff9-9fbf-4bd5-a643-7ee0ab169a5d\\\"\u003e\\n\",","              \"  \u003cbutton class=\\\"colab-df-quickchart\\\" onclick=\\\"quickchart('df-23e33ff9-9fbf-4bd5-a643-7ee0ab169a5d')\\\"\\n\",","              \"            title=\\\"Suggest charts\\\"\\n\",","              \"            style=\\\"display:none;\\\"\u003e\\n\",","              \"\\n\",","              \"\u003csvg xmlns=\\\"http://www.w3.org/2000/svg\\\" height=\\\"24px\\\"viewBox=\\\"0 0 24 24\\\"\\n\",","              \"     width=\\\"24px\\\"\u003e\\n\",","              \"    \u003cg\u003e\\n\",","              \"        \u003cpath d=\\\"M19 3H5c-1.1 0-2 .9-2 2v14c0 1.1.9 2 2 2h14c1.1 0 2-.9 2-2V5c0-1.1-.9-2-2-2zM9 17H7v-7h2v7zm4 0h-2V7h2v10zm4 0h-2v-4h2v4z\\\"/\u003e\\n\",","              \"    \u003c/g\u003e\\n\",","              \"\u003c/svg\u003e\\n\",","              \"  \u003c/button\u003e\\n\",","              \"\\n\",","              \"\u003cstyle\u003e\\n\",","              \"  .colab-df-quickchart {\\n\",","              \"      --bg-color: #E8F0FE;\\n\",","              \"      --fill-color: #1967D2;\\n\",","              \"      --hover-bg-color: #E2EBFA;\\n\",","              \"      --hover-fill-color: #174EA6;\\n\",","              \"      --disabled-fill-color: #AAA;\\n\",","              \"      --disabled-bg-color: #DDD;\\n\",","              \"  }\\n\",","              \"\\n\",","              \"  [theme=dark] .colab-df-quickchart {\\n\",","              \"      --bg-color: #3B4455;\\n\",","              \"      --fill-color: #D2E3FC;\\n\",","              \"      --hover-bg-color: #434B5C;\\n\",","              \"      --hover-fill-color: #FFFFFF;\\n\",","              \"      --disabled-bg-color: #3B4455;\\n\",","              \"      --disabled-fill-color: #666;\\n\",","              \"  }\\n\",","              \"\\n\",","              \"  .colab-df-quickchart {\\n\",","              \"    background-color: var(--bg-color);\\n\",","              \"    border: none;\\n\",","              \"    border-radius: 50%;\\n\",","              \"    cursor: pointer;\\n\",","              \"    display: none;\\n\",","              \"    fill: var(--fill-color);\\n\",","              \"    height: 32px;\\n\",","              \"    padding: 0;\\n\",","              \"    width: 32px;\\n\",","              \"  }\\n\",","              \"\\n\",","              \"  .colab-df-quickchart:hover {\\n\",","              \"    background-color: var(--hover-bg-color);\\n\",","              \"    box-shadow: 0 1px 2px rgba(60, 64, 67, 0.3), 0 1px 3px 1px rgba(60, 64, 67, 0.15);\\n\",","              \"    fill: var(--button-hover-fill-color);\\n\",","              \"  }\\n\",","              \"\\n\",","              \"  .colab-df-quickchart-complete:disabled,\\n\",","              \"  .colab-df-quickchart-complete:disabled:hover {\\n\",","              \"    background-color: var(--disabled-bg-color);\\n\",","              \"    fill: var(--disabled-fill-color);\\n\",","              \"    box-shadow: none;\\n\",","              \"  }\\n\",","              \"\\n\",","              \"  .colab-df-spinner {\\n\",","              \"    border: 2px solid var(--fill-color);\\n\",","              \"    border-color: transparent;\\n\",","              \"    border-bottom-color: var(--fill-color);\\n\",","              \"    animation:\\n\",","              \"      spin 1s steps(1) infinite;\\n\",","              \"  }\\n\",","              \"\\n\",","              \"  @keyframes spin {\\n\",","              \"    0% {\\n\",","              \"      border-color: transparent;\\n\",","              \"      border-bottom-color: var(--fill-color);\\n\",","              \"      border-left-color: var(--fill-color);\\n\",","              \"    }\\n\",","              \"    20% {\\n\",","              \"      border-color: transparent;\\n\",","              \"      border-left-color: var(--fill-color);\\n\",","              \"      border-top-color: var(--fill-color);\\n\",","              \"    }\\n\",","              \"    30% {\\n\",","              \"      border-color: transparent;\\n\",","              \"      border-left-color: var(--fill-color);\\n\",","              \"      border-top-color: var(--fill-color);\\n\",","              \"      border-right-color: var(--fill-color);\\n\",","              \"    }\\n\",","              \"    40% {\\n\",","              \"      border-color: transparent;\\n\",","              \"      border-right-color: var(--fill-color);\\n\",","              \"      border-top-color: var(--fill-color);\\n\",","              \"    }\\n\",","              \"    60% {\\n\",","              \"      border-color: transparent;\\n\",","              \"      border-right-color: var(--fill-color);\\n\",","              \"    }\\n\",","              \"    80% {\\n\",","              \"      border-color: transparent;\\n\",","              \"      border-right-color: var(--fill-color);\\n\",","              \"      border-bottom-color: var(--fill-color);\\n\",","              \"    }\\n\",","              \"    90% {\\n\",","              \"      border-color: transparent;\\n\",","              \"      border-bottom-color: var(--fill-color);\\n\",","              \"    }\\n\",","              \"  }\\n\",","              \"\u003c/style\u003e\\n\",","              \"\\n\",","              \"  \u003cscript\u003e\\n\",","              \"    async function quickchart(key) {\\n\",","              \"      const quickchartButtonEl =\\n\",","              \"        document.querySelector('#' + key + ' button');\\n\",","              \"      quickchartButtonEl.disabled = true;  // To prevent multiple clicks.\\n\",","              \"      quickchartButtonEl.classList.add('colab-df-spinner');\\n\",","              \"      try {\\n\",","              \"        const charts = await google.colab.kernel.invokeFunction(\\n\",","              \"            'suggestCharts', [key], {});\\n\",","              \"      } catch (error) {\\n\",","              \"        console.error('Error during call to suggestCharts:', error);\\n\",","              \"      }\\n\",","              \"      quickchartButtonEl.classList.remove('colab-df-spinner');\\n\",","              \"      quickchartButtonEl.classList.add('colab-df-quickchart-complete');\\n\",","              \"    }\\n\",","              \"    (() =\u003e {\\n\",","              \"      let quickchartButtonEl =\\n\",","              \"        document.querySelector('#df-23e33ff9-9fbf-4bd5-a643-7ee0ab169a5d button');\\n\",","              \"      quickchartButtonEl.style.display =\\n\",","              \"        google.colab.kernel.accessAllowed ? 'block' : 'none';\\n\",","              \"    })();\\n\",","              \"  \u003c/script\u003e\\n\",","              \"\u003c/div\u003e\\n\",","              \"\\n\",","              \"    \u003c/div\u003e\\n\",","              \"  \u003c/div\u003e\\n\"","            ],","            \"application/vnd.google.colaboratory.intrinsic+json\": {","              \"type\": \"dataframe\",","              \"variable_name\": \"data\"","            }","          },","          \"metadata\": {},","          \"execution_count\": 3","        }","      ]","    },","    {","      \"cell_type\": \"code\",","      \"source\": [","        \"# Step 3: Exploratory Data Analysis (EDA)\\n\",","        \"# Distribution of Songs by Genre\\n\",","        \"plt.figure(figsize=(10, 6))\\n\",","        \"sns.countplot(y='genre', data=data, order=data['genre'].value_counts().index[:10])\\n\",","        \"plt.title('Top 10 Genres')\\n\",","        \"plt.xlabel('Count')\\n\",","        \"plt.ylabel('Genre')\\n\",","        \"plt.show()\\n\"","      ],","      \"metadata\": {","        \"colab\": {","          \"base_uri\": \"https://localhost:8080/\",","          \"height\": 564","        },","        \"id\": \"D_x6vIOE4LX6\",","        \"outputId\": \"c8eee8f6-8938-434f-adda-ed438a31b546\"","      },","      \"execution_count\": 4,","      \"outputs\": [","        {","          \"output_type\": \"display_data\",","          \"data\": {","            \"text/plain\": [","              \"\u003cFigure size 1000x600 with 1 Axes\u003e\"","            ],","            \"image/png\": \"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\\n\"","          },","          \"metadata\": {}","        }","      ]","    },","    {","      \"cell_type\": \"code\",","      \"source\": [","        \"# Top Artists by Song Count\\n\",","        \"top_artists = data.groupby('artist_name').size().sort_values(ascending=False).head(10)\\n\",","        \"plt.figure(figsize=(10, 6))\\n\",","        \"sns.barplot(x=top_artists.values, y=top_artists.index, palette='viridis')\\n\",","        \"plt.title('Top 10 Artists by Number of Songs')\\n\",","        \"plt.xlabel('Number of Songs')\\n\",","        \"plt.ylabel('Artist Name')\\n\",","        \"plt.show()\"","      ],","      \"metadata\": {","        \"colab\": {","          \"base_uri\": \"https://localhost:8080/\",","          \"height\": 651","        },","        \"id\": \"xM44W4_X4NbM\",","        \"outputId\": \"5a8cdb59-af8a-44ba-ff24-a1338727dff0\"","      },","      \"execution_count\": 5,","      \"outputs\": [","        {","          \"output_type\": \"stream\",","          \"name\": \"stderr\",","          \"text\": [","            \"\u003cipython-input-5-9ca4b1a2bd56\u003e:4: FutureWarning: \\n\",","            \"\\n\",","            \"Passing `palette` without assigning `hue` is deprecated and will be removed in v0.14.0. Assign the `y` variable to `hue` and set `legend=False` for the same effect.\\n\",","            \"\\n\",","            \"  sns.barplot(x=top_artists.values, y=top_artists.index, palette='viridis')\\n\"","          ]","        },","        {","          \"output_type\": \"display_data\",","          \"data\": {","            \"text/plain\": [","              \"\u003cFigure size 1000x600 with 1 Axes\u003e\"","            ],","            \"image/png\": \"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\\n\"","          },","          \"metadata\": {}","        }","      ]","    },","    {","      \"cell_type\": \"code\",","      \"source\": [","        \"# Step 4: Preprocessing the Data\\n\",","        \"# Combine song metadata into a single feature for similarity computation\\n\",","        \"data['combined_features'] = (\\n\",","        \"    data['genre'].fillna('') + ' ' +\\n\",","        \"    data['artist_name'].fillna('') + ' ' +\\n\",","        \"    data['track_name'].fillna('')\\n\",","        \")\\n\"","      ],","      \"metadata\": {","        \"id\": \"oOFBNTu14Rm7\"","      },","      \"execution_count\": 6,","      \"outputs\": []","    },","    {","      \"cell_type\": \"code\",","      \"source\": [","        \"tfidf = TfidfVectorizer(stop_words='english')\\n\",","        \"tfidf_matrix = tfidf.fit_transform(data['combined_features'])\"","      ],","      \"metadata\": {","        \"id\": \"WvjIWelo4YzU\"","      },","      \"execution_count\": 7,","      \"outputs\": []","    },","    {","      \"cell_type\": \"code\",","      \"source\": [","        \"cosine_sim = cosine_similarity(tfidf_matrix, tfidf_matrix)\\n\",","        \"\\n\",","        \"# Step 5: Build the Recommendation Function\\n\",","        \"def get_recommendations(song_title, data, cosine_sim, top_n=10):\\n\",","        \"    # Get the index of the song that matches the title\\n\",","        \"    idx = data[data['track_name'] == song_title].index\\n\",","        \"    if len(idx) == 0:\\n\",","        \"        print(\\\"Song not found in the dataset.\\\")\\n\",","        \"        return\\n\",","        \"\\n\",","        \"    idx = idx[0]\\n\",","        \"\\n\",","        \"    # Get similarity scores for all songs\\n\",","        \"    sim_scores = list(enumerate(cosine_sim[idx]))\\n\",","        \"\\n\",","        \"    # Sort songs based on similarity scores\\n\",","        \"    sim_scores = sorted(sim_scores, key=lambda x: x[1], reverse=True)\\n\",","        \"\\n\",","        \"    # Get top N most similar songs\\n\",","        \"    sim_scores = sim_scores[1:top_n+1]  # Exclude the song itself\\n\",","        \"    song_indices = [i[0] for i in sim_scores]\\n\",","        \"\\n\",","        \"    # Return recommended songs\\n\",","        \"    recommendations = data.iloc[song_indices]\\n\",","        \"    return recommendations\"","      ],","      \"metadata\": {","        \"id\": \"TWFqjRbP4rm-\"","      },","      \"execution_count\": 8,","      \"outputs\": []","    },","    {","      \"cell_type\": \"code\",","      \"source\": [","        \"recommended_songs = get_recommendations('cry', data, cosine_sim, top_n=10)\\n\",","        \"print(recommended_songs[['track_name', 'artist_name', 'genre']])\"","      ],","      \"metadata\": {","        \"colab\": {","          \"base_uri\": \"https://localhost:8080/\"","        },","        \"id\": \"SUBx8CET47c2\",","        \"outputId\": \"6657cc67-0163-47cf-dcf5-10d2921d70eb\"","      },","      \"execution_count\": 9,","      \"outputs\": [","        {","          \"output_type\": \"stream\",","          \"name\": \"stdout\",","          \"text\": [","            \"                          track_name     artist_name  genre\\n\",","            \"56                         here am i     johnnie ray    pop\\n\",","            \"12887             keep on loving you  johnnie taylor  blues\\n\",","            \"15294              too many memories  johnnie taylor  blues\\n\",","            \"14542  there's nothing i wouldn't do  johnnie taylor  blues\\n\",","            \"14679                         lately  johnnie taylor  blues\\n\",","            \"13887                     steal away  johnnie taylor  blues\\n\",","            \"14701             don't make me late  johnnie taylor  blues\\n\",","            \"12881           baby, we've got love  johnnie taylor  blues\\n\",","            \"13247  i got to love somebody's baby  johnnie taylor  blues\\n\",","            \"12882            i need lots of love  johnnie taylor  blues\\n\"","          ]","        }","      ]","    },","    {","      \"cell_type\": \"code\",","      \"source\": [","        \"plt.figure(figsize=(10, 6))\\n\",","        \"sns.barplot(y='track_name', x='artist_name', data=recommended_songs, palette='coolwarm')\\n\",","        \"plt.title('Recommended Songs Similar to \\\"Cry\\\"')\\n\",","        \"plt.xlabel('Artist Name')\\n\",","        \"plt.ylabel('Song Name')\\n\",","        \"plt.show()\\n\"","      ],","      \"metadata\": {","        \"colab\": {","          \"base_uri\": \"https://localhost:8080/\",","          \"height\": 651","        },","        \"id\": \"xzaR-4IC5L3G\",","        \"outputId\": \"2d88547c-4475-447f-c020-7bbf3f55e0cf\"","      },","      \"execution_count\": 10,","      \"outputs\": [","        {","          \"output_type\": \"stream\",","          \"name\": \"stderr\",","          \"text\": [","            \"\u003cipython-input-10-c385a2c003d4\u003e:2: FutureWarning: \\n\",","            \"\\n\",","            \"Passing `palette` without assigning `hue` is deprecated and will be removed in v0.14.0. Assign the `x` variable to `hue` and set `legend=False` for the same effect.\\n\",","            \"\\n\",","            \"  sns.barplot(y='track_name', x='artist_name', data=recommended_songs, palette='coolwarm')\\n\"","          ]","        },","        {","          \"output_type\": \"display_data\",","          \"data\": {","            \"text/plain\": [","              \"\u003cFigure size 1000x600 with 1 Axes\u003e\"","            ],","            \"image/png\": \"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\\n\"","          },","          \"metadata\": {}","        }","      ]","    }","  ]","}"],"stylingDirectives":null,"colorizedLines":null,"csv":null,"csvError":null,"dependabotInfo":{"showConfigurationBanner":false,"configFilePath":null,"networkDependabotPath":"/SunilSujith-IT/Music-for-U/network/updates","dismissConfigurationNoticePath":"/settings/dismiss-notice/dependabot_configuration_notice","configurationNoticeDismissed":false},"displayName":"Music_recommendation_system.ipynb","displayUrl":"https://notebooks.githubusercontent.com/view/ipynb?browser=chrome\u0026bypass_fastly=true\u0026color_mode=auto\u0026commit=c7e3f20017f3e44296f4f2dfc2fc9af36b53cad1\u0026device=unknown_device\u0026docs_host=https%3A%2F%2Fdocs.github.com\u0026enc_url=68747470733a2f2f7261772e67697468756275736572636f6e74656e742e636f6d2f53756e696c53756a6974682d49542f4d757369632d666f722d552f633765336632303031376633653434323936663466326466633266633961663336623533636164312f4d757369635f7265636f6d6d656e646174696f6e5f73797374656d2e6970796e62\u0026logged_in=true\u0026nwo=SunilSujith-IT%2FMusic-for-U\u0026path=Music_recommendation_system.ipynb\u0026platform=windows\u0026repository_id=1019395558\u0026repository_type=Repository\u0026version=138","headerInfo":{"blobSize":"136 KB","deleteTooltip":"Delete this file","editTooltip":"Edit this file","ghDesktopPath":"https://desktop.github.com","isGitLfs":false,"onBranch":true,"shortPath":"209d85e","siteNavLoginPath":"/login?return_to=https%3A%2F%2Fgithub.com%2FSunilSujith-IT%2FMusic-for-U%2Fblob%2Fmain%2FMusic_recommendation_system.ipynb","isCSV":false,"isRichtext":false,"toc":null,"lineInfo":{"truncatedLoc":"698","truncatedSloc":"698"},"mode":"file"},"image":false,"isCodeownersFile":null,"isPlain":false,"isValidLegacyIssueTemplate":false,"issueTemplate":null,"discussionTemplate":null,"language":"Jupyter Notebook","languageID":185,"large":false,"planSupportInfo":{"repoIsFork":null,"repoOwnedByCurrentUser":null,"requestFullPath":"/SunilSujith-IT/Music-for-U/blob/main/Music_recommendation_system.ipynb","showFreeOrgGatedFeatureMessage":null,"showPlanSupportBanner":null,"upgradeDataAttributes":null,"upgradePath":null},"publishBannersInfo":{"dismissActionNoticePath":"/settings/dismiss-notice/publish_action_from_dockerfile","releasePath":"/SunilSujith-IT/Music-for-U/releases/new?marketplace=true","showPublishActionBanner":false},"rawBlobUrl":"https://github.com/SunilSujith-IT/Music-for-U/raw/refs/heads/main/Music_recommendation_system.ipynb","renderImageOrRaw":false,"richText":null,"renderedFileInfo":{"identityUUID":"ac9d0b4c-f2db-4d9e-9f78-9c4b30564453","renderFileType":"ipynb","size":139572},"shortPath":null,"symbolsEnabled":true,"tabSize":8,"topBannersInfo":{"overridingGlobalFundingFile":false,"globalPreferredFundingPath":null,"showInvalidCitationWarning":false,"citationHelpUrl":"https://docs.github.com/github/creating-cloning-and-archiving-repositories/creating-a-repository-on-github/about-citation-files","actionsOnboardingTip":null},"truncated":false,"viewable":true,"workflowRedirectUrl":null,"symbols":{"timed_out":false,"not_analyzed":true,"symbols":[]}},"copilotInfo":{"documentationUrl":"https://docs.github.com/copilot/overview-of-github-copilot/about-github-copilot-for-individuals","notices":{"codeViewPopover":{"dismissed":false,"dismissPath":"/settings/dismiss-notice/code_view_copilot_popover"}},"userAccess":{"hasSubscriptionEnded":false,"orgHasCFBAccess":false,"userHasCFIAccess":false,"userHasOrgs":false,"userIsOrgAdmin":false,"userIsOrgMember":false,"business":null,"featureRequestInfo":null}},"copilotAccessAllowed":false,"modelsAccessAllowed":false,"modelsRepoIntegrationEnabled":false,"isMarketplaceEnabled":true,"csrf_tokens":{"/SunilSujith-IT/Music-for-U/branches":{"post":"zLsB6QNaWdqxBvfLbuMGnl9mnwzm7so7mi--58u4HZCkPf3XxhQa4GYqSYRfK3JSuQWueQekzRcJIhpqoZnQbw"},"/repos/preferences":{"post":"_63cmGFSDeEq60z5RfbyLcVQ1VE5h94AZokpbgQQT2E84CUm7qdVY-wNpbaGqlrUdGWowx-R-fmIetjAV_ZuJg"}}},"title":"Music-for-U/Music_recommendation_system.ipynb at main · SunilSujith-IT/Music-for-U","appPayload":{"helpUrl":"https://docs.github.com","findFileWorkerPath":"/assets-cdn/worker/find-file-worker-263cab1760dd.js","findInFileWorkerPath":"/assets-cdn/worker/find-in-file-worker-98e6e9db3609.js","githubDevUrl":"https://github.dev/","enabled_features":{"code_nav_ui_events":false,"react_blob_overlay":true,"accessible_code_button":true}}}</script>
  <div data-target="react-app.reactRoot"><style data-styled="true" data-styled-version="5.3.11">.gISSDQ{width:100%;}/*!sc*/
@media screen and (min-width:544px){.gISSDQ{width:100%;}}/*!sc*/
@media screen and (min-width:768px){.gISSDQ{width:auto;}}/*!sc*/
.birIjn{max-height:100%;height:100%;display:-webkit-box;display:-webkit-flex;display:-ms-flexbox;display:flex;-webkit-flex-direction:column;-ms-flex-direction:column;flex-direction:column;}/*!sc*/
@media screen and (max-width:768px){.birIjn{display:none;}}/*!sc*/
@media screen and (min-width:768px){.birIjn{max-height:100vh;height:100vh;}}/*!sc*/
.jfIeyl{display:-webkit-box;display:-webkit-flex;display:-ms-flexbox;display:flex;width:100%;margin-bottom:16px;-webkit-align-items:center;-webkit-box-align:center;-ms-flex-align:center;align-items:center;}/*!sc*/
.kOkWgo{font-size:16px;margin-left:8px;}/*!sc*/
.gMOVLe[data-size="medium"]{display:-webkit-box;display:-webkit-flex;display:-ms-flexbox;display:flex;min-width:0;}/*!sc*/
.gMOVLe[data-size="medium"] svg{color:var(--fgColor-muted,var(--color-fg-muted,#656d76));}/*!sc*/
.gMOVLe[data-size="medium"] > span{width:inherit;}/*!sc*/
.gUkoLg{-webkit-box-pack:center;-webkit-justify-content:center;-ms-flex-pack:center;justify-content:center;}/*!sc*/
.bZBlpz{display:-webkit-box;display:-webkit-flex;display:-ms-flexbox;display:flex;width:100%;}/*!sc*/
.lhTYNA{margin-right:4px;color:var(--fgColor-muted,var(--color-fg-muted,#656d76));}/*!sc*/
.ffLUq{font-size:14px;min-width:0;overflow:hidden;text-overflow:ellipsis;white-space:nowrap;}/*!sc*/
.bmcJak{min-width:0;}/*!sc*/
.dPUXSa[data-size="medium"][data-no-visuals]{border-top-left-radius:0;border-bottom-left-radius:0;}/*!sc*/
@media screen and (max-width:768px){.jLLPHh{display:none;}}/*!sc*/
.bHLmSv{position:absolute;inset:0 -2px;cursor:col-resize;background-color:transparent;-webkit-transition-delay:0.1s;transition-delay:0.1s;}/*!sc*/
.bHLmSv:hover{background-color:var(--bgColor-neutral-muted,var(--color-neutral-muted,rgba(175,184,193,0.2)));}/*!sc*/
.leYMvG{margin-left:auto;margin-right:auto;-webkit-flex-direction:column;-ms-flex-direction:column;flex-direction:column;padding-bottom:40px;max-width:100%;margin-top:0;}/*!sc*/
.KMPzq{display:inherit;}/*!sc*/
.cEytCf{display:-webkit-box;display:-webkit-flex;display:-ms-flexbox;display:flex;-webkit-flex-direction:row;-ms-flex-direction:row;flex-direction:row;font-size:16px;min-width:0;-webkit-flex-shrink:1;-ms-flex-negative:1;flex-shrink:1;-webkit-flex-wrap:wrap;-ms-flex-wrap:wrap;flex-wrap:wrap;max-width:100%;-webkit-align-items:center;-webkit-box-align:center;-ms-flex-align:center;align-items:center;}/*!sc*/
.fzFXnm{max-width:100%;}/*!sc*/
.iMnkmv{max-width:100%;list-style:none;display:inline-block;}/*!sc*/
.ghzDag{display:inline-block;max-width:100%;}/*!sc*/
.kHuKdh{font-weight:600;}/*!sc*/
.hzJBof{padding-left:4px;padding-right:4px;font-weight:400;color:var(--fgColor-muted,var(--color-fg-muted,#656d76));font-size:16px;}/*!sc*/
.jGhzSQ{font-weight:600;display:inline-block;max-width:100%;font-size:16px;}/*!sc*/
.fjrFuv[data-size="medium"][data-no-visuals]{display:none;}/*!sc*/
.dJxjrT{margin-left:16px;margin-right:16px;}/*!sc*/
.ldRxiI{display:-webkit-box;display:-webkit-flex;display:-ms-flexbox;display:flex;-webkit-flex-direction:row;-ms-flex-direction:row;flex-direction:row;}/*!sc*/
.fVkfyA{width:100%;height:-webkit-fit-content;height:-moz-fit-content;height:fit-content;min-width:0;margin-right:0;}/*!sc*/
.gNAmSV{height:40px;padding-left:4px;padding-bottom:16px;}/*!sc*/
.kXyYCF[data-size="small"]{color:var(--fgColor-default,var(--color-fg-default,#1F2328));display:none;}/*!sc*/
@media screen and (min-width:544px){.kXyYCF[data-size="small"]{display:none;}}/*!sc*/
@media screen and (min-width:768px){.kXyYCF[data-size="small"]{display:none;}}/*!sc*/
@media screen and (min-width:1012px){.kXyYCF[data-size="small"]{display:none;}}/*!sc*/
@media screen and (min-width:1280px){.kXyYCF[data-size="small"]{display:block;}}/*!sc*/
.jdLMhu{top:0px;z-index:4;background:var(--bgColor-default,var(--color-canvas-default));position:-webkit-sticky;position:sticky;}/*!sc*/
.hqwSEx{display:none;min-width:0;padding-top:8px;padding-bottom:8px;}/*!sc*/
.fHind{display:-webkit-box;display:-webkit-flex;display:-ms-flexbox;display:flex;-webkit-flex-direction:row;-ms-flex-direction:row;flex-direction:row;font-size:14px;min-width:0;-webkit-flex-shrink:1;-ms-flex-negative:1;flex-shrink:1;-webkit-flex-wrap:wrap;-ms-flex-wrap:wrap;flex-wrap:wrap;max-width:100%;-webkit-align-items:center;-webkit-box-align:center;-ms-flex-align:center;align-items:center;}/*!sc*/
.oDtgN{padding-left:4px;padding-right:4px;font-weight:400;color:var(--fgColor-muted,var(--color-fg-muted,#656d76));font-size:14px;}/*!sc*/
.dnZoUW{font-weight:600;display:inline-block;max-width:100%;font-size:14px;}/*!sc*/
.gFKFyc{border-radius:6px 6px 0px 0px;}/*!sc*/
.lefpaC linkButtonSx:hover:not([disabled]){-webkit-text-decoration:none;text-decoration:none;}/*!sc*/
.lefpaC linkButtonSx:focus:not([disabled]){-webkit-text-decoration:none;text-decoration:none;}/*!sc*/
.lefpaC linkButtonSx:active:not([disabled]){-webkit-text-decoration:none;text-decoration:none;}/*!sc*/
.ivobqY[data-size="small"][data-no-visuals]{border-top-left-radius:0;border-bottom-left-radius:0;}/*!sc*/
.iCOsHh[data-size="small"][data-no-visuals]:hover:not([disabled]){-webkit-text-decoration:none;text-decoration:none;}/*!sc*/
.iCOsHh[data-size="small"][data-no-visuals]:focus:not([disabled]){-webkit-text-decoration:none;text-decoration:none;}/*!sc*/
.iCOsHh[data-size="small"][data-no-visuals]:active:not([disabled]){-webkit-text-decoration:none;text-decoration:none;}/*!sc*/
.hGyMdv{border:1px solid;border-top:none;border-color:var(--borderColor-default,var(--color-border-default,#d0d7de));border-radius:0px 0px 6px 6px;min-width:273px;}/*!sc*/
.iWAocR{background-color:var(--bgColor-default,var(--color-canvas-default));border:0px;border-width:0;border-radius:0px 0px 6px 6px;padding:0;min-width:0;margin-top:46px;overflow:auto;}/*!sc*/
.cCoXib{position:fixed;top:0;right:0;height:100%;width:15px;-webkit-transition:-webkit-transform 0.3s;-webkit-transition:transform 0.3s;transition:transform 0.3s;z-index:1;}/*!sc*/
.cCoXib:hover{-webkit-transform:scaleX(1.5);-ms-transform:scaleX(1.5);transform:scaleX(1.5);}/*!sc*/
.fgsa-DI{display:-webkit-box;display:-webkit-flex;display:-ms-flexbox;display:flex;-webkit-flex-direction:column;-ms-flex-direction:column;flex-direction:column;-webkit-align-items:center;-webkit-box-align:center;-ms-flex-align:center;align-items:center;padding-top:16px;padding-bottom:16px;}/*!sc*/
data-styled.g1[id="Box-sc-g0xbh4-0"]{content:"gISSDQ,birIjn,jfIeyl,kOkWgo,gMOVLe,gUkoLg,bZBlpz,lhTYNA,ffLUq,bmcJak,dPUXSa,jLLPHh,bHLmSv,leYMvG,KMPzq,cEytCf,fzFXnm,iMnkmv,ghzDag,kHuKdh,hzJBof,jGhzSQ,fjrFuv,dJxjrT,ldRxiI,fVkfyA,gNAmSV,kXyYCF,jdLMhu,hqwSEx,fHind,oDtgN,dnZoUW,gFKFyc,lefpaC,ivobqY,iCOsHh,hGyMdv,iWAocR,cCoXib,fgsa-DI,"}/*!sc*/
.brGdpi{position:absolute;width:1px;height:1px;padding:0;margin:-1px;overflow:hidden;-webkit-clip:rect(0,0,0,0);clip:rect(0,0,0,0);white-space:nowrap;border-width:0;}/*!sc*/
data-styled.g2[id="_VisuallyHidden__VisuallyHidden-sc-11jhm7a-0"]{content:"brGdpi,"}/*!sc*/
.hWlpPn{position:relative;display:inline-block;}/*!sc*/
.hWlpPn::after{position:absolute;z-index:1000000;display:none;padding:0.5em 0.75em;font:normal normal 11px/1.5 -apple-system,BlinkMacSystemFont,"Segoe UI","Noto Sans",Helvetica,Arial,sans-serif,"Apple Color Emoji","Segoe UI Emoji";-webkit-font-smoothing:subpixel-antialiased;color:var(--tooltip-fgColor,var(--fgColor-onEmphasis,var(--color-fg-on-emphasis,#ffffff)));text-align:center;-webkit-text-decoration:none;text-decoration:none;text-shadow:none;text-transform:none;-webkit-letter-spacing:normal;-moz-letter-spacing:normal;-ms-letter-spacing:normal;letter-spacing:normal;word-wrap:break-word;white-space:pre;pointer-events:none;content:attr(aria-label);background:var(--tooltip-bgColor,var(--bgColor-emphasis,var(--color-neutral-emphasis-plus,#24292f)));border-radius:6px;opacity:0;}/*!sc*/
@-webkit-keyframes tooltip-appear{from{opacity:0;}to{opacity:1;}}/*!sc*/
@keyframes tooltip-appear{from{opacity:0;}to{opacity:1;}}/*!sc*/
.hWlpPn:hover::after,.hWlpPn:active::after,.hWlpPn:focus::after,.hWlpPn:focus-within::after{display:inline-block;-webkit-text-decoration:none;text-decoration:none;-webkit-animation-name:tooltip-appear;animation-name:tooltip-appear;-webkit-animation-duration:0.1s;animation-duration:0.1s;-webkit-animation-fill-mode:forwards;animation-fill-mode:forwards;-webkit-animation-timing-function:ease-in;animation-timing-function:ease-in;-webkit-animation-delay:0s;animation-delay:0s;}/*!sc*/
.hWlpPn.tooltipped-no-delay:hover::after,.hWlpPn.tooltipped-no-delay:active::after,.hWlpPn.tooltipped-no-delay:focus::after,.hWlpPn.tooltipped-no-delay:focus-within::after{-webkit-animation-delay:0s;animation-delay:0s;}/*!sc*/
.hWlpPn.tooltipped-multiline:hover::after,.hWlpPn.tooltipped-multiline:active::after,.hWlpPn.tooltipped-multiline:focus::after,.hWlpPn.tooltipped-multiline:focus-within::after{display:table-cell;}/*!sc*/
.hWlpPn.tooltipped-s::after,.hWlpPn.tooltipped-se::after,.hWlpPn.tooltipped-sw::after{top:100%;right:50%;margin-top:6px;}/*!sc*/
.hWlpPn.tooltipped-se::after{right:auto;left:50%;margin-left:-16px;}/*!sc*/
.hWlpPn.tooltipped-sw::after{margin-right:-16px;}/*!sc*/
.hWlpPn.tooltipped-n::after,.hWlpPn.tooltipped-ne::after,.hWlpPn.tooltipped-nw::after{right:50%;bottom:100%;margin-bottom:6px;}/*!sc*/
.hWlpPn.tooltipped-ne::after{right:auto;left:50%;margin-left:-16px;}/*!sc*/
.hWlpPn.tooltipped-nw::after{margin-right:-16px;}/*!sc*/
.hWlpPn.tooltipped-s::after,.hWlpPn.tooltipped-n::after{-webkit-transform:translateX(50%);-ms-transform:translateX(50%);transform:translateX(50%);}/*!sc*/
.hWlpPn.tooltipped-w::after{right:100%;bottom:50%;margin-right:6px;-webkit-transform:translateY(50%);-ms-transform:translateY(50%);transform:translateY(50%);}/*!sc*/
.hWlpPn.tooltipped-e::after{bottom:50%;left:100%;margin-left:6px;-webkit-transform:translateY(50%);-ms-transform:translateY(50%);transform:translateY(50%);}/*!sc*/
.hWlpPn.tooltipped-multiline::after{width:-webkit-max-content;width:-moz-max-content;width:max-content;max-width:250px;word-wrap:break-word;white-space:pre-line;border-collapse:separate;}/*!sc*/
.hWlpPn.tooltipped-multiline.tooltipped-s::after,.hWlpPn.tooltipped-multiline.tooltipped-n::after{right:auto;left:50%;-webkit-transform:translateX(-50%);-ms-transform:translateX(-50%);transform:translateX(-50%);}/*!sc*/
.hWlpPn.tooltipped-multiline.tooltipped-w::after,.hWlpPn.tooltipped-multiline.tooltipped-e::after{right:100%;}/*!sc*/
.hWlpPn.tooltipped-align-right-2::after{right:0;margin-right:0;}/*!sc*/
.hWlpPn.tooltipped-align-left-2::after{left:0;margin-left:0;}/*!sc*/
data-styled.g5[id="Tooltip__TooltipBase-sc-17tf59c-0"]{content:"hWlpPn,"}/*!sc*/
</style><meta data-hydrostats="publish"/> <!-- --> <!-- --> <button hidden="" data-testid="header-permalink-button" data-hotkey-scope="read-only-cursor-text-area"></button><button hidden=""></button><div><div style="--spacing:var(--spacing-none)" class="prc-PageLayout-PageLayoutRoot-1zlEO"><div class="prc-PageLayout-PageLayoutWrapper-s2ao4" data-width="full"><div class="prc-PageLayout-PageLayoutContent-jzDMn"><div tabindex="0" class="Box-sc-g0xbh4-0 gISSDQ"><div class="prc-PageLayout-PaneWrapper-nGO0U ReposFileTreePane-module__Pane--wS7IV ReposFileTreePane-module__HidePane--Gj4XZ" style="--offset-header:0px;--spacing-row:var(--spacing-none);--spacing-column:var(--spacing-none)" data-is-hidden="false" data-position="start" data-sticky="true"><div class="prc-PageLayout-HorizontalDivider-CYLp5 prc-PageLayout-PaneHorizontalDivider-4exOb" data-variant="none" data-position="start" style="--spacing-divider:var(--spacing-none);--spacing:var(--spacing-none)"></div><div class="prc-PageLayout-Pane-Vl5LI" data-resizable="true" style="--spacing:var(--spacing-none);--pane-min-width:256px;--pane-max-width:calc(100vw - var(--pane-max-width-diff));--pane-width-size:var(--pane-width-large);--pane-width:320px"><div class="react-tree-pane-contents"><div id="repos-file-tree" class="Box-sc-g0xbh4-0 birIjn"><div class="ReposFileTreePane-module__Box_1--Bz4Aw"><div class="Box-sc-g0xbh4-0 jfIeyl"><h2 class="use-tree-pane-module__Heading--DlnQ2 prc-Heading-Heading-6CmGO"><button type="button" aria-label="Expand file tree" data-testid="expand-file-tree-button-mobile" class="prc-Button-ButtonBase-c50BI ExpandFileTreeButton-module__Button_1--M2dXF" data-loading="false" data-size="medium" data-variant="invisible" aria-describedby=":Rl6mplab:-loading-announcement"><span data-component="buttonContent" data-align="center" class="prc-Button-ButtonContent-HKbr-"><span data-component="leadingVisual" class="prc-Button-Visual-2epfX prc-Button-VisualWrap-Db-eB"><svg aria-hidden="true" focusable="false" class="octicon octicon-arrow-left" viewBox="0 0 16 16" width="16" height="16" fill="currentColor" display="inline-block" overflow="visible" style="vertical-align:text-bottom"><path d="M7.78 12.53a.75.75 0 0 1-1.06 0L2.47 8.28a.75.75 0 0 1 0-1.06l4.25-4.25a.751.751 0 0 1 1.042.018.751.751 0 0 1 .018 1.042L4.81 7h7.44a.75.75 0 0 1 0 1.5H4.81l2.97 2.97a.75.75 0 0 1 0 1.06Z"></path></svg></span><span data-component="text" class="prc-Button-Label-pTQ3x">Files</span></span></button><button data-component="IconButton" type="button" data-testid="collapse-file-tree-button" aria-expanded="true" aria-controls="repos-file-tree" class="prc-Button-ButtonBase-c50BI position-relative ExpandFileTreeButton-module__expandButton--gL4is ExpandFileTreeButton-module__filesButtonBreakpoint--WfX9t fgColor-muted prc-Button-IconButton-szpyj" data-loading="false" data-no-visuals="true" data-size="medium" data-variant="invisible" aria-describedby=":R756mplab:-loading-announcement" aria-labelledby=":R156mplab:"><svg aria-hidden="true" focusable="false" class="octicon octicon-sidebar-expand" viewBox="0 0 16 16" width="16" height="16" fill="currentColor" display="inline-block" overflow="visible" style="vertical-align:text-bottom"><path d="m4.177 7.823 2.396-2.396A.25.25 0 0 1 7 5.604v4.792a.25.25 0 0 1-.427.177L4.177 8.177a.25.25 0 0 1 0-.354Z"></path><path d="M0 1.75C0 .784.784 0 1.75 0h12.5C15.216 0 16 .784 16 1.75v12.5A1.75 1.75 0 0 1 14.25 16H1.75A1.75 1.75 0 0 1 0 14.25Zm1.75-.25a.25.25 0 0 0-.25.25v12.5c0 .138.112.25.25.25H9.5v-13Zm12.5 13a.25.25 0 0 0 .25-.25V1.75a.25.25 0 0 0-.25-.25H11v13Z"></path></svg></button><span class="prc-TooltipV2-Tooltip-cYMVY" data-direction="se" aria-hidden="true" id=":R156mplab:">Collapse file tree</span><button hidden="" data-testid="" data-hotkey-scope="read-only-cursor-text-area"></button></h2><h2 class="Box-sc-g0xbh4-0 kOkWgo prc-Heading-Heading-6CmGO">Files</h2></div><div class="ReposFileTreePane-module__Box_2--uC_pl"><div class="ReposFileTreePane-module__Box_3--Tgoja"><button type="button" aria-haspopup="true" aria-expanded="false" tabindex="0" aria-label="main branch" data-testid="anchor-button" class="Box-sc-g0xbh4-0 gMOVLe prc-Button-ButtonBase-c50BI react-repos-tree-pane-ref-selector width-full ref-selector-class" data-loading="false" data-size="medium" data-variant="default" aria-describedby="branch-picker-repos-header-ref-selector-loading-announcement" id="branch-picker-repos-header-ref-selector"><span data-component="buttonContent" class="Box-sc-g0xbh4-0 gUkoLg prc-Button-ButtonContent-HKbr-"><span data-component="text" class="prc-Button-Label-pTQ3x"><div class="Box-sc-g0xbh4-0 bZBlpz"><div class="Box-sc-g0xbh4-0 lhTYNA"><svg aria-hidden="true" focusable="false" class="octicon octicon-git-branch" viewBox="0 0 16 16" width="16" height="16" fill="currentColor" display="inline-block" overflow="visible" style="vertical-align:text-bottom"><path d="M9.5 3.25a2.25 2.25 0 1 1 3 2.122V6A2.5 2.5 0 0 1 10 8.5H6a1 1 0 0 0-1 1v1.128a2.251 2.251 0 1 1-1.5 0V5.372a2.25 2.25 0 1 1 1.5 0v1.836A2.493 2.493 0 0 1 6 7h4a1 1 0 0 0 1-1v-.628A2.25 2.25 0 0 1 9.5 3.25Zm-6 0a.75.75 0 1 0 1.5 0 .75.75 0 0 0-1.5 0Zm8.25-.75a.75.75 0 1 0 0 1.5.75.75 0 0 0 0-1.5ZM4.25 12a.75.75 0 1 0 0 1.5.75.75 0 0 0 0-1.5Z"></path></svg></div><div class="Box-sc-g0xbh4-0 ffLUq ref-selector-button-text-container"><span class="Box-sc-g0xbh4-0 bmcJak prc-Text-Text-0ima0"> <!-- -->main</span></div></div></span><span data-component="trailingVisual" class="prc-Button-Visual-2epfX prc-Button-VisualWrap-Db-eB"><svg aria-hidden="true" focusable="false" class="octicon octicon-triangle-down" viewBox="0 0 16 16" width="16" height="16" fill="currentColor" display="inline-block" overflow="visible" style="vertical-align:text-bottom"><path d="m4.427 7.427 3.396 3.396a.25.25 0 0 0 .354 0l3.396-3.396A.25.25 0 0 0 11.396 7H4.604a.25.25 0 0 0-.177.427Z"></path></svg></span></span></button><button hidden="" data-hotkey-scope="read-only-cursor-text-area"></button></div><div class="ReposFileTreePane-module__Box_4--brBpx"><a data-component="IconButton" type="button" class="prc-Button-ButtonBase-c50BI ReposFileTreePane-module__IconButton--tNSTv prc-Button-IconButton-szpyj" data-loading="false" data-no-visuals="true" data-size="medium" data-variant="default" aria-describedby=":R6q6mplab:-loading-announcement" aria-labelledby=":Rq6mplab:" href="/SunilSujith-IT/Music-for-U/new/main" data-discover="true"><svg aria-hidden="true" focusable="false" class="octicon octicon-plus" viewBox="0 0 16 16" width="16" height="16" fill="currentColor" display="inline-block" overflow="visible" style="vertical-align:text-bottom"><path d="M7.75 2a.75.75 0 0 1 .75.75V7h4.25a.75.75 0 0 1 0 1.5H8.5v4.25a.75.75 0 0 1-1.5 0V8.5H2.75a.75.75 0 0 1 0-1.5H7V2.75A.75.75 0 0 1 7.75 2Z"></path></svg></a><span class="prc-TooltipV2-Tooltip-cYMVY" data-direction="n" aria-hidden="true" id=":Rq6mplab:">Add file</span><button data-component="IconButton" type="button" class="Box-sc-g0xbh4-0 dPUXSa prc-Button-ButtonBase-c50BI SearchButton-module__IconButton--LGy8b prc-Button-IconButton-szpyj" data-loading="false" data-no-visuals="true" data-size="medium" data-variant="default" aria-describedby=":Rra6mplab:-loading-announcement" aria-labelledby=":R3a6mplab:"><svg aria-hidden="true" focusable="false" class="octicon octicon-search" viewBox="0 0 16 16" width="16" height="16" fill="currentColor" display="inline-block" overflow="visible" style="vertical-align:text-bottom"><path d="M10.68 11.74a6 6 0 0 1-7.922-8.982 6 6 0 0 1 8.982 7.922l3.04 3.04a.749.749 0 0 1-.326 1.275.749.749 0 0 1-.734-.215ZM11.5 7a4.499 4.499 0 1 0-8.997 0A4.499 4.499 0 0 0 11.5 7Z"></path></svg></button><span class="prc-TooltipV2-Tooltip-cYMVY" data-direction="nw" aria-hidden="true" id=":R3a6mplab:">Search this repository</span><button hidden="" data-testid="" data-hotkey-scope="read-only-cursor-text-area"></button></div></div></div><div class="Box-sc-g0xbh4-0 jLLPHh ReposFileTreePane-module__FileResultsList--t38MI FileResultsList-module__Box_1--ZnWjQ"><span class="FileResultsList-module__FilesSearchBox--J5FtW FilesSearchBox-module__TextInput--LKpMn TextInput-wrapper prc-components-TextInputWrapper-i1ofR prc-components-TextInputBaseWrapper-ueK9q" data-leading-visual="true" data-trailing-visual="true" aria-busy="false"><span class="TextInput-icon" id=":R5amplab:" aria-hidden="true"><svg aria-hidden="true" focusable="false" class="octicon octicon-search" viewBox="0 0 16 16" width="16" height="16" fill="currentColor" display="inline-block" overflow="visible" style="vertical-align:text-bottom"><path d="M10.68 11.74a6 6 0 0 1-7.922-8.982 6 6 0 0 1 8.982 7.922l3.04 3.04a.749.749 0 0 1-.326 1.275.749.749 0 0 1-.734-.215ZM11.5 7a4.499 4.499 0 1 0-8.997 0A4.499 4.499 0 0 0 11.5 7Z"></path></svg></span><input type="text" aria-label="Go to file" role="combobox" aria-controls="file-results-list" aria-expanded="false" aria-haspopup="dialog" autoCorrect="off" spellcheck="false" placeholder="Go to file" aria-describedby=":R5amplab: :R5amplabH1:" data-component="input" class="prc-components-Input-Ic-y8" value=""/><span class="TextInput-icon" id=":R5amplabH1:" aria-hidden="true"><div class="FilesSearchBox-module__Box--Ye6rL"><kbd>t</kbd></div></span></span></div><button hidden="" data-testid="" data-hotkey-scope="read-only-cursor-text-area"></button><button hidden=""></button><div class="Box-sc-g0xbh4-0 jLLPHh ReposFileTreePane-module__Box_5--tQNH_"><div class="react-tree-show-tree-items"><div class="ReposFileTreeView-module__Box--V2jWA" data-testid="repos-file-tree-container"><nav aria-label="File Tree Navigation"><span role="status" aria-live="polite" aria-atomic="true" class="_VisuallyHidden__VisuallyHidden-sc-11jhm7a-0 brGdpi"></span><ul role="tree" aria-label="Files" data-truncate-text="true" class="prc-TreeView-TreeViewRootUlStyles-eZtxW"><li class="PRIVATE_TreeView-item prc-TreeView-TreeViewItem-ShJr0" tabindex="0" id="Music_recommendation_system.ipynb-item" role="treeitem" aria-labelledby=":R3pimplab:" aria-describedby=":R3pimplabH1:" aria-level="1" aria-current="true" aria-selected="false"><div class="PRIVATE_TreeView-item-container prc-TreeView-TreeViewItemContainer--2Rkn" style="--level:1"><div style="grid-area:spacer;display:flex"><div style="width:100%;display:flex"></div></div><div id=":R3pimplab:" class="PRIVATE_TreeView-item-content prc-TreeView-TreeViewItemContent-f0r0b"><div class="PRIVATE_VisuallyHidden prc-TreeView-TreeViewVisuallyHidden-4-mPv" aria-hidden="true" id=":R3pimplabH1:"></div><div class="PRIVATE_TreeView-item-visual prc-TreeView-TreeViewItemVisual-dRlGq" aria-hidden="true"><svg aria-hidden="true" focusable="false" class="octicon octicon-file" viewBox="0 0 16 16" width="16" height="16" fill="currentColor" display="inline-block" overflow="visible" style="vertical-align:text-bottom"><path d="M2 1.75C2 .784 2.784 0 3.75 0h6.586c.464 0 .909.184 1.237.513l2.914 2.914c.329.328.513.773.513 1.237v9.586A1.75 1.75 0 0 1 13.25 16h-9.5A1.75 1.75 0 0 1 2 14.25Zm1.75-.25a.25.25 0 0 0-.25.25v12.5c0 .138.112.25.25.25h9.5a.25.25 0 0 0 .25-.25V6h-2.75A1.75 1.75 0 0 1 9 4.25V1.5Zm6.75.062V4.25c0 .138.112.25.25.25h2.688l-.011-.013-2.914-2.914-.013-.011Z"></path></svg></div><span class="PRIVATE_TreeView-item-content-text prc-TreeView-TreeViewItemContentText-smZM-"><span>Music_recommendation_system.ipynb</span></span></div></div></li><li class="PRIVATE_TreeView-item prc-TreeView-TreeViewItem-ShJr0" tabindex="0" id="README.md-item" role="treeitem" aria-labelledby=":R5pimplab:" aria-describedby=":R5pimplabH1:" aria-level="1" aria-selected="false"><div class="PRIVATE_TreeView-item-container prc-TreeView-TreeViewItemContainer--2Rkn" style="--level:1;content-visibility:auto;contain-intrinsic-size:auto 2rem"><div style="grid-area:spacer;display:flex"><div style="width:100%;display:flex"></div></div><div id=":R5pimplab:" class="PRIVATE_TreeView-item-content prc-TreeView-TreeViewItemContent-f0r0b"><div class="PRIVATE_VisuallyHidden prc-TreeView-TreeViewVisuallyHidden-4-mPv" aria-hidden="true" id=":R5pimplabH1:"></div><div class="PRIVATE_TreeView-item-visual prc-TreeView-TreeViewItemVisual-dRlGq" aria-hidden="true"><svg aria-hidden="true" focusable="false" class="octicon octicon-file" viewBox="0 0 16 16" width="16" height="16" fill="currentColor" display="inline-block" overflow="visible" style="vertical-align:text-bottom"><path d="M2 1.75C2 .784 2.784 0 3.75 0h6.586c.464 0 .909.184 1.237.513l2.914 2.914c.329.328.513.773.513 1.237v9.586A1.75 1.75 0 0 1 13.25 16h-9.5A1.75 1.75 0 0 1 2 14.25Zm1.75-.25a.25.25 0 0 0-.25.25v12.5c0 .138.112.25.25.25h9.5a.25.25 0 0 0 .25-.25V6h-2.75A1.75 1.75 0 0 1 9 4.25V1.5Zm6.75.062V4.25c0 .138.112.25.25.25h2.688l-.011-.013-2.914-2.914-.013-.011Z"></path></svg></div><span class="PRIVATE_TreeView-item-content-text prc-TreeView-TreeViewItemContentText-smZM-"><span>README.md</span></span></div></div></li></ul></nav></div></div></div></div></div></div><div class="prc-PageLayout-VerticalDivider-4A4Qm prc-PageLayout-PaneVerticalDivider-1c9vy" data-variant="none" data-position="start" style="--spacing:var(--spacing-none)"><div role="slider" aria-label="Draggable pane splitter" aria-valuemin="0" aria-valuemax="0" aria-valuenow="0" aria-valuetext="Pane width 0 pixels" tabindex="0" class="Box-sc-g0xbh4-0 bHLmSv"></div></div></div></div><div class="prc-PageLayout-ContentWrapper-b-QRo CodeView-module__SplitPageLayout_Content--qxR1C" data-is-hidden="false"><div class="prc-PageLayout-Content--F7-I" data-width="full" style="--spacing:var(--spacing-none)"><div data-selector="repos-split-pane-content" tabindex="0" class="Box-sc-g0xbh4-0 leYMvG"><div class="Box-sc-g0xbh4-0 KMPzq"><div class="container CodeViewHeader-module__Box--PofRM"><div class="px-3 pt-3 pb-0" id="StickyHeader"><div class="CodeViewHeader-module__Box_1--KpLzV"><div class="CodeViewHeader-module__Box_2--xzDOt"><div class="CodeViewHeader-module__Box_6--iStzT"><div class="Box-sc-g0xbh4-0 cEytCf"><nav data-testid="breadcrumbs" aria-labelledby="repos-header-breadcrumb--wide-heading" id="repos-header-breadcrumb--wide" class="Box-sc-g0xbh4-0 fzFXnm"><h2 class="sr-only ScreenReaderHeading-module__userSelectNone--vW4Cq prc-Heading-Heading-6CmGO" data-testid="screen-reader-heading" id="repos-header-breadcrumb--wide-heading">Breadcrumbs</h2><ol class="Box-sc-g0xbh4-0 iMnkmv"><li class="Box-sc-g0xbh4-0 ghzDag"><a class="Box-sc-g0xbh4-0 kHuKdh prc-Link-Link-85e08" sx="[object Object]" data-testid="breadcrumbs-repo-link" href="/SunilSujith-IT/Music-for-U/tree/main" data-discover="true">Music-for-U</a></li></ol></nav><div data-testid="breadcrumbs-filename" class="Box-sc-g0xbh4-0 ghzDag"><span class="Box-sc-g0xbh4-0 hzJBof prc-Text-Text-0ima0" aria-hidden="true">/</span><h1 class="Box-sc-g0xbh4-0 jGhzSQ prc-Heading-Heading-6CmGO" tabindex="-1" id="file-name-id-wide">Music_recommendation_system.ipynb</h1></div><button data-component="IconButton" type="button" class="prc-Button-ButtonBase-c50BI ml-2 prc-Button-IconButton-szpyj" data-loading="false" data-no-visuals="true" data-size="small" data-variant="invisible" aria-describedby=":Rvb9lab:-loading-announcement" aria-labelledby=":R3b9lab:"><svg aria-hidden="true" focusable="false" class="octicon octicon-copy" viewBox="0 0 16 16" width="16" height="16" fill="currentColor" display="inline-block" overflow="visible" style="vertical-align:text-bottom"><path d="M0 6.75C0 5.784.784 5 1.75 5h1.5a.75.75 0 0 1 0 1.5h-1.5a.25.25 0 0 0-.25.25v7.5c0 .138.112.25.25.25h7.5a.25.25 0 0 0 .25-.25v-1.5a.75.75 0 0 1 1.5 0v1.5A1.75 1.75 0 0 1 9.25 16h-7.5A1.75 1.75 0 0 1 0 14.25Z"></path><path d="M5 1.75C5 .784 5.784 0 6.75 0h7.5C15.216 0 16 .784 16 1.75v7.5A1.75 1.75 0 0 1 14.25 11h-7.5A1.75 1.75 0 0 1 5 9.25Zm1.75-.25a.25.25 0 0 0-.25.25v7.5c0 .138.112.25.25.25h7.5a.25.25 0 0 0 .25-.25v-7.5a.25.25 0 0 0-.25-.25Z"></path></svg></button><span class="CopyToClipboardButton-module__tooltip--Dq1IB prc-TooltipV2-Tooltip-cYMVY" data-direction="nw" aria-label="Copy path" aria-hidden="true" id=":R3b9lab:">Copy path</span></div></div><div class="react-code-view-header-element--wide"><div class="CodeViewHeader-module__Box_7--FZfkg"><div class="d-flex gap-2"> <button type="button" class="Box-sc-g0xbh4-0 fjrFuv prc-Button-ButtonBase-c50BI NavigationMenu-module__Button--SJihq" data-loading="false" data-no-visuals="true" data-size="medium" data-variant="default" aria-describedby=":R1ahj9lab:-loading-announcement"><span data-component="buttonContent" class="Box-sc-g0xbh4-0 gUkoLg prc-Button-ButtonContent-HKbr-"><span data-component="text" class="prc-Button-Label-pTQ3x">Blame</span></span></button><button hidden="" data-testid="" data-hotkey-scope="read-only-cursor-text-area"></button><button data-component="IconButton" type="button" data-testid="more-file-actions-button-nav-menu-wide" aria-haspopup="true" aria-expanded="false" tabindex="0" class="prc-Button-ButtonBase-c50BI js-blob-dropdown-click NavigationMenu-module__IconButton--NqJ_L prc-Button-IconButton-szpyj" data-loading="false" data-no-visuals="true" data-size="medium" data-variant="default" aria-describedby=":Rihj9lab:-loading-announcement" aria-labelledby=":Rfihj9lab:" id=":Rihj9lab:"><svg aria-hidden="true" focusable="false" class="octicon octicon-kebab-horizontal" viewBox="0 0 16 16" width="16" height="16" fill="currentColor" display="inline-block" overflow="visible" style="vertical-align:text-bottom"><path d="M8 9a1.5 1.5 0 1 0 0-3 1.5 1.5 0 0 0 0 3ZM1.5 9a1.5 1.5 0 1 0 0-3 1.5 1.5 0 0 0 0 3Zm13 0a1.5 1.5 0 1 0 0-3 1.5 1.5 0 0 0 0 3Z"></path></svg></button><span class="prc-TooltipV2-Tooltip-cYMVY" data-direction="nw" aria-hidden="true" id=":Rfihj9lab:">More file actions</span> </div></div></div><div class="react-code-view-header-element--narrow"><div class="CodeViewHeader-module__Box_7--FZfkg"><div class="d-flex gap-2"> <button type="button" class="Box-sc-g0xbh4-0 fjrFuv prc-Button-ButtonBase-c50BI NavigationMenu-module__Button--SJihq" data-loading="false" data-no-visuals="true" data-size="medium" data-variant="default" aria-describedby=":R1ahr9lab:-loading-announcement"><span data-component="buttonContent" class="Box-sc-g0xbh4-0 gUkoLg prc-Button-ButtonContent-HKbr-"><span data-component="text" class="prc-Button-Label-pTQ3x">Blame</span></span></button><button hidden="" data-testid="" data-hotkey-scope="read-only-cursor-text-area"></button><button data-component="IconButton" type="button" data-testid="more-file-actions-button-nav-menu-narrow" aria-haspopup="true" aria-expanded="false" tabindex="0" class="prc-Button-ButtonBase-c50BI js-blob-dropdown-click NavigationMenu-module__IconButton--NqJ_L prc-Button-IconButton-szpyj" data-loading="false" data-no-visuals="true" data-size="medium" data-variant="default" aria-describedby=":Rihr9lab:-loading-announcement" aria-labelledby=":Rfihr9lab:" id=":Rihr9lab:"><svg aria-hidden="true" focusable="false" class="octicon octicon-kebab-horizontal" viewBox="0 0 16 16" width="16" height="16" fill="currentColor" display="inline-block" overflow="visible" style="vertical-align:text-bottom"><path d="M8 9a1.5 1.5 0 1 0 0-3 1.5 1.5 0 0 0 0 3ZM1.5 9a1.5 1.5 0 1 0 0-3 1.5 1.5 0 0 0 0 3Zm13 0a1.5 1.5 0 1 0 0-3 1.5 1.5 0 0 0 0 3Z"></path></svg></button><span class="prc-TooltipV2-Tooltip-cYMVY" data-direction="nw" aria-hidden="true" id=":Rfihr9lab:">More file actions</span> </div></div></div></div></div></div></div></div><div class="Box-sc-g0xbh4-0 dJxjrT react-code-view-bottom-padding"> <div class="BlobTopBanners-module__Box--g_bGk"></div> <!-- --> <!-- --> </div><div class="Box-sc-g0xbh4-0 dJxjrT"> <!-- --> <!-- --> <div class="d-flex flex-column border rounded-2 mb-3 pl-1"><div class="LatestCommit-module__Box--En0AE"><h2 class="sr-only ScreenReaderHeading-module__userSelectNone--vW4Cq prc-Heading-Heading-6CmGO" data-testid="screen-reader-heading">Latest commit</h2><div style="width:120px" class="Skeleton Skeleton--text" data-testid="loading"> </div><div class="d-flex flex-shrink-0 gap-2"><div data-testid="latest-commit-details" class="d-none d-sm-flex flex-items-center"></div><div class="d-flex gap-2"><h2 class="sr-only ScreenReaderHeading-module__userSelectNone--vW4Cq prc-Heading-Heading-6CmGO" data-testid="screen-reader-heading">History</h2><a href="/SunilSujith-IT/Music-for-U/commits/main/Music_recommendation_system.ipynb" class="prc-Button-ButtonBase-c50BI d-none d-lg-flex LinkButton-module__code-view-link-button--xvCGA flex-items-center fgColor-default" data-loading="false" data-size="small" data-variant="invisible" aria-describedby=":R1bdal9lab:-loading-announcement"><span data-component="buttonContent" data-align="center" class="prc-Button-ButtonContent-HKbr-"><span data-component="leadingVisual" class="prc-Button-Visual-2epfX prc-Button-VisualWrap-Db-eB"><svg aria-hidden="true" focusable="false" class="octicon octicon-history" viewBox="0 0 16 16" width="16" height="16" fill="currentColor" display="inline-block" overflow="visible" style="vertical-align:text-bottom"><path d="m.427 1.927 1.215 1.215a8.002 8.002 0 1 1-1.6 5.685.75.75 0 1 1 1.493-.154 6.5 6.5 0 1 0 1.18-4.458l1.358 1.358A.25.25 0 0 1 3.896 6H.25A.25.25 0 0 1 0 5.75V2.104a.25.25 0 0 1 .427-.177ZM7.75 4a.75.75 0 0 1 .75.75v2.992l2.028.812a.75.75 0 0 1-.557 1.392l-2.5-1A.751.751 0 0 1 7 8.25v-3.5A.75.75 0 0 1 7.75 4Z"></path></svg></span><span data-component="text" class="prc-Button-Label-pTQ3x"><span class="fgColor-default">History</span></span></span></a><div class="d-sm-none"></div><div class="d-flex d-lg-none"><span role="tooltip" aria-label="History" id="history-icon-button-tooltip" class="Tooltip__TooltipBase-sc-17tf59c-0 hWlpPn tooltipped-n"><a aria-label="View commit history for this file." href="/SunilSujith-IT/Music-for-U/commits/main/Music_recommendation_system.ipynb" class="prc-Button-ButtonBase-c50BI LinkButton-module__code-view-link-button--xvCGA flex-items-center fgColor-default" data-loading="false" data-size="small" data-variant="invisible" aria-describedby=":R6bdal9lab:-loading-announcement history-icon-button-tooltip"><span data-component="buttonContent" data-align="center" class="prc-Button-ButtonContent-HKbr-"><span data-component="leadingVisual" class="prc-Button-Visual-2epfX prc-Button-VisualWrap-Db-eB"><svg aria-hidden="true" focusable="false" class="octicon octicon-history" viewBox="0 0 16 16" width="16" height="16" fill="currentColor" display="inline-block" overflow="visible" style="vertical-align:text-bottom"><path d="m.427 1.927 1.215 1.215a8.002 8.002 0 1 1-1.6 5.685.75.75 0 1 1 1.493-.154 6.5 6.5 0 1 0 1.18-4.458l1.358 1.358A.25.25 0 0 1 3.896 6H.25A.25.25 0 0 1 0 5.75V2.104a.25.25 0 0 1 .427-.177ZM7.75 4a.75.75 0 0 1 .75.75v2.992l2.028.812a.75.75 0 0 1-.557 1.392l-2.5-1A.751.751 0 0 1 7 8.25v-3.5A.75.75 0 0 1 7.75 4Z"></path></svg></span></span></a></span></div></div></div></div></div><div class="Box-sc-g0xbh4-0 ldRxiI"><div class="Box-sc-g0xbh4-0 fVkfyA container"><div class="Box-sc-g0xbh4-0 gNAmSV react-code-size-details-banner"><div class="react-code-size-details-banner CodeSizeDetails-module__Box--QdxnQ"><div class="text-mono CodeSizeDetails-module__Box_1--_uFDs"><div data-testid="blob-size" class="CodeSizeDetails-module__Truncate_1--er0Uk prc-Truncate-Truncate-A9Wn6" data-inline="true" title="136 KB" style="--truncate-max-width:100%"><span>698 lines (698 loc) · 136 KB</span></div></div></div><div class="react-code-size-details-banner"><button style="--button-color:fg.default" type="button" aria-haspopup="true" aria-expanded="false" tabindex="0" class="Box-sc-g0xbh4-0 kXyYCF prc-Button-ButtonBase-c50BI" data-loading="false" data-size="small" data-variant="invisible" aria-describedby=":R9fal9lab:-loading-announcement" id=":R9fal9lab:"><span data-component="buttonContent" class="Box-sc-g0xbh4-0 gUkoLg prc-Button-ButtonContent-HKbr-"><span data-component="leadingVisual" class="prc-Button-Visual-2epfX prc-Button-VisualWrap-Db-eB"><svg aria-hidden="true" focusable="false" class="octicon octicon-copilot" viewBox="0 0 16 16" width="16" height="16" fill="currentColor" display="inline-block" overflow="visible" style="vertical-align:text-bottom"><path d="M7.998 15.035c-4.562 0-7.873-2.914-7.998-3.749V9.338c.085-.628.677-1.686 1.588-2.065.013-.07.024-.143.036-.218.029-.183.06-.384.126-.612-.201-.508-.254-1.084-.254-1.656 0-.87.128-1.769.693-2.484.579-.733 1.494-1.124 2.724-1.261 1.206-.134 2.262.034 2.944.765.05.053.096.108.139.165.044-.057.094-.112.143-.165.682-.731 1.738-.899 2.944-.765 1.23.137 2.145.528 2.724 1.261.566.715.693 1.614.693 2.484 0 .572-.053 1.148-.254 1.656.066.228.098.429.126.612.012.076.024.148.037.218.924.385 1.522 1.471 1.591 2.095v1.872c0 .766-3.351 3.795-8.002 3.795Zm0-1.485c2.28 0 4.584-1.11 5.002-1.433V7.862l-.023-.116c-.49.21-1.075.291-1.727.291-1.146 0-2.059-.327-2.71-.991A3.222 3.222 0 0 1 8 6.303a3.24 3.24 0 0 1-.544.743c-.65.664-1.563.991-2.71.991-.652 0-1.236-.081-1.727-.291l-.023.116v4.255c.419.323 2.722 1.433 5.002 1.433ZM6.762 2.83c-.193-.206-.637-.413-1.682-.297-1.019.113-1.479.404-1.713.7-.247.312-.369.789-.369 1.554 0 .793.129 1.171.308 1.371.162.181.519.379 1.442.379.853 0 1.339-.235 1.638-.54.315-.322.527-.827.617-1.553.117-.935-.037-1.395-.241-1.614Zm4.155-.297c-1.044-.116-1.488.091-1.681.297-.204.219-.359.679-.242 1.614.091.726.303 1.231.618 1.553.299.305.784.54 1.638.54.922 0 1.28-.198 1.442-.379.179-.2.308-.578.308-1.371 0-.765-.123-1.242-.37-1.554-.233-.296-.693-.587-1.713-.7Z"></path><path d="M6.25 9.037a.75.75 0 0 1 .75.75v1.501a.75.75 0 0 1-1.5 0V9.787a.75.75 0 0 1 .75-.75Zm4.25.75v1.501a.75.75 0 0 1-1.5 0V9.787a.75.75 0 0 1 1.5 0Z"></path></svg></span><span data-component="text" class="prc-Button-Label-pTQ3x">Code 55% faster with GitHub Copilot</span></span></button></div></div><div class="Box-sc-g0xbh4-0 jdLMhu react-blob-view-header-sticky" id="repos-sticky-header"><div class="BlobViewHeader-module__Box--pvsIA"><div class="react-blob-sticky-header"><div class="Box-sc-g0xbh4-0 hqwSEx"><div class="FileNameStickyHeader-module__Box_5--xBJ2J"><div class="Box-sc-g0xbh4-0 fHind"><nav data-testid="breadcrumbs" aria-labelledby="sticky-breadcrumb-heading" id="sticky-breadcrumb" class="Box-sc-g0xbh4-0 fzFXnm"><h2 class="sr-only ScreenReaderHeading-module__userSelectNone--vW4Cq prc-Heading-Heading-6CmGO" data-testid="screen-reader-heading" id="sticky-breadcrumb-heading">Breadcrumbs</h2><ol class="Box-sc-g0xbh4-0 iMnkmv"><li class="Box-sc-g0xbh4-0 ghzDag"><a class="Box-sc-g0xbh4-0 kHuKdh prc-Link-Link-85e08" sx="[object Object]" data-testid="breadcrumbs-repo-link" href="/SunilSujith-IT/Music-for-U/tree/main" data-discover="true">Music-for-U</a></li></ol></nav><div data-testid="breadcrumbs-filename" class="Box-sc-g0xbh4-0 ghzDag"><span class="Box-sc-g0xbh4-0 oDtgN prc-Text-Text-0ima0" aria-hidden="true">/</span><h1 class="Box-sc-g0xbh4-0 dnZoUW prc-Heading-Heading-6CmGO" tabindex="-1" id="sticky-file-name-id">Music_recommendation_system.ipynb</h1></div></div><button type="button" class="prc-Button-ButtonBase-c50BI FileNameStickyHeader-module__Button--SaiiH FileNameStickyHeader-module__GoToTopButton--9lB4x" data-loading="false" data-size="small" data-variant="invisible" aria-describedby=":R4mfal9lab:-loading-announcement"><span data-component="buttonContent" data-align="center" class="prc-Button-ButtonContent-HKbr-"><span data-component="leadingVisual" class="prc-Button-Visual-2epfX prc-Button-VisualWrap-Db-eB"><svg aria-hidden="true" focusable="false" class="octicon octicon-arrow-up" viewBox="0 0 16 16" width="16" height="16" fill="currentColor" display="inline-block" overflow="visible" style="vertical-align:text-bottom"><path d="M3.47 7.78a.75.75 0 0 1 0-1.06l4.25-4.25a.75.75 0 0 1 1.06 0l4.25 4.25a.751.751 0 0 1-.018 1.042.751.751 0 0 1-1.042.018L9 4.81v7.44a.75.75 0 0 1-1.5 0V4.81L4.53 7.78a.75.75 0 0 1-1.06 0Z"></path></svg></span><span data-component="text" class="prc-Button-Label-pTQ3x">Top</span></span></button></div></div></div><div class="Box-sc-g0xbh4-0 gFKFyc BlobViewHeader-module__Box_1--PPihg"><h2 class="sr-only ScreenReaderHeading-module__userSelectNone--vW4Cq prc-Heading-Heading-6CmGO" data-testid="screen-reader-heading">File metadata and controls</h2><div class="BlobViewHeader-module__Box_2--G_jCG"><ul aria-label="File view" class="prc-SegmentedControl-SegmentedControl-e7570 BlobTabButtons-module__SegmentedControl--JMGov" data-size="small"><li class="prc-SegmentedControl-Item-7Aq6h" data-selected=""><button aria-current="true" class="prc-SegmentedControl-Button-ojWXD" type="button" style="--separator-color:transparent"><span class="prc-SegmentedControl-Content-gnQ4n segmentedControl-content"><div class="prc-SegmentedControl-Text-c5gSh segmentedControl-text" data-text="Preview">Preview</div></span></button></li><li class="prc-SegmentedControl-Item-7Aq6h"><button aria-current="false" class="prc-SegmentedControl-Button-ojWXD" type="button" style="--separator-color:var(--borderColor-default, var(--color-border-default, #d0d7de))"><span class="prc-SegmentedControl-Content-gnQ4n segmentedControl-content"><div class="prc-SegmentedControl-Text-c5gSh segmentedControl-text" data-text="Code">Code</div></span></button></li><li class="prc-SegmentedControl-Item-7Aq6h"><button aria-current="false" class="prc-SegmentedControl-Button-ojWXD" type="button" style="--separator-color:var(--borderColor-default, var(--color-border-default, #d0d7de))"><span class="prc-SegmentedControl-Content-gnQ4n segmentedControl-content"><div class="prc-SegmentedControl-Text-c5gSh segmentedControl-text" data-text="Blame">Blame</div></span></button></li></ul><button hidden="" data-testid="" data-hotkey-scope="read-only-cursor-text-area"></button><button hidden="" data-testid="" data-hotkey-scope="read-only-cursor-text-area"></button><button hidden="" data-testid="" data-hotkey-scope="read-only-cursor-text-area"></button><div class="react-code-size-details-in-header CodeSizeDetails-module__Box--QdxnQ"><div class="text-mono CodeSizeDetails-module__Box_1--_uFDs"><div data-testid="blob-size" class="CodeSizeDetails-module__Truncate_1--er0Uk prc-Truncate-Truncate-A9Wn6" data-inline="true" title="136 KB" style="--truncate-max-width:100%"><span>698 lines (698 loc) · 136 KB</span></div></div></div><div class="react-code-size-details-in-header"><button style="--button-color:fg.default" type="button" aria-haspopup="true" aria-expanded="false" tabindex="0" class="Box-sc-g0xbh4-0 kXyYCF prc-Button-ButtonBase-c50BI" data-loading="false" data-size="small" data-variant="invisible" aria-describedby=":Rt6fal9lab:-loading-announcement" id=":Rt6fal9lab:"><span data-component="buttonContent" class="Box-sc-g0xbh4-0 gUkoLg prc-Button-ButtonContent-HKbr-"><span data-component="leadingVisual" class="prc-Button-Visual-2epfX prc-Button-VisualWrap-Db-eB"><svg aria-hidden="true" focusable="false" class="octicon octicon-copilot" viewBox="0 0 16 16" width="16" height="16" fill="currentColor" display="inline-block" overflow="visible" style="vertical-align:text-bottom"><path d="M7.998 15.035c-4.562 0-7.873-2.914-7.998-3.749V9.338c.085-.628.677-1.686 1.588-2.065.013-.07.024-.143.036-.218.029-.183.06-.384.126-.612-.201-.508-.254-1.084-.254-1.656 0-.87.128-1.769.693-2.484.579-.733 1.494-1.124 2.724-1.261 1.206-.134 2.262.034 2.944.765.05.053.096.108.139.165.044-.057.094-.112.143-.165.682-.731 1.738-.899 2.944-.765 1.23.137 2.145.528 2.724 1.261.566.715.693 1.614.693 2.484 0 .572-.053 1.148-.254 1.656.066.228.098.429.126.612.012.076.024.148.037.218.924.385 1.522 1.471 1.591 2.095v1.872c0 .766-3.351 3.795-8.002 3.795Zm0-1.485c2.28 0 4.584-1.11 5.002-1.433V7.862l-.023-.116c-.49.21-1.075.291-1.727.291-1.146 0-2.059-.327-2.71-.991A3.222 3.222 0 0 1 8 6.303a3.24 3.24 0 0 1-.544.743c-.65.664-1.563.991-2.71.991-.652 0-1.236-.081-1.727-.291l-.023.116v4.255c.419.323 2.722 1.433 5.002 1.433ZM6.762 2.83c-.193-.206-.637-.413-1.682-.297-1.019.113-1.479.404-1.713.7-.247.312-.369.789-.369 1.554 0 .793.129 1.171.308 1.371.162.181.519.379 1.442.379.853 0 1.339-.235 1.638-.54.315-.322.527-.827.617-1.553.117-.935-.037-1.395-.241-1.614Zm4.155-.297c-1.044-.116-1.488.091-1.681.297-.204.219-.359.679-.242 1.614.091.726.303 1.231.618 1.553.299.305.784.54 1.638.54.922 0 1.28-.198 1.442-.379.179-.2.308-.578.308-1.371 0-.765-.123-1.242-.37-1.554-.233-.296-.693-.587-1.713-.7Z"></path><path d="M6.25 9.037a.75.75 0 0 1 .75.75v1.501a.75.75 0 0 1-1.5 0V9.787a.75.75 0 0 1 .75-.75Zm4.25.75v1.501a.75.75 0 0 1-1.5 0V9.787a.75.75 0 0 1 1.5 0Z"></path></svg></span><span data-component="text" class="prc-Button-Label-pTQ3x">Code 55% faster with GitHub Copilot</span></span></button></div></div><div class="BlobViewHeader-module__Box_3--Kvpex"><div class="react-blob-header-edit-and-raw-actions BlobViewHeader-module__Box_4--vFP89"><div class="prc-ButtonGroup-ButtonGroup-vcMeG"><div><a href="https://github.com/SunilSujith-IT/Music-for-U/raw/refs/heads/main/Music_recommendation_system.ipynb" data-testid="raw-button" class="Box-sc-g0xbh4-0 lefpaC prc-Button-ButtonBase-c50BI BlobViewHeader-module__LinkButton--DMph4" data-loading="false" data-no-visuals="true" data-size="small" data-variant="default" aria-describedby=":R1b76fal9lab:-loading-announcement"><span data-component="buttonContent" class="Box-sc-g0xbh4-0 gUkoLg prc-Button-ButtonContent-HKbr-"><span data-component="text" class="prc-Button-Label-pTQ3x">Raw</span></span></a></div><div><button data-component="IconButton" type="button" data-testid="copy-raw-button" class="prc-Button-ButtonBase-c50BI prc-Button-IconButton-szpyj" data-loading="false" data-no-visuals="true" data-size="small" data-variant="default" aria-describedby=":R1mb76fal9lab:-loading-announcement" aria-labelledby=":R6b76fal9lab:"><svg aria-hidden="true" focusable="false" class="octicon octicon-copy" viewBox="0 0 16 16" width="16" height="16" fill="currentColor" display="inline-block" overflow="visible" style="vertical-align:text-bottom"><path d="M0 6.75C0 5.784.784 5 1.75 5h1.5a.75.75 0 0 1 0 1.5h-1.5a.25.25 0 0 0-.25.25v7.5c0 .138.112.25.25.25h7.5a.25.25 0 0 0 .25-.25v-1.5a.75.75 0 0 1 1.5 0v1.5A1.75 1.75 0 0 1 9.25 16h-7.5A1.75 1.75 0 0 1 0 14.25Z"></path><path d="M5 1.75C5 .784 5.784 0 6.75 0h7.5C15.216 0 16 .784 16 1.75v7.5A1.75 1.75 0 0 1 14.25 11h-7.5A1.75 1.75 0 0 1 5 9.25Zm1.75-.25a.25.25 0 0 0-.25.25v7.5c0 .138.112.25.25.25h7.5a.25.25 0 0 0 .25-.25v-7.5a.25.25 0 0 0-.25-.25Z"></path></svg></button><span class="prc-TooltipV2-Tooltip-cYMVY" data-direction="n" aria-hidden="true" id=":R6b76fal9lab:">Copy raw file</span></div><div><button data-component="IconButton" type="button" data-testid="download-raw-button" class="Box-sc-g0xbh4-0 ivobqY prc-Button-ButtonBase-c50BI prc-Button-IconButton-szpyj" data-loading="false" data-no-visuals="true" data-size="small" data-variant="default" aria-describedby=":Rfb76fal9lab:-loading-announcement" aria-labelledby=":R3b76fal9lab:"><svg aria-hidden="true" focusable="false" class="octicon octicon-download" viewBox="0 0 16 16" width="16" height="16" fill="currentColor" display="inline-block" overflow="visible" style="vertical-align:text-bottom"><path d="M2.75 14A1.75 1.75 0 0 1 1 12.25v-2.5a.75.75 0 0 1 1.5 0v2.5c0 .138.112.25.25.25h10.5a.25.25 0 0 0 .25-.25v-2.5a.75.75 0 0 1 1.5 0v2.5A1.75 1.75 0 0 1 13.25 14Z"></path><path d="M7.25 7.689V2a.75.75 0 0 1 1.5 0v5.689l1.97-1.969a.749.749 0 1 1 1.06 1.06l-3.25 3.25a.749.749 0 0 1-1.06 0L4.22 6.78a.749.749 0 1 1 1.06-1.06l1.97 1.969Z"></path></svg></button><span class="prc-TooltipV2-Tooltip-cYMVY" data-direction="n" aria-hidden="true" id=":R3b76fal9lab:">Download raw file</span></div></div><button hidden="" data-testid="raw-button-shortcut" data-hotkey-scope="read-only-cursor-text-area"></button><button hidden="" data-testid="copy-raw-button-shortcut" data-hotkey-scope="read-only-cursor-text-area"></button><button hidden="" data-testid="download-raw-button-shortcut" data-hotkey-scope="read-only-cursor-text-area"></button><a class="js-github-dev-shortcut d-none prc-Link-Link-85e08" href="https://github.dev/"></a><button hidden="" data-testid="" data-hotkey-scope="read-only-cursor-text-area"></button><a class="js-github-dev-new-tab-shortcut d-none prc-Link-Link-85e08" href="https://github.dev/" target="_blank"></a><button hidden="" data-testid="" data-hotkey-scope="read-only-cursor-text-area"></button><div class="prc-ButtonGroup-ButtonGroup-vcMeG"><div><a sx="[object Object]" data-component="IconButton" type="button" data-testid="edit-button" class="Box-sc-g0xbh4-0 iCOsHh prc-Button-ButtonBase-c50BI BlobViewHeader-module__IconButton_1--MzNlL prc-Button-IconButton-szpyj" data-loading="false" data-no-visuals="true" data-size="small" data-variant="default" aria-describedby=":Rdl76fal9lab:-loading-announcement" aria-labelledby=":R1l76fal9lab:" href="/SunilSujith-IT/Music-for-U/edit/main/Music_recommendation_system.ipynb" data-discover="true"><svg aria-hidden="true" focusable="false" class="octicon octicon-pencil" viewBox="0 0 16 16" width="16" height="16" fill="currentColor" display="inline-block" overflow="visible" style="vertical-align:text-bottom"><path d="M11.013 1.427a1.75 1.75 0 0 1 2.474 0l1.086 1.086a1.75 1.75 0 0 1 0 2.474l-8.61 8.61c-.21.21-.47.364-.756.445l-3.251.93a.75.75 0 0 1-.927-.928l.929-3.25c.081-.286.235-.547.445-.758l8.61-8.61Zm.176 4.823L9.75 4.81l-6.286 6.287a.253.253 0 0 0-.064.108l-.558 1.953 1.953-.558a.253.253 0 0 0 .108-.064Zm1.238-3.763a.25.25 0 0 0-.354 0L10.811 3.75l1.439 1.44 1.263-1.263a.25.25 0 0 0 0-.354Z"></path></svg></a><span class="prc-TooltipV2-Tooltip-cYMVY" data-direction="nw" aria-hidden="true" id=":R1l76fal9lab:">Edit this file</span></div><div><button data-component="IconButton" type="button" data-testid="more-edit-button" aria-haspopup="true" aria-expanded="false" tabindex="0" class="prc-Button-ButtonBase-c50BI prc-Button-IconButton-szpyj" data-loading="false" data-no-visuals="true" data-size="small" data-variant="default" aria-describedby=":R2l76fal9lab:-loading-announcement" aria-labelledby=":R1ul76fal9lab:" id=":R2l76fal9lab:"><svg aria-hidden="true" focusable="false" class="octicon octicon-triangle-down" viewBox="0 0 16 16" width="16" height="16" fill="currentColor" display="inline-block" overflow="visible" style="vertical-align:text-bottom"><path d="m4.427 7.427 3.396 3.396a.25.25 0 0 0 .354 0l3.396-3.396A.25.25 0 0 0 11.396 7H4.604a.25.25 0 0 0-.177.427Z"></path></svg></button><span class="prc-TooltipV2-Tooltip-cYMVY" data-direction="nw" aria-hidden="true" id=":R1ul76fal9lab:">More edit options</span></div></div><button hidden="" data-testid="" data-hotkey="e,Shift+E" data-hotkey-scope="read-only-cursor-text-area"></button></div><div class="react-blob-header-edit-and-raw-actions-combined"><button data-component="IconButton" type="button" title="More file actions" data-testid="more-file-actions-button" aria-haspopup="true" aria-expanded="false" tabindex="0" class="prc-Button-ButtonBase-c50BI js-blob-dropdown-click BlobViewHeader-module__IconButton--uO1fA prc-Button-IconButton-szpyj" data-loading="false" data-no-visuals="true" data-size="small" data-variant="invisible" aria-describedby=":R5v6fal9lab:-loading-announcement" aria-labelledby=":R3tv6fal9lab:" id=":R5v6fal9lab:"><svg aria-hidden="true" focusable="false" class="octicon octicon-kebab-horizontal" viewBox="0 0 16 16" width="16" height="16" fill="currentColor" display="inline-block" overflow="visible" style="vertical-align:text-bottom"><path d="M8 9a1.5 1.5 0 1 0 0-3 1.5 1.5 0 0 0 0 3ZM1.5 9a1.5 1.5 0 1 0 0-3 1.5 1.5 0 0 0 0 3Zm13 0a1.5 1.5 0 1 0 0-3 1.5 1.5 0 0 0 0 3Z"></path></svg></button><span class="prc-TooltipV2-Tooltip-cYMVY" data-direction="nw" aria-hidden="true" id=":R3tv6fal9lab:">Edit and raw actions</span></div></div></div></div><div></div></div><div class="Box-sc-g0xbh4-0 hGyMdv"><section aria-labelledby="file-name-id-wide file-name-id-mobile" class="Box-sc-g0xbh4-0 iWAocR"><!--$!--><template></template><div class="Box-sc-g0xbh4-0 fgsa-DI"><span class="prc-Spinner-Box-qNUI9"><svg height="32px" width="32px" viewBox="0 0 16 16" fill="none" aria-hidden="true" aria-label="Loading" class="prc-Spinner-SpinnerAnimation-e7Gf-"><circle cx="8" cy="8" r="7" stroke="currentColor" stroke-opacity="0.25" stroke-width="2" vector-effect="non-scaling-stroke"></circle><path d="M15 8a7.002 7.002 0 00-7-7" stroke="currentColor" stroke-width="2" stroke-linecap="round" vector-effect="non-scaling-stroke"></path></svg></span></div><!--/$--></section></div></div></div> <!-- --> <!-- --> </div></div></div></div></div></div></div><div id="find-result-marks-container" class="Box-sc-g0xbh4-0 cCoXib"></div><button hidden="" data-testid="" data-hotkey-scope="read-only-cursor-text-area"></button><button hidden=""></button></div> <!-- --> <!-- --> <script type="application/json" id="__PRIMER_DATA_:R0:__">{"resolvedServerColorMode":"day"}</script></div>
</react-app>
</turbo-frame>



  </div>

</turbo-frame>

    </main>
  </div>

  </div>

          <footer class="footer pt-8 pb-6 f6 color-fg-muted p-responsive" role="contentinfo" >
  <h2 class='sr-only'>Footer</h2>

  


  <div class="d-flex flex-justify-center flex-items-center flex-column-reverse flex-lg-row flex-wrap flex-lg-nowrap">
    <div class="d-flex flex-items-center flex-shrink-0 mx-2">
      <a aria-label="GitHub Homepage" class="footer-octicon mr-2" href="https://github.com">
        <svg aria-hidden="true" height="24" viewBox="0 0 24 24" version="1.1" width="24" data-view-component="true" class="octicon octicon-mark-github">
    <path d="M12 1C5.923 1 1 5.923 1 12c0 4.867 3.149 8.979 7.521 10.436.55.096.756-.233.756-.522 0-.262-.013-1.128-.013-2.049-2.764.509-3.479-.674-3.699-1.292-.124-.317-.66-1.293-1.127-1.554-.385-.207-.936-.715-.014-.729.866-.014 1.485.797 1.691 1.128.99 1.663 2.571 1.196 3.204.907.096-.715.385-1.196.701-1.471-2.448-.275-5.005-1.224-5.005-5.432 0-1.196.426-2.186 1.128-2.956-.111-.275-.496-1.402.11-2.915 0 0 .921-.288 3.024 1.128a10.193 10.193 0 0 1 2.75-.371c.936 0 1.871.123 2.75.371 2.104-1.43 3.025-1.128 3.025-1.128.605 1.513.221 2.64.111 2.915.701.77 1.127 1.747 1.127 2.956 0 4.222-2.571 5.157-5.019 5.432.399.344.743 1.004.743 2.035 0 1.471-.014 2.654-.014 3.025 0 .289.206.632.756.522C19.851 20.979 23 16.854 23 12c0-6.077-4.922-11-11-11Z"></path>
</svg>
</a>
      <span>
        &copy; 2025 GitHub,&nbsp;Inc.
      </span>
    </div>

    <nav aria-label="Footer">
      <h3 class="sr-only" id="sr-footer-heading">Footer navigation</h3>

      <ul class="list-style-none d-flex flex-justify-center flex-wrap mb-2 mb-lg-0" aria-labelledby="sr-footer-heading">

          <li class="mx-2">
            <a data-analytics-event="{&quot;category&quot;:&quot;Footer&quot;,&quot;action&quot;:&quot;go to Terms&quot;,&quot;label&quot;:&quot;text:terms&quot;}" href="https://docs.github.com/site-policy/github-terms/github-terms-of-service" data-view-component="true" class="Link--secondary Link">Terms</a>
          </li>

          <li class="mx-2">
            <a data-analytics-event="{&quot;category&quot;:&quot;Footer&quot;,&quot;action&quot;:&quot;go to privacy&quot;,&quot;label&quot;:&quot;text:privacy&quot;}" href="https://docs.github.com/site-policy/privacy-policies/github-privacy-statement" data-view-component="true" class="Link--secondary Link">Privacy</a>
          </li>

          <li class="mx-2">
            <a data-analytics-event="{&quot;category&quot;:&quot;Footer&quot;,&quot;action&quot;:&quot;go to security&quot;,&quot;label&quot;:&quot;text:security&quot;}" href="https://github.com/security" data-view-component="true" class="Link--secondary Link">Security</a>
          </li>

          <li class="mx-2">
            <a data-analytics-event="{&quot;category&quot;:&quot;Footer&quot;,&quot;action&quot;:&quot;go to status&quot;,&quot;label&quot;:&quot;text:status&quot;}" href="https://www.githubstatus.com/" data-view-component="true" class="Link--secondary Link">Status</a>
          </li>

          <li class="mx-2">
            <a data-analytics-event="{&quot;category&quot;:&quot;Footer&quot;,&quot;action&quot;:&quot;go to docs&quot;,&quot;label&quot;:&quot;text:docs&quot;}" href="https://docs.github.com/" data-view-component="true" class="Link--secondary Link">Docs</a>
          </li>

          <li class="mx-2">
            <a data-analytics-event="{&quot;category&quot;:&quot;Footer&quot;,&quot;action&quot;:&quot;go to contact&quot;,&quot;label&quot;:&quot;text:contact&quot;}" href="https://support.github.com?tags=dotcom-footer" data-view-component="true" class="Link--secondary Link">Contact</a>
          </li>

          <li >
  <cookie-consent-link>
    <button
      type="button"
      class="Link--secondary underline-on-hover border-0 p-0 color-bg-transparent"
      data-action="click:cookie-consent-link#showConsentManagement"
      data-analytics-event="{&quot;location&quot;:&quot;footer&quot;,&quot;action&quot;:&quot;cookies&quot;,&quot;context&quot;:&quot;subfooter&quot;,&quot;tag&quot;:&quot;link&quot;,&quot;label&quot;:&quot;cookies_link_subfooter_footer&quot;}"
    >
       Manage cookies
    </button>
  </cookie-consent-link>
</li>

<li>
  <cookie-consent-link>
    <button
      type="button"
      class="Link--secondary underline-on-hover border-0 p-0 color-bg-transparent"
      data-action="click:cookie-consent-link#showConsentManagement"
      data-analytics-event="{&quot;location&quot;:&quot;footer&quot;,&quot;action&quot;:&quot;dont_share_info&quot;,&quot;context&quot;:&quot;subfooter&quot;,&quot;tag&quot;:&quot;link&quot;,&quot;label&quot;:&quot;dont_share_info_link_subfooter_footer&quot;}"
    >
      Do not share my personal information
    </button>
  </cookie-consent-link>
</li>

      </ul>
    </nav>
  </div>
</footer>



    <ghcc-consent id="ghcc" class="position-fixed bottom-0 left-0" style="z-index: 999999"
      data-locale="en"
      data-initial-cookie-consent-allowed=""
      data-cookie-consent-required="false"
    ></ghcc-consent>



  <div id="ajax-error-message" class="ajax-error-message flash flash-error" hidden>
    <svg aria-hidden="true" height="16" viewBox="0 0 16 16" version="1.1" width="16" data-view-component="true" class="octicon octicon-alert">
    <path d="M6.457 1.047c.659-1.234 2.427-1.234 3.086 0l6.082 11.378A1.75 1.75 0 0 1 14.082 15H1.918a1.75 1.75 0 0 1-1.543-2.575Zm1.763.707a.25.25 0 0 0-.44 0L1.698 13.132a.25.25 0 0 0 .22.368h12.164a.25.25 0 0 0 .22-.368Zm.53 3.996v2.5a.75.75 0 0 1-1.5 0v-2.5a.75.75 0 0 1 1.5 0ZM9 11a1 1 0 1 1-2 0 1 1 0 0 1 2 0Z"></path>
</svg>
    <button type="button" class="flash-close js-ajax-error-dismiss" aria-label="Dismiss error">
      <svg aria-hidden="true" height="16" viewBox="0 0 16 16" version="1.1" width="16" data-view-component="true" class="octicon octicon-x">
    <path d="M3.72 3.72a.75.75 0 0 1 1.06 0L8 6.94l3.22-3.22a.749.749 0 0 1 1.275.326.749.749 0 0 1-.215.734L9.06 8l3.22 3.22a.749.749 0 0 1-.326 1.275.749.749 0 0 1-.734-.215L8 9.06l-3.22 3.22a.751.751 0 0 1-1.042-.018.751.751 0 0 1-.018-1.042L6.94 8 3.72 4.78a.75.75 0 0 1 0-1.06Z"></path>
</svg>
    </button>
    You can’t perform that action at this time.
  </div>

    <template id="site-details-dialog">
  <details class="details-reset details-overlay details-overlay-dark lh-default color-fg-default hx_rsm" open>
    <summary role="button" aria-label="Close dialog"></summary>
    <details-dialog class="Box Box--overlay d-flex flex-column anim-fade-in fast hx_rsm-dialog hx_rsm-modal">
      <button class="Box-btn-octicon m-0 btn-octicon position-absolute right-0 top-0" type="button" aria-label="Close dialog" data-close-dialog>
        <svg aria-hidden="true" height="16" viewBox="0 0 16 16" version="1.1" width="16" data-view-component="true" class="octicon octicon-x">
    <path d="M3.72 3.72a.75.75 0 0 1 1.06 0L8 6.94l3.22-3.22a.749.749 0 0 1 1.275.326.749.749 0 0 1-.215.734L9.06 8l3.22 3.22a.749.749 0 0 1-.326 1.275.749.749 0 0 1-.734-.215L8 9.06l-3.22 3.22a.751.751 0 0 1-1.042-.018.751.751 0 0 1-.018-1.042L6.94 8 3.72 4.78a.75.75 0 0 1 0-1.06Z"></path>
</svg>
      </button>
      <div class="octocat-spinner my-6 js-details-dialog-spinner"></div>
    </details-dialog>
  </details>
</template>

    <div class="Popover js-hovercard-content position-absolute" style="display: none; outline: none;">
  <div class="Popover-message Popover-message--bottom-left Popover-message--large Box color-shadow-large" style="width:360px;">
  </div>
</div>

    <template id="snippet-clipboard-copy-button">
  <div class="zeroclipboard-container position-absolute right-0 top-0">
    <clipboard-copy aria-label="Copy" class="ClipboardButton btn js-clipboard-copy m-2 p-0" data-copy-feedback="Copied!" data-tooltip-direction="w">
      <svg aria-hidden="true" height="16" viewBox="0 0 16 16" version="1.1" width="16" data-view-component="true" class="octicon octicon-copy js-clipboard-copy-icon m-2">
    <path d="M0 6.75C0 5.784.784 5 1.75 5h1.5a.75.75 0 0 1 0 1.5h-1.5a.25.25 0 0 0-.25.25v7.5c0 .138.112.25.25.25h7.5a.25.25 0 0 0 .25-.25v-1.5a.75.75 0 0 1 1.5 0v1.5A1.75 1.75 0 0 1 9.25 16h-7.5A1.75 1.75 0 0 1 0 14.25Z"></path><path d="M5 1.75C5 .784 5.784 0 6.75 0h7.5C15.216 0 16 .784 16 1.75v7.5A1.75 1.75 0 0 1 14.25 11h-7.5A1.75 1.75 0 0 1 5 9.25Zm1.75-.25a.25.25 0 0 0-.25.25v7.5c0 .138.112.25.25.25h7.5a.25.25 0 0 0 .25-.25v-7.5a.25.25 0 0 0-.25-.25Z"></path>
</svg>
      <svg aria-hidden="true" height="16" viewBox="0 0 16 16" version="1.1" width="16" data-view-component="true" class="octicon octicon-check js-clipboard-check-icon color-fg-success d-none m-2">
    <path d="M13.78 4.22a.75.75 0 0 1 0 1.06l-7.25 7.25a.75.75 0 0 1-1.06 0L2.22 9.28a.751.751 0 0 1 .018-1.042.751.751 0 0 1 1.042-.018L6 10.94l6.72-6.72a.75.75 0 0 1 1.06 0Z"></path>
</svg>
    </clipboard-copy>
  </div>
</template>
<template id="snippet-clipboard-copy-button-unpositioned">
  <div class="zeroclipboard-container">
    <clipboard-copy aria-label="Copy" class="ClipboardButton btn btn-invisible js-clipboard-copy m-2 p-0 d-flex flex-justify-center flex-items-center" data-copy-feedback="Copied!" data-tooltip-direction="w">
      <svg aria-hidden="true" height="16" viewBox="0 0 16 16" version="1.1" width="16" data-view-component="true" class="octicon octicon-copy js-clipboard-copy-icon">
    <path d="M0 6.75C0 5.784.784 5 1.75 5h1.5a.75.75 0 0 1 0 1.5h-1.5a.25.25 0 0 0-.25.25v7.5c0 .138.112.25.25.25h7.5a.25.25 0 0 0 .25-.25v-1.5a.75.75 0 0 1 1.5 0v1.5A1.75 1.75 0 0 1 9.25 16h-7.5A1.75 1.75 0 0 1 0 14.25Z"></path><path d="M5 1.75C5 .784 5.784 0 6.75 0h7.5C15.216 0 16 .784 16 1.75v7.5A1.75 1.75 0 0 1 14.25 11h-7.5A1.75 1.75 0 0 1 5 9.25Zm1.75-.25a.25.25 0 0 0-.25.25v7.5c0 .138.112.25.25.25h7.5a.25.25 0 0 0 .25-.25v-7.5a.25.25 0 0 0-.25-.25Z"></path>
</svg>
      <svg aria-hidden="true" height="16" viewBox="0 0 16 16" version="1.1" width="16" data-view-component="true" class="octicon octicon-check js-clipboard-check-icon color-fg-success d-none">
    <path d="M13.78 4.22a.75.75 0 0 1 0 1.06l-7.25 7.25a.75.75 0 0 1-1.06 0L2.22 9.28a.751.751 0 0 1 .018-1.042.751.751 0 0 1 1.042-.018L6 10.94l6.72-6.72a.75.75 0 0 1 1.06 0Z"></path>
</svg>
    </clipboard-copy>
  </div>
</template>


    <style>
      .user-mention[href$="/SunilSujith-IT"] {
        color: var(--color-user-mention-fg);
        background-color: var(--bgColor-attention-muted, var(--color-attention-subtle));
        border-radius: 2px;
        margin-left: -2px;
        margin-right: -2px;
      }
      .user-mention[href$="/SunilSujith-IT"]:before,
      .user-mention[href$="/SunilSujith-IT"]:after {
        content: '';
        display: inline-block;
        width: 2px;
      }
    </style>


    </div>
    <div id="js-global-screen-reader-notice" class="sr-only mt-n1" aria-live="polite" aria-atomic="true" ></div>
    <div id="js-global-screen-reader-notice-assertive" class="sr-only mt-n1" aria-live="assertive" aria-atomic="true"></div>
  </body>
</html>

